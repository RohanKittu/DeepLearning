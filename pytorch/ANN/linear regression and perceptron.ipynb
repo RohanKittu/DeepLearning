{
 "cells": [
  {
   "cell_type": "markdown",
   "metadata": {},
   "source": [
    "# OOPS"
   ]
  },
  {
   "cell_type": "markdown",
   "metadata": {},
   "source": [
    "creating a class and object"
   ]
  },
  {
   "cell_type": "code",
   "execution_count": 15,
   "metadata": {},
   "outputs": [
    {
     "name": "stdout",
     "output_type": "stream",
     "text": [
      "<__main__.A object at 0x123fc9810>\n"
     ]
    }
   ],
   "source": [
    "class A():\n",
    "    pass\n",
    "c = A()\n",
    "print(c)"
   ]
  },
  {
   "cell_type": "markdown",
   "metadata": {},
   "source": [
    "The first parameter of the method must be refered as self ,self point to the class."
   ]
  },
  {
   "cell_type": "code",
   "execution_count": 16,
   "metadata": {},
   "outputs": [
    {
     "name": "stdout",
     "output_type": "stream",
     "text": [
      "hello welcome\n"
     ]
    }
   ],
   "source": [
    "class Ed():\n",
    "    def fu(self):\n",
    "        print(\"hello welcome\")\n",
    "d = Ed()\n",
    "d.fu()"
   ]
  },
  {
   "cell_type": "markdown",
   "metadata": {},
   "source": [
    "There are two type of class attributes present\n",
    "- user defined class attributes\n",
    "- in built class attributes"
   ]
  },
  {
   "cell_type": "markdown",
   "metadata": {},
   "source": [
    "### In build class attributes"
   ]
  },
  {
   "cell_type": "code",
   "execution_count": 17,
   "metadata": {},
   "outputs": [
    {
     "name": "stdout",
     "output_type": "stream",
     "text": [
      "{'__module__': '__main__', 'fu': <function Ed.fu at 0x123efeef0>, '__dict__': <attribute '__dict__' of 'Ed' objects>, '__weakref__': <attribute '__weakref__' of 'Ed' objects>, '__doc__': None}\n",
      "None\n",
      "The class name is :-  Ed\n",
      "the module name is :-  __main__\n",
      "This module gives the base class names : - <class 'object'>\n"
     ]
    }
   ],
   "source": [
    "print(Ed.__dict__)\n",
    "#it shows the class documentation\n",
    "print(Ed.__doc__)\n",
    "#This gives the class name\n",
    "print(\"The class name is :- \",Ed.__name__)\n",
    "#this gives the module name in which the class is defined\n",
    "print(\"the module name is :- \",Ed.__module__)\n",
    "#The belowe attribute tells about the base class\n",
    "print(\"This module gives the base class names : -\",Ed.__base__)"
   ]
  },
  {
   "cell_type": "markdown",
   "metadata": {},
   "source": [
    "### user defined attributes"
   ]
  },
  {
   "cell_type": "code",
   "execution_count": 18,
   "metadata": {},
   "outputs": [],
   "source": [
    "class A():\n",
    "    def f():\n",
    "        pass"
   ]
  },
  {
   "cell_type": "markdown",
   "metadata": {},
   "source": [
    "There are some access specifier for the attributes\n",
    "- public\n",
    "- private\n",
    "- protected"
   ]
  },
  {
   "cell_type": "code",
   "execution_count": 19,
   "metadata": {},
   "outputs": [
    {
     "name": "stdout",
     "output_type": "stream",
     "text": [
      "The public variable is :-  hello i am public\n",
      "The protected variable is :-  hello i am protected\n"
     ]
    },
    {
     "ename": "AttributeError",
     "evalue": "'f' object has no attribute '__private'",
     "output_type": "error",
     "traceback": [
      "\u001b[0;31m---------------------------------------------------------------------------\u001b[0m",
      "\u001b[0;31mAttributeError\u001b[0m                            Traceback (most recent call last)",
      "\u001b[0;32m<ipython-input-19-0ab40d9c70e0>\u001b[0m in \u001b[0;36m<module>\u001b[0;34m\u001b[0m\n\u001b[1;32m      7\u001b[0m \u001b[0mprint\u001b[0m\u001b[0;34m(\u001b[0m\u001b[0;34m\"The public variable is :- \"\u001b[0m\u001b[0;34m,\u001b[0m\u001b[0mb\u001b[0m\u001b[0;34m.\u001b[0m\u001b[0mpublic\u001b[0m\u001b[0;34m)\u001b[0m\u001b[0;34m\u001b[0m\u001b[0;34m\u001b[0m\u001b[0m\n\u001b[1;32m      8\u001b[0m \u001b[0mprint\u001b[0m\u001b[0;34m(\u001b[0m\u001b[0;34m\"The protected variable is :- \"\u001b[0m\u001b[0;34m,\u001b[0m\u001b[0mb\u001b[0m\u001b[0;34m.\u001b[0m\u001b[0m_protected\u001b[0m\u001b[0;34m)\u001b[0m\u001b[0;34m\u001b[0m\u001b[0;34m\u001b[0m\u001b[0m\n\u001b[0;32m----> 9\u001b[0;31m \u001b[0mprint\u001b[0m\u001b[0;34m(\u001b[0m\u001b[0;34m\"Thr private variable is :- \"\u001b[0m\u001b[0;34m,\u001b[0m\u001b[0mb\u001b[0m\u001b[0;34m.\u001b[0m\u001b[0m__private\u001b[0m\u001b[0;34m)\u001b[0m\u001b[0;34m\u001b[0m\u001b[0;34m\u001b[0m\u001b[0m\n\u001b[0m",
      "\u001b[0;31mAttributeError\u001b[0m: 'f' object has no attribute '__private'"
     ]
    }
   ],
   "source": [
    "class f:\n",
    "    def __init__(self):\n",
    "        self.public = (\"hello i am public\")\n",
    "        self._protected = (\"hello i am protected\")\n",
    "        self.__private = (\"I am private\")\n",
    "b = f()\n",
    "print(\"The public variable is :- \",b.public)\n",
    "print(\"The protected variable is :- \",b._protected)\n",
    "print(\"Thr private variable is :- \",b.__private)"
   ]
  },
  {
   "cell_type": "markdown",
   "metadata": {},
   "source": [
    "Note : we can have public ,private and potected methods as wll"
   ]
  },
  {
   "cell_type": "markdown",
   "metadata": {},
   "source": [
    "#### class variable and instance variableB"
   ]
  },
  {
   "cell_type": "code",
   "execution_count": 20,
   "metadata": {},
   "outputs": [
    {
     "name": "stdout",
     "output_type": "stream",
     "text": [
      "hello\n"
     ]
    }
   ],
   "source": [
    "class G():\n",
    "    #class variable\n",
    "    name = \"hello\"\n",
    "    def some_name(self,name1):\n",
    "        #class variable\n",
    "        self.name1 = name1\n",
    "#instance variable\n",
    "obj = G()\n",
    "print(obj.name)\n",
    "obj.some_name(\"rohan\")"
   ]
  },
  {
   "cell_type": "markdown",
   "metadata": {},
   "source": [
    "#### cconstructure and distructure"
   ]
  },
  {
   "cell_type": "code",
   "execution_count": 21,
   "metadata": {},
   "outputs": [
    {
     "name": "stdout",
     "output_type": "stream",
     "text": [
      "constructure is init\n",
      "destructing the object\n"
     ]
    }
   ],
   "source": [
    "class D():\n",
    "    def __init__(self):\n",
    "        print(\"constructure is init\")\n",
    "    def __del__(self):\n",
    "        print(\"destructing the object\")\n",
    "\n",
    "if __name__ == \"__main__\":\n",
    "    b = D()\n",
    "    del b"
   ]
  },
  {
   "cell_type": "markdown",
   "metadata": {},
   "source": [
    "### multiple constructors"
   ]
  },
  {
   "cell_type": "code",
   "execution_count": 22,
   "metadata": {},
   "outputs": [
    {
     "data": {
      "text/plain": [
       "23"
      ]
     },
     "execution_count": 22,
     "metadata": {},
     "output_type": "execute_result"
    }
   ],
   "source": [
    "class D():\n",
    "    def __init__(self,name,roll_no,height,weight):\n",
    "        self.name = name\n",
    "        self.roll_no = roll_no\n",
    "        self.height = height\n",
    "        self.weight = weight\n",
    "    @classmethod\n",
    "    def r(self,roll_no,height,weight,name):\n",
    "        self.name = name\n",
    "        self.roll_no = roll_no\n",
    "        self.height = height                         \n",
    "        self.weight = weight\n",
    "v = D(\"rohan\",23,45,67)\n",
    "v.roll_no"
   ]
  },
  {
   "cell_type": "markdown",
   "metadata": {},
   "source": [
    "### inheretance\n",
    "single ingeretance"
   ]
  },
  {
   "cell_type": "code",
   "execution_count": 23,
   "metadata": {},
   "outputs": [
    {
     "name": "stdout",
     "output_type": "stream",
     "text": [
      "hello i am a base class\n"
     ]
    }
   ],
   "source": [
    "class base():\n",
    "    def fu(self):\n",
    "        print(\"hello i am a base class\")\n",
    "class child(base):\n",
    "    def f(self):\n",
    "        print(\"hello i am a child class\")\n",
    "c = child()\n",
    "c.fu()"
   ]
  },
  {
   "cell_type": "markdown",
   "metadata": {},
   "source": [
    "multiple inheretance and super keyword"
   ]
  },
  {
   "cell_type": "code",
   "execution_count": 24,
   "metadata": {},
   "outputs": [
    {
     "data": {
      "text/plain": [
       "'hello'"
      ]
     },
     "execution_count": 24,
     "metadata": {},
     "output_type": "execute_result"
    }
   ],
   "source": [
    "class base:\n",
    "    def __init__(self,name):\n",
    "        self.name = name\n",
    "    pass\n",
    "class ch(base):\n",
    "    def __init__(self,name):\n",
    "        super(). __init__(name)\n",
    "obj = ch(\"hello\")\n",
    "obj.name"
   ]
  },
  {
   "cell_type": "markdown",
   "metadata": {},
   "source": [
    "# Linear regression"
   ]
  },
  {
   "cell_type": "markdown",
   "metadata": {},
   "source": [
    "creating the data for linear regression"
   ]
  },
  {
   "cell_type": "code",
   "execution_count": 25,
   "metadata": {},
   "outputs": [],
   "source": [
    "import numpy as np\n",
    "# create dummy data for training\n",
    "\n",
    "#creating the x_values\n",
    "x_values = [i for i in range(11)]\n",
    "#making the list to array\n",
    "x_train = np.array(x_values, dtype=np.float32)\n",
    "#reshaping the array\n",
    "x_train = x_train.reshape(-1, 1)\n",
    "\n",
    "\n",
    "#creating the y_values \n",
    "y_values = [2*i + 1 for i in x_values]\n",
    "y_train = np.array(y_values, dtype=np.float32)\n",
    "y_train = y_train.reshape(-1, 1)"
   ]
  },
  {
   "cell_type": "code",
   "execution_count": 26,
   "metadata": {},
   "outputs": [
    {
     "data": {
      "text/plain": [
       "[0, 1, 2, 3, 4, 5, 6, 7, 8, 9, 10]"
      ]
     },
     "execution_count": 26,
     "metadata": {},
     "output_type": "execute_result"
    }
   ],
   "source": [
    "x_values"
   ]
  },
  {
   "cell_type": "code",
   "execution_count": 27,
   "metadata": {},
   "outputs": [
    {
     "data": {
      "text/plain": [
       "[1, 3, 5, 7, 9, 11, 13, 15, 17, 19, 21]"
      ]
     },
     "execution_count": 27,
     "metadata": {},
     "output_type": "execute_result"
    }
   ],
   "source": [
    "y_values"
   ]
  },
  {
   "cell_type": "code",
   "execution_count": 28,
   "metadata": {},
   "outputs": [
    {
     "data": {
      "text/plain": [
       "array([[ 0.],\n",
       "       [ 1.],\n",
       "       [ 2.],\n",
       "       [ 3.],\n",
       "       [ 4.],\n",
       "       [ 5.],\n",
       "       [ 6.],\n",
       "       [ 7.],\n",
       "       [ 8.],\n",
       "       [ 9.],\n",
       "       [10.]], dtype=float32)"
      ]
     },
     "execution_count": 28,
     "metadata": {},
     "output_type": "execute_result"
    }
   ],
   "source": [
    "x_train"
   ]
  },
  {
   "cell_type": "code",
   "execution_count": 29,
   "metadata": {},
   "outputs": [
    {
     "data": {
      "text/plain": [
       "array([[ 1.],\n",
       "       [ 3.],\n",
       "       [ 5.],\n",
       "       [ 7.],\n",
       "       [ 9.],\n",
       "       [11.],\n",
       "       [13.],\n",
       "       [15.],\n",
       "       [17.],\n",
       "       [19.],\n",
       "       [21.]], dtype=float32)"
      ]
     },
     "execution_count": 29,
     "metadata": {},
     "output_type": "execute_result"
    }
   ],
   "source": [
    "y_train"
   ]
  },
  {
   "cell_type": "markdown",
   "metadata": {},
   "source": [
    "creating the linear regression classifier"
   ]
  },
  {
   "cell_type": "code",
   "execution_count": 30,
   "metadata": {},
   "outputs": [],
   "source": [
    "import torch\n",
    "from torch.autograd import Variable\n",
    "class linearRegression(torch.nn.Module):\n",
    "    def __init__(self, inputSize, outputSize):\n",
    "        super(linearRegression, self).__init__()\n",
    "        self.linear = torch.nn.Linear(inputSize, outputSize)\n",
    "\n",
    "    def forward(self, x):\n",
    "        out = self.linear(x)\n",
    "        return out"
   ]
  },
  {
   "cell_type": "markdown",
   "metadata": {},
   "source": [
    "# using the network"
   ]
  },
  {
   "cell_type": "markdown",
   "metadata": {},
   "source": [
    "down below we are creating the neural network,where inputDim tells the number of input bubbles in the input layer,outputDim tells the number of output bubbles in the output layers."
   ]
  },
  {
   "cell_type": "code",
   "execution_count": 31,
   "metadata": {},
   "outputs": [],
   "source": [
    "inputDim = 1        # takes variable 'x' \n",
    "outputDim = 1       # takes variable 'y'\n",
    "learningRate = 0.01 \n",
    "epochs = 100\n",
    "\n",
    "#now the network is build.\n",
    "model = linearRegression(inputDim, outputDim)"
   ]
  },
  {
   "cell_type": "markdown",
   "metadata": {},
   "source": [
    "now we are passing the data into neural network."
   ]
  },
  {
   "cell_type": "markdown",
   "metadata": {},
   "source": [
    "After that, we initialize the loss (Mean Squared Error) and optimization (Stochastic Gradient Descent) functions that we’ll use in the training of this model."
   ]
  },
  {
   "cell_type": "code",
   "execution_count": 32,
   "metadata": {},
   "outputs": [],
   "source": [
    "criterion = torch.nn.MSELoss() \n",
    "optimizer = torch.optim.SGD(model.parameters(), lr=learningRate)"
   ]
  },
  {
   "cell_type": "markdown",
   "metadata": {},
   "source": [
    "After completing all the initializations, we can now begin to train our model. Following is the code for training the model."
   ]
  },
  {
   "cell_type": "code",
   "execution_count": 33,
   "metadata": {},
   "outputs": [
    {
     "name": "stdout",
     "output_type": "stream",
     "text": [
      "tensor(71.2547, grad_fn=<MseLossBackward>)\n",
      "epoch 0, loss 71.25465393066406\n",
      "tensor(5.8120, grad_fn=<MseLossBackward>)\n",
      "epoch 1, loss 5.812027454376221\n",
      "tensor(0.4741, grad_fn=<MseLossBackward>)\n",
      "epoch 2, loss 0.47407886385917664\n",
      "tensor(0.0387, grad_fn=<MseLossBackward>)\n",
      "epoch 3, loss 0.038679301738739014\n",
      "tensor(0.0032, grad_fn=<MseLossBackward>)\n",
      "epoch 4, loss 0.003164922120049596\n",
      "tensor(0.0003, grad_fn=<MseLossBackward>)\n",
      "epoch 5, loss 0.00026798731414601207\n",
      "tensor(3.1604e-05, grad_fn=<MseLossBackward>)\n",
      "epoch 6, loss 3.16039877361618e-05\n",
      "tensor(1.2216e-05, grad_fn=<MseLossBackward>)\n",
      "epoch 7, loss 1.221599814016372e-05\n",
      "tensor(1.0526e-05, grad_fn=<MseLossBackward>)\n",
      "epoch 8, loss 1.052606512530474e-05\n",
      "tensor(1.0283e-05, grad_fn=<MseLossBackward>)\n",
      "epoch 9, loss 1.0282961738994345e-05\n",
      "tensor(1.0157e-05, grad_fn=<MseLossBackward>)\n",
      "epoch 10, loss 1.0157100405194797e-05\n",
      "tensor(1.0043e-05, grad_fn=<MseLossBackward>)\n",
      "epoch 11, loss 1.0042811481980607e-05\n",
      "tensor(9.9299e-06, grad_fn=<MseLossBackward>)\n",
      "epoch 12, loss 9.929900443239603e-06\n",
      "tensor(9.8197e-06, grad_fn=<MseLossBackward>)\n",
      "epoch 13, loss 9.819716069614515e-06\n",
      "tensor(9.7093e-06, grad_fn=<MseLossBackward>)\n",
      "epoch 14, loss 9.70930796029279e-06\n",
      "tensor(9.6011e-06, grad_fn=<MseLossBackward>)\n",
      "epoch 15, loss 9.601079000276513e-06\n",
      "tensor(9.4936e-06, grad_fn=<MseLossBackward>)\n",
      "epoch 16, loss 9.49355944612762e-06\n",
      "tensor(9.3881e-06, grad_fn=<MseLossBackward>)\n",
      "epoch 17, loss 9.388105354446452e-06\n",
      "tensor(9.2838e-06, grad_fn=<MseLossBackward>)\n",
      "epoch 18, loss 9.283784493163694e-06\n",
      "tensor(9.1790e-06, grad_fn=<MseLossBackward>)\n",
      "epoch 19, loss 9.178969776257873e-06\n",
      "tensor(9.0775e-06, grad_fn=<MseLossBackward>)\n",
      "epoch 20, loss 9.07753474166384e-06\n",
      "tensor(8.9759e-06, grad_fn=<MseLossBackward>)\n",
      "epoch 21, loss 8.975855962489732e-06\n",
      "tensor(8.8754e-06, grad_fn=<MseLossBackward>)\n",
      "epoch 22, loss 8.875383173290174e-06\n",
      "tensor(8.7770e-06, grad_fn=<MseLossBackward>)\n",
      "epoch 23, loss 8.77704587765038e-06\n",
      "tensor(8.6781e-06, grad_fn=<MseLossBackward>)\n",
      "epoch 24, loss 8.678107406012714e-06\n",
      "tensor(8.5814e-06, grad_fn=<MseLossBackward>)\n",
      "epoch 25, loss 8.581354450143408e-06\n",
      "tensor(8.4853e-06, grad_fn=<MseLossBackward>)\n",
      "epoch 26, loss 8.485312719130889e-06\n",
      "tensor(8.3900e-06, grad_fn=<MseLossBackward>)\n",
      "epoch 27, loss 8.390047696593683e-06\n",
      "tensor(8.2970e-06, grad_fn=<MseLossBackward>)\n",
      "epoch 28, loss 8.297034582938068e-06\n",
      "tensor(8.2039e-06, grad_fn=<MseLossBackward>)\n",
      "epoch 29, loss 8.203925062844064e-06\n",
      "tensor(8.1129e-06, grad_fn=<MseLossBackward>)\n",
      "epoch 30, loss 8.112920113489963e-06\n",
      "tensor(8.0215e-06, grad_fn=<MseLossBackward>)\n",
      "epoch 31, loss 8.021450412343256e-06\n",
      "tensor(7.9326e-06, grad_fn=<MseLossBackward>)\n",
      "epoch 32, loss 7.932632797746919e-06\n",
      "tensor(7.8436e-06, grad_fn=<MseLossBackward>)\n",
      "epoch 33, loss 7.843594175938051e-06\n",
      "tensor(7.7571e-06, grad_fn=<MseLossBackward>)\n",
      "epoch 34, loss 7.75706212152727e-06\n",
      "tensor(7.6691e-06, grad_fn=<MseLossBackward>)\n",
      "epoch 35, loss 7.66905395721551e-06\n",
      "tensor(7.5839e-06, grad_fn=<MseLossBackward>)\n",
      "epoch 36, loss 7.583902970509371e-06\n",
      "tensor(7.4992e-06, grad_fn=<MseLossBackward>)\n",
      "epoch 37, loss 7.49924402043689e-06\n",
      "tensor(7.4148e-06, grad_fn=<MseLossBackward>)\n",
      "epoch 38, loss 7.41480562282959e-06\n",
      "tensor(7.3321e-06, grad_fn=<MseLossBackward>)\n",
      "epoch 39, loss 7.332109362323536e-06\n",
      "tensor(7.2509e-06, grad_fn=<MseLossBackward>)\n",
      "epoch 40, loss 7.2508860284870025e-06\n",
      "tensor(7.1696e-06, grad_fn=<MseLossBackward>)\n",
      "epoch 41, loss 7.169585387600819e-06\n",
      "tensor(7.0903e-06, grad_fn=<MseLossBackward>)\n",
      "epoch 42, loss 7.09031883161515e-06\n",
      "tensor(7.0104e-06, grad_fn=<MseLossBackward>)\n",
      "epoch 43, loss 7.0104347287269775e-06\n",
      "tensor(6.9334e-06, grad_fn=<MseLossBackward>)\n",
      "epoch 44, loss 6.93341053192853e-06\n",
      "tensor(6.8551e-06, grad_fn=<MseLossBackward>)\n",
      "epoch 45, loss 6.8550525611499324e-06\n",
      "tensor(6.7796e-06, grad_fn=<MseLossBackward>)\n",
      "epoch 46, loss 6.779603609174956e-06\n",
      "tensor(6.7027e-06, grad_fn=<MseLossBackward>)\n",
      "epoch 47, loss 6.702655809931457e-06\n",
      "tensor(6.6279e-06, grad_fn=<MseLossBackward>)\n",
      "epoch 48, loss 6.627881248277845e-06\n",
      "tensor(6.5537e-06, grad_fn=<MseLossBackward>)\n",
      "epoch 49, loss 6.553681942023104e-06\n",
      "tensor(6.4805e-06, grad_fn=<MseLossBackward>)\n",
      "epoch 50, loss 6.480532192654209e-06\n",
      "tensor(6.4083e-06, grad_fn=<MseLossBackward>)\n",
      "epoch 51, loss 6.40829830445e-06\n",
      "tensor(6.3369e-06, grad_fn=<MseLossBackward>)\n",
      "epoch 52, loss 6.336919341265457e-06\n",
      "tensor(6.2659e-06, grad_fn=<MseLossBackward>)\n",
      "epoch 53, loss 6.265920092118904e-06\n",
      "tensor(6.1966e-06, grad_fn=<MseLossBackward>)\n",
      "epoch 54, loss 6.1966097746335436e-06\n",
      "tensor(6.1263e-06, grad_fn=<MseLossBackward>)\n",
      "epoch 55, loss 6.126254447735846e-06\n",
      "tensor(6.0583e-06, grad_fn=<MseLossBackward>)\n",
      "epoch 56, loss 6.0583142840187065e-06\n",
      "tensor(5.9900e-06, grad_fn=<MseLossBackward>)\n",
      "epoch 57, loss 5.989951205265243e-06\n",
      "tensor(5.9243e-06, grad_fn=<MseLossBackward>)\n",
      "epoch 58, loss 5.924293418502202e-06\n",
      "tensor(5.8576e-06, grad_fn=<MseLossBackward>)\n",
      "epoch 59, loss 5.85756242799107e-06\n",
      "tensor(5.7933e-06, grad_fn=<MseLossBackward>)\n",
      "epoch 60, loss 5.7932543313654605e-06\n",
      "tensor(5.7277e-06, grad_fn=<MseLossBackward>)\n",
      "epoch 61, loss 5.72771978113451e-06\n",
      "tensor(5.6632e-06, grad_fn=<MseLossBackward>)\n",
      "epoch 62, loss 5.663214778905967e-06\n",
      "tensor(5.6000e-06, grad_fn=<MseLossBackward>)\n",
      "epoch 63, loss 5.600032636721153e-06\n",
      "tensor(5.5379e-06, grad_fn=<MseLossBackward>)\n",
      "epoch 64, loss 5.5379155128321145e-06\n",
      "tensor(5.4756e-06, grad_fn=<MseLossBackward>)\n",
      "epoch 65, loss 5.475633770402055e-06\n",
      "tensor(5.4151e-06, grad_fn=<MseLossBackward>)\n",
      "epoch 66, loss 5.415090072347084e-06\n",
      "tensor(5.3555e-06, grad_fn=<MseLossBackward>)\n",
      "epoch 67, loss 5.35545268576243e-06\n",
      "tensor(5.2945e-06, grad_fn=<MseLossBackward>)\n",
      "epoch 68, loss 5.29454064235324e-06\n",
      "tensor(5.2352e-06, grad_fn=<MseLossBackward>)\n",
      "epoch 69, loss 5.235188382357592e-06\n",
      "tensor(5.1764e-06, grad_fn=<MseLossBackward>)\n",
      "epoch 70, loss 5.176449121790938e-06\n",
      "tensor(5.1191e-06, grad_fn=<MseLossBackward>)\n",
      "epoch 71, loss 5.11910275236005e-06\n",
      "tensor(5.0619e-06, grad_fn=<MseLossBackward>)\n",
      "epoch 72, loss 5.061922365712235e-06\n",
      "tensor(5.0061e-06, grad_fn=<MseLossBackward>)\n",
      "epoch 73, loss 5.00607575304457e-06\n",
      "tensor(4.9494e-06, grad_fn=<MseLossBackward>)\n",
      "epoch 74, loss 4.949362846673466e-06\n",
      "tensor(4.8941e-06, grad_fn=<MseLossBackward>)\n",
      "epoch 75, loss 4.8940846681944095e-06\n",
      "tensor(4.8396e-06, grad_fn=<MseLossBackward>)\n",
      "epoch 76, loss 4.839644589083036e-06\n",
      "tensor(4.7851e-06, grad_fn=<MseLossBackward>)\n",
      "epoch 77, loss 4.785089004144538e-06\n",
      "tensor(4.7314e-06, grad_fn=<MseLossBackward>)\n",
      "epoch 78, loss 4.731383342004847e-06\n",
      "tensor(4.6793e-06, grad_fn=<MseLossBackward>)\n",
      "epoch 79, loss 4.679347966884961e-06\n",
      "tensor(4.6276e-06, grad_fn=<MseLossBackward>)\n",
      "epoch 80, loss 4.627625912689837e-06\n",
      "tensor(4.5755e-06, grad_fn=<MseLossBackward>)\n",
      "epoch 81, loss 4.57552323496202e-06\n",
      "tensor(4.5246e-06, grad_fn=<MseLossBackward>)\n",
      "epoch 82, loss 4.524568794295192e-06\n",
      "tensor(4.4737e-06, grad_fn=<MseLossBackward>)\n",
      "epoch 83, loss 4.4736743802786805e-06\n",
      "tensor(4.4239e-06, grad_fn=<MseLossBackward>)\n",
      "epoch 84, loss 4.423921382112894e-06\n",
      "tensor(4.3753e-06, grad_fn=<MseLossBackward>)\n",
      "epoch 85, loss 4.375332537165377e-06\n",
      "tensor(4.3261e-06, grad_fn=<MseLossBackward>)\n",
      "epoch 86, loss 4.326142061472638e-06\n",
      "tensor(4.2778e-06, grad_fn=<MseLossBackward>)\n",
      "epoch 87, loss 4.27780423706281e-06\n",
      "tensor(4.2294e-06, grad_fn=<MseLossBackward>)\n",
      "epoch 88, loss 4.229449132253649e-06\n",
      "tensor(4.1828e-06, grad_fn=<MseLossBackward>)\n",
      "epoch 89, loss 4.182820703135803e-06\n",
      "tensor(4.1349e-06, grad_fn=<MseLossBackward>)\n",
      "epoch 90, loss 4.134926712140441e-06\n",
      "tensor(4.0903e-06, grad_fn=<MseLossBackward>)\n",
      "epoch 91, loss 4.0902973523770925e-06\n",
      "tensor(4.0446e-06, grad_fn=<MseLossBackward>)\n",
      "epoch 92, loss 4.044582055939827e-06\n",
      "tensor(3.9996e-06, grad_fn=<MseLossBackward>)\n",
      "epoch 93, loss 3.9996207306103315e-06\n",
      "tensor(3.9551e-06, grad_fn=<MseLossBackward>)\n",
      "epoch 94, loss 3.955125066568144e-06\n",
      "tensor(3.9106e-06, grad_fn=<MseLossBackward>)\n",
      "epoch 95, loss 3.910585746780271e-06\n",
      "tensor(3.8661e-06, grad_fn=<MseLossBackward>)\n",
      "epoch 96, loss 3.866130100504961e-06\n",
      "tensor(3.8226e-06, grad_fn=<MseLossBackward>)\n",
      "epoch 97, loss 3.822608505288372e-06\n",
      "tensor(3.7805e-06, grad_fn=<MseLossBackward>)\n",
      "epoch 98, loss 3.780543465836672e-06\n",
      "tensor(3.7386e-06, grad_fn=<MseLossBackward>)\n",
      "epoch 99, loss 3.7386337226053e-06\n"
     ]
    }
   ],
   "source": [
    "for epoch in range(epochs):\n",
    "    # Converting inputs and labels to Variable\n",
    "    if torch.cuda.is_available():\n",
    "        inputs = Variable(torch.from_numpy(x_train).cuda())\n",
    "        labels = Variable(torch.from_numpy(y_train).cuda())\n",
    "    else:\n",
    "        inputs = Variable(torch.from_numpy(x_train))\n",
    "        labels = Variable(torch.from_numpy(y_train))\n",
    "\n",
    "    # Clear gradient buffers because we don't want any gradient from previous epoch to carry forward, dont want to cummulate gradients\n",
    "    optimizer.zero_grad()\n",
    "\n",
    "    # get output from the model, given the inputs\n",
    "    outputs = model(inputs)\n",
    "\n",
    "    # get loss for the predicted output\n",
    "    loss = criterion(outputs, labels)\n",
    "    print(loss)\n",
    "    # get gradients w.r.t to parameters\n",
    "    loss.backward()\n",
    "\n",
    "    # update parameters\n",
    "    optimizer.step()\n",
    "\n",
    "    print('epoch {}, loss {}'.format(epoch, loss.item()))"
   ]
  },
  {
   "cell_type": "markdown",
   "metadata": {},
   "source": [
    "Now that our Linear Regression Model is trained, let’s test it. Since it’s a very trivial model, we’ll test this on our existing dataset and also plot to see the original vs the predicted outputs."
   ]
  },
  {
   "cell_type": "code",
   "execution_count": 34,
   "metadata": {},
   "outputs": [
    {
     "name": "stdout",
     "output_type": "stream",
     "text": [
      "[[ 0.99640334]\n",
      " [ 2.9969215 ]\n",
      " [ 4.9974394 ]\n",
      " [ 6.9979577 ]\n",
      " [ 8.998476  ]\n",
      " [10.998994  ]\n",
      " [12.999513  ]\n",
      " [15.0000305 ]\n",
      " [17.000547  ]\n",
      " [19.001066  ]\n",
      " [21.001583  ]]\n"
     ]
    },
    {
     "data": {
      "image/png": "[encoded data removed]",
      "text/plain": [
       "<Figure size 432x288 with 1 Axes>"
      ]
     },
     "metadata": {
      "needs_background": "light"
     },
     "output_type": "display_data"
    }
   ],
   "source": [
    "from matplotlib import pyplot as plt\n",
    "with torch.no_grad(): # we don't need gradients in the testing phase\n",
    "    if torch.cuda.is_available():\n",
    "        predicted = model(Variable(torch.from_numpy(x_train).cuda())).cpu().data.numpy()\n",
    "    else:\n",
    "        predicted = model(Variable(torch.from_numpy(x_train))).data.numpy()\n",
    "    print(predicted)\n",
    "\n",
    "plt.clf()\n",
    "plt.plot(x_train, y_train, 'go', label='True data', alpha=0.5)\n",
    "plt.plot(x_train, predicted, '--', label='Predictions', alpha=0.5)\n",
    "plt.legend(loc='best')\n",
    "plt.show()"
   ]
  },
  {
   "cell_type": "code",
   "execution_count": null,
   "metadata": {},
   "outputs": [],
   "source": []
  },
  {
   "cell_type": "code",
   "execution_count": 35,
   "metadata": {},
   "outputs": [],
   "source": [
    "import torch"
   ]
  },
  {
   "cell_type": "code",
   "execution_count": 36,
   "metadata": {},
   "outputs": [
    {
     "data": {
      "text/plain": [
       "tensor(1)"
      ]
     },
     "execution_count": 36,
     "metadata": {},
     "output_type": "execute_result"
    }
   ],
   "source": [
    "torch.tensor(1)"
   ]
  },
  {
   "cell_type": "code",
   "execution_count": 37,
   "metadata": {},
   "outputs": [
    {
     "data": {
      "text/plain": [
       "tensor([12,  3])"
      ]
     },
     "execution_count": 37,
     "metadata": {},
     "output_type": "execute_result"
    }
   ],
   "source": [
    "torch.tensor([12,3])"
   ]
  },
  {
   "cell_type": "code",
   "execution_count": 38,
   "metadata": {},
   "outputs": [],
   "source": [
    "x=torch.tensor([[1,2,3],[4,56,6]])\n",
    "y=torch.tensor([[78,89,45],[90,89,54]])"
   ]
  },
  {
   "cell_type": "markdown",
   "metadata": {},
   "source": [
    "# Appling ANN on the vector data"
   ]
  },
  {
   "cell_type": "markdown",
   "metadata": {},
   "source": [
    "note :- If we have the regression problem ,then we should not apply activation function,if its a classification problem ,then we apply activation function"
   ]
  },
  {
   "cell_type": "markdown",
   "metadata": {},
   "source": [
    "# data preperation and preprocessing"
   ]
  },
  {
   "cell_type": "code",
   "execution_count": 39,
   "metadata": {},
   "outputs": [],
   "source": [
    "import numpy as np\n",
    "# create dummy data for training\n",
    "\n",
    "#creating the x_values\n",
    "x_values = [i for i in range(11)]\n",
    "#making the list to array\n",
    "x_train = np.array(x_values, dtype=np.float32)\n",
    "#reshaping the array\n",
    "x_train = x_train.reshape(-1, 1)\n",
    "\n",
    "\n",
    "#creating the y_values \n",
    "y_values = [2*i + 1 for i in x_values]\n",
    "y_train = np.array(y_values, dtype=np.float32)\n",
    "y_train = y_train.reshape(-1, 1)"
   ]
  },
  {
   "cell_type": "code",
   "execution_count": 40,
   "metadata": {},
   "outputs": [
    {
     "data": {
      "text/plain": [
       "array([[ 1.],\n",
       "       [ 3.],\n",
       "       [ 5.],\n",
       "       [ 7.],\n",
       "       [ 9.],\n",
       "       [11.],\n",
       "       [13.],\n",
       "       [15.],\n",
       "       [17.],\n",
       "       [19.],\n",
       "       [21.]], dtype=float32)"
      ]
     },
     "execution_count": 40,
     "metadata": {},
     "output_type": "execute_result"
    }
   ],
   "source": [
    "x_train\n",
    "y_train"
   ]
  },
  {
   "cell_type": "code",
   "execution_count": 41,
   "metadata": {},
   "outputs": [
    {
     "data": {
      "text/plain": [
       "'1.3.1'"
      ]
     },
     "execution_count": 41,
     "metadata": {},
     "output_type": "execute_result"
    }
   ],
   "source": [
    "torch.__version__"
   ]
  },
  {
   "cell_type": "code",
   "execution_count": 42,
   "metadata": {},
   "outputs": [],
   "source": [
    "#defining the neural network frame work.\n",
    "import torch\n",
    "from torch.autograd import Variable\n",
    "class linearRegression(torch.nn.Module):\n",
    "    def __init__(self, inputSize, outputSize):\n",
    "        super(linearRegression, self).__init__()\n",
    "        self.layer1 = torch.nn.Linear(inputSize, outputSize)\n",
    "        self.layer2 = torch.nn.Linear(outputSize,outputSize)\n",
    "    def forward(self, x):\n",
    "        layer1_output = self.layer1(x)\n",
    "        layer2_output = self.layer2(layer1_output)\n",
    "        return layer2_output\n",
    "        #return layer1_output"
   ]
  },
  {
   "cell_type": "code",
   "execution_count": 43,
   "metadata": {},
   "outputs": [
    {
     "name": "stdout",
     "output_type": "stream",
     "text": [
      "linearRegression(\n",
      "  (layer1): Linear(in_features=1, out_features=1, bias=True)\n",
      "  (layer2): Linear(in_features=1, out_features=1, bias=True)\n",
      ")\n"
     ]
    }
   ],
   "source": [
    "#initilizing the neural network\n",
    "brain = linearRegression(1,1)\n",
    "print(brain)"
   ]
  },
  {
   "cell_type": "code",
   "execution_count": 44,
   "metadata": {},
   "outputs": [],
   "source": [
    "#few parameter for the running the model.\n",
    "learning_rate = 0.01\n",
    "epoch = 100"
   ]
  },
  {
   "cell_type": "markdown",
   "metadata": {},
   "source": [
    "Step 3) Optimizer and Loss\n",
    "Next, you should define the Optimizer and the Loss Function for our training process."
   ]
  },
  {
   "cell_type": "code",
   "execution_count": 45,
   "metadata": {},
   "outputs": [],
   "source": [
    "# Define Optimizer and Loss Function\n",
    "optimizer = torch.optim.SGD(brain.parameters(), lr=learning_rate)\n",
    "loss_func = torch.nn.MSELoss()"
   ]
  },
  {
   "cell_type": "markdown",
   "metadata": {},
   "source": [
    "Step 4) Training\n",
    "\n",
    "Now let's start our training process. With an epoch of 250, you will iterate our data to find the best value for our hyperparameters."
   ]
  },
  {
   "cell_type": "code",
   "execution_count": 46,
   "metadata": {},
   "outputs": [],
   "source": [
    "x=Variable(torch.from_numpy(x_train),requires_grad=True)\n",
    "y=Variable(torch.from_numpy(y_train),requires_grad=True)"
   ]
  },
  {
   "cell_type": "code",
   "execution_count": 47,
   "metadata": {},
   "outputs": [
    {
     "name": "stdout",
     "output_type": "stream",
     "text": [
      "epoch 0, loss 191.08831787109375 \n",
      "epoch 1, loss 164.63526916503906 \n",
      "epoch 2, loss 143.23992919921875 \n",
      "epoch 3, loss 100.6243667602539 \n",
      "epoch 4, loss 5.407934665679932 \n",
      "epoch 5, loss 13.742831230163574 \n",
      "epoch 6, loss 49.32242202758789 \n",
      "epoch 7, loss 21.271541595458984 \n",
      "epoch 8, loss 72.41836547851562 \n",
      "epoch 9, loss 3.354529619216919 \n",
      "epoch 10, loss 11.646188735961914 \n",
      "epoch 11, loss 23.058122634887695 \n",
      "epoch 12, loss 76.505859375 \n",
      "epoch 13, loss 1.1328445672988892 \n",
      "epoch 14, loss 3.462801218032837 \n",
      "epoch 15, loss 8.815278053283691 \n",
      "epoch 16, loss 30.903596878051758 \n",
      "epoch 17, loss 28.78058433532715 \n",
      "epoch 18, loss 89.86408233642578 \n",
      "epoch 19, loss 2.5055577754974365 \n",
      "epoch 20, loss 6.2965779304504395 \n",
      "epoch 21, loss 21.4255313873291 \n",
      "epoch 22, loss 27.55689239501953 \n",
      "epoch 23, loss 85.34708404541016 \n",
      "epoch 24, loss 1.3304615020751953 \n",
      "epoch 25, loss 3.230889320373535 \n",
      "epoch 26, loss 10.352380752563477 \n",
      "epoch 27, loss 19.28655242919922 \n",
      "epoch 28, loss 62.331912994384766 \n",
      "epoch 29, loss 5.276963710784912 \n",
      "epoch 30, loss 17.193443298339844 \n",
      "epoch 31, loss 24.239904403686523 \n",
      "epoch 32, loss 74.96198272705078 \n",
      "epoch 33, loss 0.3302537500858307 \n",
      "epoch 34, loss 0.43850472569465637 \n",
      "epoch 35, loss 0.7531003952026367 \n",
      "epoch 36, loss 1.8057599067687988 \n",
      "epoch 37, loss 4.265417575836182 \n",
      "epoch 38, loss 13.566475868225098 \n",
      "epoch 39, loss 21.38538360595703 \n",
      "epoch 40, loss 66.72557830810547 \n",
      "epoch 41, loss 2.008202075958252 \n",
      "epoch 42, loss 5.83430290222168 \n",
      "epoch 43, loss 11.995187759399414 \n",
      "epoch 44, loss 38.61623764038086 \n",
      "epoch 45, loss 18.643972396850586 \n",
      "epoch 46, loss 58.134498596191406 \n",
      "epoch 47, loss 5.401047229766846 \n",
      "epoch 48, loss 16.808263778686523 \n",
      "epoch 49, loss 21.880096435546875 \n",
      "epoch 50, loss 66.21234130859375 \n",
      "epoch 51, loss 1.3216087818145752 \n",
      "epoch 52, loss 3.399843692779541 \n",
      "epoch 53, loss 7.245536804199219 \n",
      "epoch 54, loss 22.541196823120117 \n",
      "epoch 55, loss 22.265295028686523 \n",
      "epoch 56, loss 66.38213348388672 \n",
      "epoch 57, loss 0.962916910648346 \n",
      "epoch 58, loss 2.2339913845062256 \n",
      "epoch 59, loss 4.798151016235352 \n",
      "epoch 60, loss 14.401131629943848 \n",
      "epoch 61, loss 19.510133743286133 \n",
      "epoch 62, loss 58.477928161621094 \n",
      "epoch 63, loss 3.4535605907440186 \n",
      "epoch 64, loss 9.941794395446777 \n",
      "epoch 65, loss 15.787604331970215 \n",
      "epoch 66, loss 47.64862060546875 \n",
      "epoch 67, loss 9.044597625732422 \n",
      "epoch 68, loss 27.314735412597656 \n",
      "epoch 69, loss 19.448476791381836 \n",
      "epoch 70, loss 57.0872917175293 \n",
      "epoch 71, loss 3.2103240489959717 \n",
      "epoch 72, loss 8.907797813415527 \n",
      "epoch 73, loss 14.136614799499512 \n",
      "epoch 74, loss 41.97481918334961 \n",
      "epoch 75, loss 11.255400657653809 \n",
      "epoch 76, loss 33.325828552246094 \n",
      "epoch 77, loss 15.728812217712402 \n",
      "epoch 78, loss 45.936763763427734 \n",
      "epoch 79, loss 8.169211387634277 \n",
      "epoch 80, loss 23.726167678833008 \n",
      "epoch 81, loss 18.31281852722168 \n",
      "epoch 82, loss 52.40293884277344 \n",
      "epoch 83, loss 4.115437984466553 \n",
      "epoch 84, loss 11.257697105407715 \n",
      "epoch 85, loss 15.157891273498535 \n",
      "epoch 86, loss 43.48789596557617 \n",
      "epoch 87, loss 8.516725540161133 \n",
      "epoch 88, loss 24.258649826049805 \n",
      "epoch 89, loss 17.14917755126953 \n",
      "epoch 90, loss 48.393009185791016 \n",
      "epoch 91, loss 5.289402484893799 \n",
      "epoch 92, loss 14.473093032836914 \n",
      "epoch 93, loss 16.14641761779785 \n",
      "epoch 94, loss 45.321533203125 \n",
      "epoch 95, loss 6.497049331665039 \n",
      "epoch 96, loss 17.871686935424805 \n",
      "epoch 97, loss 16.56981658935547 \n",
      "epoch 98, loss 46.033329010009766 \n",
      "epoch 99, loss 5.68945837020874 \n"
     ]
    }
   ],
   "source": [
    "for i in range(epoch):\n",
    "    prediction = brain(x)\n",
    "    optimizer.zero_grad()\n",
    "    loss = loss_func(prediction,y)\n",
    "    loss.backward()        \n",
    "    optimizer.step()\n",
    "    print('epoch {}, loss {} '.format(i, loss.item()))"
   ]
  },
  {
   "cell_type": "code",
   "execution_count": 48,
   "metadata": {},
   "outputs": [
    {
     "data": {
      "text/plain": [
       "tensor([[ 2.1179],\n",
       "        [ 3.3038],\n",
       "        [ 4.4897],\n",
       "        [ 5.6756],\n",
       "        [ 6.8615],\n",
       "        [ 8.0474],\n",
       "        [ 9.2332],\n",
       "        [10.4191],\n",
       "        [11.6050],\n",
       "        [12.7909],\n",
       "        [13.9768]], grad_fn=<AddmmBackward>)"
      ]
     },
     "execution_count": 48,
     "metadata": {},
     "output_type": "execute_result"
    }
   ],
   "source": [
    "brain(x)"
   ]
  },
  {
   "cell_type": "code",
   "execution_count": 49,
   "metadata": {},
   "outputs": [],
   "source": [
    "pre=brain(x)\n",
    "pre=pre.detach().numpy()"
   ]
  },
  {
   "cell_type": "code",
   "execution_count": 50,
   "metadata": {},
   "outputs": [
    {
     "name": "stdout",
     "output_type": "stream",
     "text": [
      "The error is :-  3.9173980327644693\n"
     ]
    }
   ],
   "source": [
    "from sklearn.metrics import mean_squared_error\n",
    "from math import sqrt\n",
    "rms = sqrt(mean_squared_error(y.detach().numpy(),pre))\n",
    "print(\"The error is :- \",rms)"
   ]
  },
  {
   "cell_type": "code",
   "execution_count": 37,
   "metadata": {},
   "outputs": [
    {
     "data": {
      "image/png": "[encoded data removed]",
      "text/plain": [
       "<Figure size 432x288 with 1 Axes>"
      ]
     },
     "metadata": {
      "needs_background": "light"
     },
     "output_type": "display_data"
    }
   ],
   "source": [
    "plt.clf()\n",
    "plt.plot(x_train, y_train, 'go', label='True data', alpha=0.5)\n",
    "plt.plot(x_train, pre, '--', label='Predictions', alpha=0.5)\n",
    "plt.legend(loc='best')\n",
    "plt.show()"
   ]
  },
  {
   "cell_type": "markdown",
   "metadata": {},
   "source": [
    "### Predicting a new value"
   ]
  },
  {
   "cell_type": "code",
   "execution_count": 38,
   "metadata": {},
   "outputs": [
    {
     "data": {
      "text/plain": [
       "tensor([[6.2523]], grad_fn=<AddmmBackward>)"
      ]
     },
     "execution_count": 38,
     "metadata": {},
     "output_type": "execute_result"
    }
   ],
   "source": [
    "brain(Variable(torch.tensor([[float(5)]])))"
   ]
  },
  {
   "cell_type": "markdown",
   "metadata": {},
   "source": [
    "# Neural network for classification"
   ]
  },
  {
   "cell_type": "code",
   "execution_count": 39,
   "metadata": {},
   "outputs": [],
   "source": [
    "x_train = np.array([i for i in range(0,12)],dtype = np.float32)\n",
    "y_train = np.array([0,1,0,1,0,1,0,1,0,1,0,1],dtype = np.float32)"
   ]
  },
  {
   "cell_type": "code",
   "execution_count": 40,
   "metadata": {},
   "outputs": [],
   "source": [
    "x_train = x_train.reshape(-1, 1)\n",
    "y_train = y_train.reshape(-1,1)"
   ]
  },
  {
   "cell_type": "markdown",
   "metadata": {},
   "source": [
    "# Defining the structure of the network"
   ]
  },
  {
   "cell_type": "code",
   "execution_count": 41,
   "metadata": {},
   "outputs": [],
   "source": [
    "class LogisticRegression(torch.nn.Module):\n",
    "    def __init__(self,inputSize, outputSize):\n",
    "        super(LogisticRegression, self).__init__()\n",
    "        self.linear = torch.nn.Linear(inputSize, outputSize)\n",
    "        self.relu = torch.nn.ReLU()\n",
    "    def forward(self, x):\n",
    "        #As logistic regression use sigmoid function,so we are using sigmoid as our activation function.\n",
    "        output = self.linear(x)\n",
    "        output = self.relu(output)\n",
    "        return output"
   ]
  },
  {
   "cell_type": "markdown",
   "metadata": {},
   "source": [
    "creating the model of the above neural network structure"
   ]
  },
  {
   "cell_type": "code",
   "execution_count": 42,
   "metadata": {},
   "outputs": [],
   "source": [
    "model = LogisticRegression(1,2)"
   ]
  },
  {
   "cell_type": "code",
   "execution_count": 43,
   "metadata": {},
   "outputs": [],
   "source": [
    "#few parameter for the running the model.\n",
    "learning_rate = 0.01\n",
    "epoch = 100"
   ]
  },
  {
   "cell_type": "markdown",
   "metadata": {},
   "source": [
    "For the loss function, we use Binary Cross-Entropy (BCE), which is known as the binary logarithmic loss function. This is commonly used for logistic regression tasks since we are predicting a binary value as output."
   ]
  },
  {
   "cell_type": "code",
   "execution_count": 44,
   "metadata": {},
   "outputs": [
    {
     "name": "stderr",
     "output_type": "stream",
     "text": [
      "/usr/local/lib/python3.7/site-packages/torch/nn/_reduction.py:43: UserWarning: size_average and reduce args will be deprecated, please use reduction='mean' instead.\n",
      "  warnings.warn(warning.format(ret))\n"
     ]
    }
   ],
   "source": [
    "# Define Optimizer and Loss Function\n",
    "optimizer = torch.optim.SGD(brain.parameters(), lr=learning_rate)\n",
    "#loss_func = torch.nn.MSELoss() for regression\n",
    "loss_func = torch.nn.BCELoss(size_average=True) "
   ]
  },
  {
   "cell_type": "code",
   "execution_count": 45,
   "metadata": {},
   "outputs": [
    {
     "data": {
      "text/plain": [
       "12"
      ]
     },
     "execution_count": 45,
     "metadata": {},
     "output_type": "execute_result"
    }
   ],
   "source": [
    "len(x_train)"
   ]
  },
  {
   "cell_type": "code",
   "execution_count": 46,
   "metadata": {},
   "outputs": [],
   "source": [
    "x=Variable(torch.from_numpy(x_train),requires_grad=True)\n",
    "y=Variable(torch.from_numpy(y_train),requires_grad=False)"
   ]
  },
  {
   "cell_type": "code",
   "execution_count": 47,
   "metadata": {},
   "outputs": [
    {
     "name": "stdout",
     "output_type": "stream",
     "text": [
      "12\n",
      "12\n"
     ]
    },
    {
     "name": "stderr",
     "output_type": "stream",
     "text": [
      "/usr/local/lib/python3.7/site-packages/torch/nn/modules/loss.py:498: UserWarning: Using a target size (torch.Size([12, 1])) that is different to the input size (torch.Size([12, 2])) is deprecated. Please ensure they have the same size.\n",
      "  return F.binary_cross_entropy(input, target, weight=self.weight, reduction=self.reduction)\n"
     ]
    },
    {
     "ename": "ValueError",
     "evalue": "Target and input must have the same number of elements. target nelement (12) != input nelement (24)",
     "output_type": "error",
     "traceback": [
      "\u001b[0;31m---------------------------------------------------------------------------\u001b[0m",
      "\u001b[0;31mValueError\u001b[0m                                Traceback (most recent call last)",
      "\u001b[0;32m<ipython-input-47-6322201c4da4>\u001b[0m in \u001b[0;36m<module>\u001b[0;34m\u001b[0m\n\u001b[1;32m      5\u001b[0m     \u001b[0mprint\u001b[0m\u001b[0;34m(\u001b[0m\u001b[0mlen\u001b[0m\u001b[0;34m(\u001b[0m\u001b[0mprediction\u001b[0m\u001b[0;34m)\u001b[0m\u001b[0;34m)\u001b[0m\u001b[0;34m\u001b[0m\u001b[0;34m\u001b[0m\u001b[0m\n\u001b[1;32m      6\u001b[0m     \u001b[0mprint\u001b[0m\u001b[0;34m(\u001b[0m\u001b[0mlen\u001b[0m\u001b[0;34m(\u001b[0m\u001b[0my\u001b[0m\u001b[0;34m)\u001b[0m\u001b[0;34m)\u001b[0m\u001b[0;34m\u001b[0m\u001b[0;34m\u001b[0m\u001b[0m\n\u001b[0;32m----> 7\u001b[0;31m     \u001b[0mloss\u001b[0m \u001b[0;34m=\u001b[0m \u001b[0mloss_func\u001b[0m\u001b[0;34m(\u001b[0m\u001b[0mprediction\u001b[0m\u001b[0;34m,\u001b[0m\u001b[0my\u001b[0m\u001b[0;34m)\u001b[0m\u001b[0;34m\u001b[0m\u001b[0;34m\u001b[0m\u001b[0m\n\u001b[0m\u001b[1;32m      8\u001b[0m     \u001b[0mloss\u001b[0m\u001b[0;34m.\u001b[0m\u001b[0mbackward\u001b[0m\u001b[0;34m(\u001b[0m\u001b[0;34m)\u001b[0m\u001b[0;34m\u001b[0m\u001b[0;34m\u001b[0m\u001b[0m\n\u001b[1;32m      9\u001b[0m     \u001b[0moptimizer\u001b[0m\u001b[0;34m.\u001b[0m\u001b[0mstep\u001b[0m\u001b[0;34m(\u001b[0m\u001b[0;34m)\u001b[0m\u001b[0;34m\u001b[0m\u001b[0;34m\u001b[0m\u001b[0m\n",
      "\u001b[0;32m/usr/local/lib/python3.7/site-packages/torch/nn/modules/module.py\u001b[0m in \u001b[0;36m__call__\u001b[0;34m(self, *input, **kwargs)\u001b[0m\n\u001b[1;32m    539\u001b[0m             \u001b[0mresult\u001b[0m \u001b[0;34m=\u001b[0m \u001b[0mself\u001b[0m\u001b[0;34m.\u001b[0m\u001b[0m_slow_forward\u001b[0m\u001b[0;34m(\u001b[0m\u001b[0;34m*\u001b[0m\u001b[0minput\u001b[0m\u001b[0;34m,\u001b[0m \u001b[0;34m**\u001b[0m\u001b[0mkwargs\u001b[0m\u001b[0;34m)\u001b[0m\u001b[0;34m\u001b[0m\u001b[0;34m\u001b[0m\u001b[0m\n\u001b[1;32m    540\u001b[0m         \u001b[0;32melse\u001b[0m\u001b[0;34m:\u001b[0m\u001b[0;34m\u001b[0m\u001b[0;34m\u001b[0m\u001b[0m\n\u001b[0;32m--> 541\u001b[0;31m             \u001b[0mresult\u001b[0m \u001b[0;34m=\u001b[0m \u001b[0mself\u001b[0m\u001b[0;34m.\u001b[0m\u001b[0mforward\u001b[0m\u001b[0;34m(\u001b[0m\u001b[0;34m*\u001b[0m\u001b[0minput\u001b[0m\u001b[0;34m,\u001b[0m \u001b[0;34m**\u001b[0m\u001b[0mkwargs\u001b[0m\u001b[0;34m)\u001b[0m\u001b[0;34m\u001b[0m\u001b[0;34m\u001b[0m\u001b[0m\n\u001b[0m\u001b[1;32m    542\u001b[0m         \u001b[0;32mfor\u001b[0m \u001b[0mhook\u001b[0m \u001b[0;32min\u001b[0m \u001b[0mself\u001b[0m\u001b[0;34m.\u001b[0m\u001b[0m_forward_hooks\u001b[0m\u001b[0;34m.\u001b[0m\u001b[0mvalues\u001b[0m\u001b[0;34m(\u001b[0m\u001b[0;34m)\u001b[0m\u001b[0;34m:\u001b[0m\u001b[0;34m\u001b[0m\u001b[0;34m\u001b[0m\u001b[0m\n\u001b[1;32m    543\u001b[0m             \u001b[0mhook_result\u001b[0m \u001b[0;34m=\u001b[0m \u001b[0mhook\u001b[0m\u001b[0;34m(\u001b[0m\u001b[0mself\u001b[0m\u001b[0;34m,\u001b[0m \u001b[0minput\u001b[0m\u001b[0;34m,\u001b[0m \u001b[0mresult\u001b[0m\u001b[0;34m)\u001b[0m\u001b[0;34m\u001b[0m\u001b[0;34m\u001b[0m\u001b[0m\n",
      "\u001b[0;32m/usr/local/lib/python3.7/site-packages/torch/nn/modules/loss.py\u001b[0m in \u001b[0;36mforward\u001b[0;34m(self, input, target)\u001b[0m\n\u001b[1;32m    496\u001b[0m \u001b[0;34m\u001b[0m\u001b[0m\n\u001b[1;32m    497\u001b[0m     \u001b[0;32mdef\u001b[0m \u001b[0mforward\u001b[0m\u001b[0;34m(\u001b[0m\u001b[0mself\u001b[0m\u001b[0;34m,\u001b[0m \u001b[0minput\u001b[0m\u001b[0;34m,\u001b[0m \u001b[0mtarget\u001b[0m\u001b[0;34m)\u001b[0m\u001b[0;34m:\u001b[0m\u001b[0;34m\u001b[0m\u001b[0;34m\u001b[0m\u001b[0m\n\u001b[0;32m--> 498\u001b[0;31m         \u001b[0;32mreturn\u001b[0m \u001b[0mF\u001b[0m\u001b[0;34m.\u001b[0m\u001b[0mbinary_cross_entropy\u001b[0m\u001b[0;34m(\u001b[0m\u001b[0minput\u001b[0m\u001b[0;34m,\u001b[0m \u001b[0mtarget\u001b[0m\u001b[0;34m,\u001b[0m \u001b[0mweight\u001b[0m\u001b[0;34m=\u001b[0m\u001b[0mself\u001b[0m\u001b[0;34m.\u001b[0m\u001b[0mweight\u001b[0m\u001b[0;34m,\u001b[0m \u001b[0mreduction\u001b[0m\u001b[0;34m=\u001b[0m\u001b[0mself\u001b[0m\u001b[0;34m.\u001b[0m\u001b[0mreduction\u001b[0m\u001b[0;34m)\u001b[0m\u001b[0;34m\u001b[0m\u001b[0;34m\u001b[0m\u001b[0m\n\u001b[0m\u001b[1;32m    499\u001b[0m \u001b[0;34m\u001b[0m\u001b[0m\n\u001b[1;32m    500\u001b[0m \u001b[0;34m\u001b[0m\u001b[0m\n",
      "\u001b[0;32m/usr/local/lib/python3.7/site-packages/torch/nn/functional.py\u001b[0m in \u001b[0;36mbinary_cross_entropy\u001b[0;34m(input, target, weight, size_average, reduce, reduction)\u001b[0m\n\u001b[1;32m   2056\u001b[0m     \u001b[0;32mif\u001b[0m \u001b[0minput\u001b[0m\u001b[0;34m.\u001b[0m\u001b[0mnumel\u001b[0m\u001b[0;34m(\u001b[0m\u001b[0;34m)\u001b[0m \u001b[0;34m!=\u001b[0m \u001b[0mtarget\u001b[0m\u001b[0;34m.\u001b[0m\u001b[0mnumel\u001b[0m\u001b[0;34m(\u001b[0m\u001b[0;34m)\u001b[0m\u001b[0;34m:\u001b[0m\u001b[0;34m\u001b[0m\u001b[0;34m\u001b[0m\u001b[0m\n\u001b[1;32m   2057\u001b[0m         raise ValueError(\"Target and input must have the same number of elements. target nelement ({}) \"\n\u001b[0;32m-> 2058\u001b[0;31m                          \"!= input nelement ({})\".format(target.numel(), input.numel()))\n\u001b[0m\u001b[1;32m   2059\u001b[0m \u001b[0;34m\u001b[0m\u001b[0m\n\u001b[1;32m   2060\u001b[0m     \u001b[0;32mif\u001b[0m \u001b[0mweight\u001b[0m \u001b[0;32mis\u001b[0m \u001b[0;32mnot\u001b[0m \u001b[0;32mNone\u001b[0m\u001b[0;34m:\u001b[0m\u001b[0;34m\u001b[0m\u001b[0;34m\u001b[0m\u001b[0m\n",
      "\u001b[0;31mValueError\u001b[0m: Target and input must have the same number of elements. target nelement (12) != input nelement (24)"
     ]
    }
   ],
   "source": [
    "for i in range(epoch):\n",
    "    model.train()\n",
    "    prediction = model(x)\n",
    "    optimizer.zero_grad()\n",
    "    print(len(prediction))\n",
    "    print(len(y))\n",
    "    loss = loss_func(prediction,y)\n",
    "    loss.backward()        \n",
    "    optimizer.step()\n",
    "    print('epoch {}, loss {} '.format(i, loss.item()))"
   ]
  },
  {
   "cell_type": "markdown",
   "metadata": {},
   "source": [
    "## testing the classifier"
   ]
  },
  {
   "cell_type": "code",
   "execution_count": 48,
   "metadata": {},
   "outputs": [
    {
     "data": {
      "text/plain": [
       "tensor([[0.9995, 0.2075],\n",
       "        [0.9062, 0.2807],\n",
       "        [0.8128, 0.3540],\n",
       "        [0.7195, 0.4272],\n",
       "        [0.6261, 0.5005],\n",
       "        [0.5328, 0.5737],\n",
       "        [0.4395, 0.6470],\n",
       "        [0.3461, 0.7202],\n",
       "        [0.2528, 0.7935],\n",
       "        [0.1594, 0.8667],\n",
       "        [0.0661, 0.9400],\n",
       "        [0.0000, 1.0132]], grad_fn=<ReluBackward0>)"
      ]
     },
     "execution_count": 48,
     "metadata": {},
     "output_type": "execute_result"
    }
   ],
   "source": [
    "model(x)"
   ]
  },
  {
   "cell_type": "markdown",
   "metadata": {},
   "source": [
    "# Manually building weights and biases\n",
    "One way to approach this is by building all the blocks. This is a low level approach, but it may be suited if you’re trying to reproduce the latest and greatest deep learning architecture on a paper you just just read. Or maybe if you want to develop a customized layer. Either way, PyTorch has you covered. You’ll need to define your weights and biases, but if you’re comfortable at that level, you’re good to go. The key thing here is that you will need to tell PyTorch what is variable or optimizable in your network, so that PyTorch knows how to perform gradient descent on your network. Let’s look at how someone might approach this in low level PyTorch:"
   ]
  },
  {
   "cell_type": "code",
   "execution_count": 50,
   "metadata": {},
   "outputs": [],
   "source": [
    "import torch\n",
    "import torch.nn.functional as F\n",
    "\n",
    "# generating some random features\n",
    "features = torch.randn(1, 16) \n",
    "\n",
    "# define the weights\n",
    "W1 = torch.randn((16, 12), requires_grad=True)\n",
    "W2 = torch.randn((12, 10), requires_grad=True)\n",
    "W3 = torch.randn((10, 1), requires_grad=True)\n",
    "\n",
    "# define the bias terms\n",
    "B1 = torch.randn((12), requires_grad=True)\n",
    "B2 = torch.randn((10), requires_grad=True)\n",
    "B3 = torch.randn((1), requires_grad=True)\n",
    "\n",
    "# calculate hidden and output layers\n",
    "h1 = F.relu((features @ W1) + B1)\n",
    "h2 = F.relu((h1 @ W2) + B2)\n",
    "output = torch.sigmoid((h2 @ W3) + B3)"
   ]
  },
  {
   "cell_type": "markdown",
   "metadata": {},
   "source": [
    "# 2. Extending the torch.nn.Model Class\n",
    "In practice, most of us will likely use predefined layers and activation functions to train our networks. There are a couple of routes to go if you’re headed in this direction. A more elegant approach involves creating your own neural network python class, by extending the Model class from torch.nn. There are many advantages of defining a neural network this way and perhaps most notably, it allows one to inherit all of the functionality of the torch.nn module while allowing the flexibility of overwriting the default model construction and forward pass method. In this approach, we will define two methods:\n",
    "1. The class constructor, __init__\n",
    "2. The forward method\n",
    "The first is the initializer of the class and is where you’ll define the layers that will compose the network. Typically we don’t need to define the activation functions here since they can be defined in the forward pass (i.e. in the forward method), but it’s not a rule and you can certainly do that if you want to (we’ll actually see an example at the end).\n",
    "The second method is where you define the forward pass. This method takes an input that represents the features the model will be trained on. Here, you can call the activation functions and pass in as parameters the layers you’ve previously defined in the constructor method. You’ll need to pass the input as an argument to the first layer and after processing the activations, that output can be fed into the next layer and so on.\n",
    "Let’s take a look at how we could do this in practice:"
   ]
  },
  {
   "cell_type": "code",
   "execution_count": 51,
   "metadata": {},
   "outputs": [
    {
     "name": "stdout",
     "output_type": "stream",
     "text": [
      "MyNetwork(\n",
      "  (fc1): Linear(in_features=16, out_features=12, bias=True)\n",
      "  (fc2): Linear(in_features=12, out_features=10, bias=True)\n",
      "  (fc3): Linear(in_features=10, out_features=1, bias=True)\n",
      ")\n"
     ]
    }
   ],
   "source": [
    "import torch\n",
    "import torch.nn.functional as F\n",
    "from torch import nn\n",
    "\n",
    "# define the network class\n",
    "class MyNetwork(nn.Module):\n",
    "    def __init__(self):\n",
    "        # call constructor from superclass\n",
    "        super().__init__()\n",
    "        \n",
    "        # define network layers\n",
    "        self.fc1 = nn.Linear(16, 12)\n",
    "        self.fc2 = nn.Linear(12, 10)\n",
    "        self.fc3 = nn.Linear(10, 1)\n",
    "        \n",
    "    def forward(self, x):\n",
    "        # define forward pass\n",
    "        x = F.relu(self.fc1(x))\n",
    "        x = F.relu(self.fc2(x))\n",
    "        x = torch.sigmoid(self.fc3(x))\n",
    "        return x\n",
    "\n",
    "# instantiate the model\n",
    "model = MyNetwork()\n",
    "\n",
    "# print model architecture\n",
    "print(model)"
   ]
  },
  {
   "cell_type": "markdown",
   "metadata": {},
   "source": [
    "# 3. Using torch.nn.Sequential\n",
    "There is still a more compact way to define neural networks in pytorch. This is a modular approach, made possible by the torch.nn.Sequential module and is especially appealing if you come from a Keras background, where you can define sequential layers, kind of like building something from lego blocks. This is a very similar approach to Keras’s sequential API and leverages the torch.nn pre-built layers and activation functions. Using this approach, our feed-forward network can be defined a follows:"
   ]
  },
  {
   "cell_type": "code",
   "execution_count": 52,
   "metadata": {},
   "outputs": [
    {
     "name": "stdout",
     "output_type": "stream",
     "text": [
      "Sequential(\n",
      "  (0): Linear(in_features=16, out_features=12, bias=True)\n",
      "  (1): ReLU()\n",
      "  (2): Linear(in_features=12, out_features=10, bias=True)\n",
      "  (3): ReLU()\n",
      "  (4): Linear(in_features=10, out_features=1, bias=True)\n",
      "  (5): Sigmoid()\n",
      ")\n"
     ]
    }
   ],
   "source": [
    "from torch import nn\n",
    "\n",
    "# define model architecture\n",
    "model = nn.Sequential(\n",
    "    nn.Linear(16, 12),\n",
    "    nn.ReLU(),\n",
    "    nn.Linear(12, 10),\n",
    "    nn.ReLU(),\n",
    "    nn.Linear(10, 1),\n",
    "    nn.Sigmoid()\n",
    ")\n",
    "\n",
    "# print model architecture\n",
    "print(model)"
   ]
  },
  {
   "cell_type": "markdown",
   "metadata": {},
   "source": [
    "## classificatio using pytorch"
   ]
  },
  {
   "cell_type": "markdown",
   "metadata": {},
   "source": [
    "#### creating the dataset"
   ]
  },
  {
   "cell_type": "code",
   "execution_count": 6,
   "metadata": {},
   "outputs": [],
   "source": [
    "import sklearn.datasets\n",
    "X,y = sklearn.datasets.make_moons(200,noise=0.2) "
   ]
  },
  {
   "cell_type": "code",
   "execution_count": 7,
   "metadata": {},
   "outputs": [
    {
     "ename": "AttributeError",
     "evalue": "module 'sklearn' has no attribute 'cm'",
     "output_type": "error",
     "traceback": [
      "\u001b[0;31m---------------------------------------------------------------------------\u001b[0m",
      "\u001b[0;31mAttributeError\u001b[0m                            Traceback (most recent call last)",
      "\u001b[0;32m<ipython-input-7-665cf8e0f3ac>\u001b[0m in \u001b[0;36m<module>\u001b[0;34m\u001b[0m\n\u001b[1;32m      1\u001b[0m \u001b[0;32mimport\u001b[0m \u001b[0mmatplotlib\u001b[0m\u001b[0;34m.\u001b[0m\u001b[0mpyplot\u001b[0m \u001b[0;32mas\u001b[0m \u001b[0mplt\u001b[0m\u001b[0;34m\u001b[0m\u001b[0;34m\u001b[0m\u001b[0m\n\u001b[0;32m----> 2\u001b[0;31m \u001b[0mplt\u001b[0m\u001b[0;34m.\u001b[0m\u001b[0mscatter\u001b[0m\u001b[0;34m(\u001b[0m\u001b[0mX\u001b[0m\u001b[0;34m[\u001b[0m\u001b[0;34m:\u001b[0m\u001b[0;34m,\u001b[0m\u001b[0;36m0\u001b[0m\u001b[0;34m]\u001b[0m\u001b[0;34m,\u001b[0m\u001b[0mX\u001b[0m\u001b[0;34m[\u001b[0m\u001b[0;34m:\u001b[0m\u001b[0;34m,\u001b[0m\u001b[0;36m1\u001b[0m\u001b[0;34m]\u001b[0m\u001b[0;34m,\u001b[0m\u001b[0ms\u001b[0m\u001b[0;34m=\u001b[0m\u001b[0;36m40\u001b[0m\u001b[0;34m,\u001b[0m\u001b[0mc\u001b[0m\u001b[0;34m=\u001b[0m\u001b[0my\u001b[0m\u001b[0;34m,\u001b[0m\u001b[0mcmap\u001b[0m\u001b[0;34m=\u001b[0m\u001b[0msklearn\u001b[0m\u001b[0;34m.\u001b[0m\u001b[0mcm\u001b[0m\u001b[0;34m.\u001b[0m\u001b[0mSpectral\u001b[0m\u001b[0;34m)\u001b[0m\u001b[0;34m\u001b[0m\u001b[0;34m\u001b[0m\u001b[0m\n\u001b[0m",
      "\u001b[0;31mAttributeError\u001b[0m: module 'sklearn' has no attribute 'cm'"
     ]
    }
   ],
   "source": [
    "import matplotlib.pyplot as plt\n",
    "plt.scatter(X[:,0],X[:,1],s=40,c=y,cmap=sklearn.cm.Spectral)"
   ]
  },
  {
   "cell_type": "code",
   "execution_count": 8,
   "metadata": {},
   "outputs": [
    {
     "data": {
      "text/plain": [
       "array([[-3.13058442e-01,  1.10641925e+00],\n",
       "       [-7.08581418e-02,  1.69772315e-01],\n",
       "       [-7.64997815e-01,  7.88383860e-01],\n",
       "       [ 1.11504116e+00, -3.27555480e-01],\n",
       "       [ 2.46041384e+00,  4.50351154e-01],\n",
       "       [ 8.46794340e-01, -2.15436616e-01],\n",
       "       [-7.35038371e-01,  8.79679171e-01],\n",
       "       [-8.61805652e-02, -1.66946993e-01],\n",
       "       [ 1.01624539e+00, -6.06422487e-01],\n",
       "       [ 8.86666461e-01, -6.92366549e-01],\n",
       "       [ 9.90044589e-01,  1.38344594e-01],\n",
       "       [ 9.08846127e-01,  7.05377758e-04],\n",
       "       [ 1.56276768e-01, -1.01039877e-01],\n",
       "       [-9.03625464e-01,  8.21981959e-01],\n",
       "       [ 1.24091509e+00, -5.24642004e-01],\n",
       "       [-2.37075800e-01,  9.42723311e-01],\n",
       "       [ 4.30767357e-01,  3.77067770e-01],\n",
       "       [ 8.31677130e-01,  9.74791131e-01],\n",
       "       [ 8.13628618e-01,  6.34571158e-01],\n",
       "       [ 3.76607281e-01, -6.22223463e-02],\n",
       "       [-1.17927181e+00,  3.73646205e-01],\n",
       "       [ 1.70091991e+00,  6.17004762e-02],\n",
       "       [-1.00288259e+00,  6.17964701e-01],\n",
       "       [ 1.59818165e+00, -3.02162888e-01],\n",
       "       [ 2.96184685e-02,  1.02644198e+00],\n",
       "       [ 2.73932893e-01,  1.13871527e+00],\n",
       "       [ 9.43719220e-03,  9.79565919e-01],\n",
       "       [ 8.35221216e-01, -4.24993698e-01],\n",
       "       [-1.26493847e+00, -9.90702488e-02],\n",
       "       [ 1.22191712e+00, -6.47043977e-01],\n",
       "       [ 9.64945306e-01,  5.82997539e-01],\n",
       "       [ 1.32833188e+00, -1.23413961e-01],\n",
       "       [ 5.53598273e-01,  7.68730643e-01],\n",
       "       [ 2.60415597e-02,  9.22826448e-02],\n",
       "       [ 1.68213650e+00, -2.81223196e-01],\n",
       "       [ 6.30619745e-01, -9.90902021e-02],\n",
       "       [ 1.06826343e+00,  2.81581729e-02],\n",
       "       [-3.32326654e-01,  1.02699398e+00],\n",
       "       [ 6.00422339e-01,  7.95658403e-01],\n",
       "       [-5.28071467e-01,  5.60770670e-01],\n",
       "       [-5.05613053e-01,  4.59501496e-01],\n",
       "       [-9.46345839e-01,  5.35566492e-01],\n",
       "       [-9.87074216e-01,  5.71739709e-02],\n",
       "       [ 4.90888202e-01, -9.49646778e-02],\n",
       "       [ 5.74544127e-01, -5.77881501e-01],\n",
       "       [-1.12920399e-01,  3.70524939e-01],\n",
       "       [ 3.77247179e-01,  1.04585872e+00],\n",
       "       [ 4.89369192e-01, -4.88966394e-01],\n",
       "       [ 7.86041219e-01,  5.07480756e-01],\n",
       "       [ 2.10023485e-01,  1.06634299e+00],\n",
       "       [ 6.21610628e-01, -3.72975035e-01],\n",
       "       [ 1.84701812e+00,  1.24564889e-01],\n",
       "       [ 1.62469656e+00, -4.40262276e-01],\n",
       "       [-8.74590555e-02, -1.36299684e-01],\n",
       "       [ 8.52632194e-01, -3.25669957e-01],\n",
       "       [ 1.84906945e+00,  9.67304951e-02],\n",
       "       [ 1.11185701e+00, -9.39020943e-01],\n",
       "       [ 1.11827903e+00,  6.88538473e-01],\n",
       "       [ 9.62342960e-01,  2.04522988e-01],\n",
       "       [ 6.06009677e-01,  7.70506865e-01],\n",
       "       [ 8.29275278e-01, -7.13761002e-01],\n",
       "       [ 1.73300219e-01, -3.19025183e-01],\n",
       "       [-9.77714967e-01,  1.07345306e-01],\n",
       "       [ 2.01032177e+00, -2.80799189e-01],\n",
       "       [-1.18706675e+00,  6.51621173e-01],\n",
       "       [-5.15038390e-01,  1.09615436e+00],\n",
       "       [-9.36889347e-01,  2.81336426e-01],\n",
       "       [ 2.10732290e+00,  6.33935518e-01],\n",
       "       [ 1.29229290e+00, -3.59161809e-01],\n",
       "       [ 5.14338245e-01,  6.17000590e-01],\n",
       "       [-1.25929115e+00,  7.40178097e-02],\n",
       "       [ 8.72128223e-01, -1.08017863e-01],\n",
       "       [ 5.80764917e-01,  7.22864337e-01],\n",
       "       [ 7.77490026e-01, -6.40182930e-01],\n",
       "       [ 3.72622195e-01,  8.55518007e-01],\n",
       "       [ 2.00545127e-01,  7.08706738e-01],\n",
       "       [-2.98044732e-01,  9.94748920e-01],\n",
       "       [ 4.15163311e-01, -3.16095907e-01],\n",
       "       [ 1.96059454e+00, -4.66488311e-02],\n",
       "       [ 6.63285014e-01, -3.34905521e-01],\n",
       "       [ 2.20288390e+00,  3.59011742e-01],\n",
       "       [-7.56542046e-01,  9.71909389e-02],\n",
       "       [ 9.03126821e-01,  1.42924490e-01],\n",
       "       [ 3.84761124e-01, -4.82506025e-01],\n",
       "       [ 4.28203728e-01, -5.23876673e-01],\n",
       "       [ 1.63590012e+00, -4.00860771e-02],\n",
       "       [-1.76335808e-02,  1.17916212e+00],\n",
       "       [ 1.64488656e+00, -3.08011501e-01],\n",
       "       [-1.80492981e-01,  6.68741567e-01],\n",
       "       [ 1.05712348e+00,  2.12853942e-01],\n",
       "       [ 3.74615384e-01, -1.56465554e-01],\n",
       "       [ 9.26671246e-02,  1.02245843e+00],\n",
       "       [-1.17761561e+00,  2.06851816e-01],\n",
       "       [-4.48490768e-01,  1.12911068e+00],\n",
       "       [ 9.79487066e-01,  5.03497704e-01],\n",
       "       [-4.92835224e-02,  1.51254548e-01],\n",
       "       [ 2.05341174e+00,  1.86923834e-01],\n",
       "       [ 1.66324399e+00,  5.32855531e-02],\n",
       "       [-1.56154502e-02,  1.12590861e+00],\n",
       "       [ 6.17735967e-01, -1.58513285e-01],\n",
       "       [ 1.46179375e-01, -3.41683912e-01],\n",
       "       [-5.64365063e-01,  8.93732922e-01],\n",
       "       [-9.87649416e-01,  3.69642657e-01],\n",
       "       [-1.00319053e+00,  3.56459560e-01],\n",
       "       [ 1.17068253e+00, -4.92465056e-01],\n",
       "       [ 2.35194721e-01,  1.95299279e-02],\n",
       "       [-3.40649167e-02,  1.08535123e+00],\n",
       "       [ 1.82984546e-01,  1.41787222e-01],\n",
       "       [ 2.16864470e+00,  3.31572218e-02],\n",
       "       [-8.42364800e-01,  1.25295782e+00],\n",
       "       [-1.80800191e-01,  5.95102900e-01],\n",
       "       [ 3.33873761e-01, -3.40783971e-01],\n",
       "       [ 1.42073746e+00, -1.55926015e-01],\n",
       "       [ 1.65420860e+00,  3.03873904e-02],\n",
       "       [ 5.53157495e-01,  5.49825949e-01],\n",
       "       [ 1.55551772e+00, -1.77717232e-02],\n",
       "       [ 2.03760128e+00,  5.09047469e-01],\n",
       "       [-1.50465947e-02,  3.24163315e-02],\n",
       "       [ 3.73108172e-01,  6.05653022e-01],\n",
       "       [ 6.88302522e-01,  7.91190068e-01],\n",
       "       [ 2.24770332e+00,  2.68048567e-01],\n",
       "       [ 1.76165743e+00,  6.41143501e-03],\n",
       "       [ 1.57724883e-01,  5.00032107e-02],\n",
       "       [ 4.77331002e-01, -4.23504529e-01],\n",
       "       [ 1.51097710e+00, -4.05977605e-01],\n",
       "       [-7.81529165e-01,  2.72938103e-01],\n",
       "       [ 6.27530142e-01, -2.39840164e-01],\n",
       "       [ 2.60525297e-01, -8.68204822e-02],\n",
       "       [ 1.12943970e+00, -2.46448817e-01],\n",
       "       [ 1.10807855e+00,  1.95100168e-01],\n",
       "       [ 2.60945060e-01, -1.41343144e-01],\n",
       "       [-6.86830080e-01,  1.27805242e+00],\n",
       "       [ 9.12635704e-02,  9.24692548e-01],\n",
       "       [ 1.59914302e+00, -4.63659862e-01],\n",
       "       [ 7.52095686e-01,  9.36942892e-01],\n",
       "       [ 2.78077072e-01,  1.24571692e+00],\n",
       "       [ 1.12221598e+00, -2.72954693e-01],\n",
       "       [ 8.17456888e-01,  5.40988063e-01],\n",
       "       [ 8.34031556e-01,  1.37910438e-01],\n",
       "       [-4.79835016e-01,  1.18857279e+00],\n",
       "       [ 8.60767513e-01,  5.15200634e-01],\n",
       "       [-9.70105835e-01,  3.43128806e-01],\n",
       "       [ 9.27620256e-02,  4.21458068e-01],\n",
       "       [ 2.15018829e+00,  2.06708279e-01],\n",
       "       [-2.10042759e-01,  8.68372577e-01],\n",
       "       [-6.55990043e-01,  3.06782702e-01],\n",
       "       [ 6.47814430e-01,  5.85212859e-01],\n",
       "       [ 1.88333704e-01, -1.44618737e-01],\n",
       "       [ 1.63105596e+00, -4.03553417e-01],\n",
       "       [ 1.25748984e+00, -3.31953143e-01],\n",
       "       [ 1.57759688e+00, -3.61194460e-01],\n",
       "       [ 3.42820667e-01, -3.03459814e-01],\n",
       "       [ 1.65798948e-01, -2.20865593e-02],\n",
       "       [ 1.98883775e+00,  6.91155344e-01],\n",
       "       [ 2.76986233e-01,  7.63763879e-01],\n",
       "       [ 5.78375447e-01,  3.65628610e-01],\n",
       "       [ 8.62807478e-01,  9.53590659e-01],\n",
       "       [ 3.85937384e-01,  9.94791321e-01],\n",
       "       [ 1.79532617e+00, -6.00029079e-01],\n",
       "       [ 1.10240388e+00,  1.91066589e-01],\n",
       "       [ 6.29961423e-01,  2.66978355e-01],\n",
       "       [ 5.75808729e-01, -5.20168443e-03],\n",
       "       [-4.07698036e-01,  6.97373696e-01],\n",
       "       [ 1.53314082e-01,  1.16837716e+00],\n",
       "       [ 1.83831785e+00, -3.42366215e-02],\n",
       "       [-1.05732659e+00,  8.84544696e-01],\n",
       "       [-6.93432043e-01,  1.08324232e+00],\n",
       "       [-1.15535166e+00,  5.11112426e-01],\n",
       "       [ 1.96687708e+00,  3.04789943e-01],\n",
       "       [-1.06655015e+00,  1.69318154e-02],\n",
       "       [-2.85811975e-01,  1.01688208e+00],\n",
       "       [ 2.15576261e+00, -4.64407087e-01],\n",
       "       [ 1.99015292e+00,  3.45283849e-01],\n",
       "       [ 1.37125751e-01,  9.32998267e-01],\n",
       "       [ 6.51669614e-01,  6.52027660e-01],\n",
       "       [ 1.65053679e+00, -2.07320161e-01],\n",
       "       [ 1.34192179e-01,  1.03359768e+00],\n",
       "       [ 1.25526047e+00, -3.98713971e-01],\n",
       "       [ 6.01387473e-01,  3.08533816e-01],\n",
       "       [ 1.24865987e+00, -2.52921977e-01],\n",
       "       [-8.45355941e-02,  3.42241334e-01],\n",
       "       [ 1.27843224e+00, -2.44761533e-01],\n",
       "       [ 1.25007856e+00, -5.10887715e-01],\n",
       "       [ 3.40404709e-01,  1.20345588e-01],\n",
       "       [ 2.01778273e+00,  2.01094700e-01],\n",
       "       [-8.44332291e-01,  5.66258494e-01],\n",
       "       [ 5.81017131e-01, -5.50111254e-01],\n",
       "       [ 2.56807274e-01,  8.09072077e-02],\n",
       "       [ 5.32096193e-01,  2.79152313e-01],\n",
       "       [ 7.32260111e-01,  6.86188321e-01],\n",
       "       [ 3.94447811e-01, -3.38333300e-01],\n",
       "       [-1.00900416e+00,  6.37795432e-02],\n",
       "       [ 6.69871959e-02,  4.24121476e-01],\n",
       "       [ 9.55698770e-01,  2.32361802e-01],\n",
       "       [-4.92400331e-02,  1.15241365e+00],\n",
       "       [ 4.89886539e-01,  6.80063337e-02],\n",
       "       [-5.52884554e-01,  1.18344185e+00],\n",
       "       [ 4.50794485e-02,  6.15196901e-01],\n",
       "       [-6.25353318e-01,  7.43705405e-01],\n",
       "       [-7.74549377e-01,  8.54024244e-01]])"
      ]
     },
     "execution_count": 8,
     "metadata": {},
     "output_type": "execute_result"
    }
   ],
   "source": [
    "X"
   ]
  },
  {
   "cell_type": "code",
   "execution_count": 9,
   "metadata": {},
   "outputs": [
    {
     "ename": "NameError",
     "evalue": "name 'torch' is not defined",
     "output_type": "error",
     "traceback": [
      "\u001b[0;31m---------------------------------------------------------------------------\u001b[0m",
      "\u001b[0;31mNameError\u001b[0m                                 Traceback (most recent call last)",
      "\u001b[0;32m<ipython-input-9-ac73cbbfece7>\u001b[0m in \u001b[0;36m<module>\u001b[0;34m\u001b[0m\n\u001b[1;32m      1\u001b[0m \u001b[0;31m#from_numpy takes a numpy element and returns torch.tensor\u001b[0m\u001b[0;34m\u001b[0m\u001b[0;34m\u001b[0m\u001b[0;34m\u001b[0m\u001b[0m\n\u001b[0;32m----> 2\u001b[0;31m \u001b[0mX\u001b[0m \u001b[0;34m=\u001b[0m \u001b[0mtorch\u001b[0m\u001b[0;34m.\u001b[0m\u001b[0mfrom_numpy\u001b[0m\u001b[0;34m(\u001b[0m\u001b[0mX\u001b[0m\u001b[0;34m)\u001b[0m\u001b[0;34m.\u001b[0m\u001b[0mtype\u001b[0m\u001b[0;34m(\u001b[0m\u001b[0mtorch\u001b[0m\u001b[0;34m.\u001b[0m\u001b[0mFloatTensor\u001b[0m\u001b[0;34m)\u001b[0m\u001b[0;34m\u001b[0m\u001b[0;34m\u001b[0m\u001b[0m\n\u001b[0m\u001b[1;32m      3\u001b[0m \u001b[0my\u001b[0m \u001b[0;34m=\u001b[0m \u001b[0mtorch\u001b[0m\u001b[0;34m.\u001b[0m\u001b[0mfrom_numpy\u001b[0m\u001b[0;34m(\u001b[0m\u001b[0my\u001b[0m\u001b[0;34m)\u001b[0m\u001b[0;34m.\u001b[0m\u001b[0mtype\u001b[0m\u001b[0;34m(\u001b[0m\u001b[0mtorch\u001b[0m\u001b[0;34m.\u001b[0m\u001b[0mLongTensor\u001b[0m\u001b[0;34m)\u001b[0m\u001b[0;34m\u001b[0m\u001b[0;34m\u001b[0m\u001b[0m\n",
      "\u001b[0;31mNameError\u001b[0m: name 'torch' is not defined"
     ]
    }
   ],
   "source": [
    "#from_numpy takes a numpy element and returns torch.tensor\n",
    "X = torch.from_numpy(X).type(torch.FloatTensor)\n",
    "y = torch.from_numpy(y).type(torch.LongTensor)"
   ]
  },
  {
   "cell_type": "code",
   "execution_count": 10,
   "metadata": {},
   "outputs": [
    {
     "ename": "NameError",
     "evalue": "name 'x' is not defined",
     "output_type": "error",
     "traceback": [
      "\u001b[0;31m---------------------------------------------------------------------------\u001b[0m",
      "\u001b[0;31mNameError\u001b[0m                                 Traceback (most recent call last)",
      "\u001b[0;32m<ipython-input-10-5fe5eafd380c>\u001b[0m in \u001b[0;36m<module>\u001b[0;34m\u001b[0m\n\u001b[0;32m----> 1\u001b[0;31m \u001b[0mprint\u001b[0m\u001b[0;34m(\u001b[0m\u001b[0mx\u001b[0m\u001b[0;34m)\u001b[0m\u001b[0;34m\u001b[0m\u001b[0;34m\u001b[0m\u001b[0m\n\u001b[0m\u001b[1;32m      2\u001b[0m \u001b[0mprint\u001b[0m\u001b[0;34m(\u001b[0m\u001b[0my\u001b[0m\u001b[0;34m)\u001b[0m\u001b[0;34m\u001b[0m\u001b[0;34m\u001b[0m\u001b[0m\n",
      "\u001b[0;31mNameError\u001b[0m: name 'x' is not defined"
     ]
    }
   ],
   "source": [
    "print(x)\n",
    "print(y)"
   ]
  },
  {
   "cell_type": "code",
   "execution_count": 11,
   "metadata": {},
   "outputs": [],
   "source": [
    "import torch.nn as nn\n",
    "import torch.nn.functional as F\n",
    "#our class must extend nn.Module\n",
    "class MyClassifier(nn.Module):\n",
    "    def __init__(self):\n",
    "        super(MyClassifier,self).__init__()\n",
    "        #Our network consists of 3 layers. 1 input, 1 hidden and 1 output layer\n",
    "        #This applies Linear transformation to input data. \n",
    "        self.fc1 = nn.Linear(2,3)\n",
    "        \n",
    "        #This applies linear transformation to produce output data\n",
    "        self.fc2 = nn.Linear(3,2)\n",
    "        \n",
    "    #This must be implemented\n",
    "    def forward(self,x):\n",
    "        #Output of the first layer\n",
    "        x = self.fc1(x)\n",
    "        #Activation function is Relu. Feel free to experiment with this\n",
    "        x = F.tanh(x)\n",
    "        #This produces output\n",
    "        x = self.fc2(x)\n",
    "        return x\n",
    "        \n",
    "    #This function takes an input and predicts the class, (0 or 1)        \n",
    "    def predict(self,x):\n",
    "        #Apply softmax to output. \n",
    "        pred = F.softmax(self.forward(x))\n",
    "        ans = []\n",
    "        #Pick the class with maximum weight\n",
    "        for t in pred:\n",
    "            if t[0]>t[1]:\n",
    "                ans.append(0)\n",
    "            else:\n",
    "                ans.append(1)\n",
    "        return torch.tensor(ans)"
   ]
  },
  {
   "cell_type": "markdown",
   "metadata": {},
   "source": [
    "The criterion that we are going to use is CrossEntropyLoss. This is the common choice for most classification problems. Let’s train the model using ADAM(Adaptive moment estimation) method."
   ]
  },
  {
   "cell_type": "code",
   "execution_count": 12,
   "metadata": {},
   "outputs": [
    {
     "ename": "NameError",
     "evalue": "name 'torch' is not defined",
     "output_type": "error",
     "traceback": [
      "\u001b[0;31m---------------------------------------------------------------------------\u001b[0m",
      "\u001b[0;31mNameError\u001b[0m                                 Traceback (most recent call last)",
      "\u001b[0;32m<ipython-input-12-e0df96334c65>\u001b[0m in \u001b[0;36m<module>\u001b[0;34m\u001b[0m\n\u001b[1;32m      4\u001b[0m \u001b[0mcriterion\u001b[0m \u001b[0;34m=\u001b[0m \u001b[0mnn\u001b[0m\u001b[0;34m.\u001b[0m\u001b[0mCrossEntropyLoss\u001b[0m\u001b[0;34m(\u001b[0m\u001b[0;34m)\u001b[0m\u001b[0;34m\u001b[0m\u001b[0;34m\u001b[0m\u001b[0m\n\u001b[1;32m      5\u001b[0m \u001b[0;31m#Define the optimizer\u001b[0m\u001b[0;34m\u001b[0m\u001b[0;34m\u001b[0m\u001b[0;34m\u001b[0m\u001b[0m\n\u001b[0;32m----> 6\u001b[0;31m \u001b[0moptimizer\u001b[0m \u001b[0;34m=\u001b[0m \u001b[0mtorch\u001b[0m\u001b[0;34m.\u001b[0m\u001b[0moptim\u001b[0m\u001b[0;34m.\u001b[0m\u001b[0mAdam\u001b[0m\u001b[0;34m(\u001b[0m\u001b[0mmodel\u001b[0m\u001b[0;34m.\u001b[0m\u001b[0mparameters\u001b[0m\u001b[0;34m(\u001b[0m\u001b[0;34m)\u001b[0m\u001b[0;34m,\u001b[0m \u001b[0mlr\u001b[0m\u001b[0;34m=\u001b[0m\u001b[0;36m0.01\u001b[0m\u001b[0;34m)\u001b[0m\u001b[0;34m\u001b[0m\u001b[0;34m\u001b[0m\u001b[0m\n\u001b[0m",
      "\u001b[0;31mNameError\u001b[0m: name 'torch' is not defined"
     ]
    }
   ],
   "source": [
    "#Initialize the model        \n",
    "model = MyClassifier()\n",
    "#Define loss criterion\n",
    "criterion = nn.CrossEntropyLoss()\n",
    "#Define the optimizer\n",
    "optimizer = torch.optim.Adam(model.parameters(), lr=0.01)"
   ]
  },
  {
   "cell_type": "code",
   "execution_count": 13,
   "metadata": {},
   "outputs": [
    {
     "ename": "AttributeError",
     "evalue": "'numpy.ndarray' object has no attribute 'dim'",
     "output_type": "error",
     "traceback": [
      "\u001b[0;31m---------------------------------------------------------------------------\u001b[0m",
      "\u001b[0;31mAttributeError\u001b[0m                            Traceback (most recent call last)",
      "\u001b[0;32m<ipython-input-13-a014df828921>\u001b[0m in \u001b[0;36m<module>\u001b[0;34m\u001b[0m\n\u001b[1;32m      5\u001b[0m \u001b[0;32mfor\u001b[0m \u001b[0mi\u001b[0m \u001b[0;32min\u001b[0m \u001b[0mrange\u001b[0m\u001b[0;34m(\u001b[0m\u001b[0mepochs\u001b[0m\u001b[0;34m)\u001b[0m\u001b[0;34m:\u001b[0m\u001b[0;34m\u001b[0m\u001b[0;34m\u001b[0m\u001b[0m\n\u001b[1;32m      6\u001b[0m     \u001b[0;31m#Precit the output for Given input\u001b[0m\u001b[0;34m\u001b[0m\u001b[0;34m\u001b[0m\u001b[0;34m\u001b[0m\u001b[0m\n\u001b[0;32m----> 7\u001b[0;31m     \u001b[0my_pred\u001b[0m \u001b[0;34m=\u001b[0m \u001b[0mmodel\u001b[0m\u001b[0;34m.\u001b[0m\u001b[0mforward\u001b[0m\u001b[0;34m(\u001b[0m\u001b[0mX\u001b[0m\u001b[0;34m)\u001b[0m\u001b[0;34m\u001b[0m\u001b[0;34m\u001b[0m\u001b[0m\n\u001b[0m\u001b[1;32m      8\u001b[0m     \u001b[0;31m#Compute Cross entropy loss\u001b[0m\u001b[0;34m\u001b[0m\u001b[0;34m\u001b[0m\u001b[0;34m\u001b[0m\u001b[0m\n\u001b[1;32m      9\u001b[0m     \u001b[0mloss\u001b[0m \u001b[0;34m=\u001b[0m \u001b[0mcriterion\u001b[0m\u001b[0;34m(\u001b[0m\u001b[0my_pred\u001b[0m\u001b[0;34m,\u001b[0m\u001b[0my\u001b[0m\u001b[0;34m)\u001b[0m\u001b[0;34m\u001b[0m\u001b[0;34m\u001b[0m\u001b[0m\n",
      "\u001b[0;32m<ipython-input-11-19b925516957>\u001b[0m in \u001b[0;36mforward\u001b[0;34m(self, x)\u001b[0m\n\u001b[1;32m     15\u001b[0m     \u001b[0;32mdef\u001b[0m \u001b[0mforward\u001b[0m\u001b[0;34m(\u001b[0m\u001b[0mself\u001b[0m\u001b[0;34m,\u001b[0m\u001b[0mx\u001b[0m\u001b[0;34m)\u001b[0m\u001b[0;34m:\u001b[0m\u001b[0;34m\u001b[0m\u001b[0;34m\u001b[0m\u001b[0m\n\u001b[1;32m     16\u001b[0m         \u001b[0;31m#Output of the first layer\u001b[0m\u001b[0;34m\u001b[0m\u001b[0;34m\u001b[0m\u001b[0;34m\u001b[0m\u001b[0m\n\u001b[0;32m---> 17\u001b[0;31m         \u001b[0mx\u001b[0m \u001b[0;34m=\u001b[0m \u001b[0mself\u001b[0m\u001b[0;34m.\u001b[0m\u001b[0mfc1\u001b[0m\u001b[0;34m(\u001b[0m\u001b[0mx\u001b[0m\u001b[0;34m)\u001b[0m\u001b[0;34m\u001b[0m\u001b[0;34m\u001b[0m\u001b[0m\n\u001b[0m\u001b[1;32m     18\u001b[0m         \u001b[0;31m#Activation function is Relu. Feel free to experiment with this\u001b[0m\u001b[0;34m\u001b[0m\u001b[0;34m\u001b[0m\u001b[0;34m\u001b[0m\u001b[0m\n\u001b[1;32m     19\u001b[0m         \u001b[0mx\u001b[0m \u001b[0;34m=\u001b[0m \u001b[0mF\u001b[0m\u001b[0;34m.\u001b[0m\u001b[0mtanh\u001b[0m\u001b[0;34m(\u001b[0m\u001b[0mx\u001b[0m\u001b[0;34m)\u001b[0m\u001b[0;34m\u001b[0m\u001b[0;34m\u001b[0m\u001b[0m\n",
      "\u001b[0;32m/usr/local/lib/python3.7/site-packages/torch/nn/modules/module.py\u001b[0m in \u001b[0;36m__call__\u001b[0;34m(self, *input, **kwargs)\u001b[0m\n\u001b[1;32m    539\u001b[0m             \u001b[0mresult\u001b[0m \u001b[0;34m=\u001b[0m \u001b[0mself\u001b[0m\u001b[0;34m.\u001b[0m\u001b[0m_slow_forward\u001b[0m\u001b[0;34m(\u001b[0m\u001b[0;34m*\u001b[0m\u001b[0minput\u001b[0m\u001b[0;34m,\u001b[0m \u001b[0;34m**\u001b[0m\u001b[0mkwargs\u001b[0m\u001b[0;34m)\u001b[0m\u001b[0;34m\u001b[0m\u001b[0;34m\u001b[0m\u001b[0m\n\u001b[1;32m    540\u001b[0m         \u001b[0;32melse\u001b[0m\u001b[0;34m:\u001b[0m\u001b[0;34m\u001b[0m\u001b[0;34m\u001b[0m\u001b[0m\n\u001b[0;32m--> 541\u001b[0;31m             \u001b[0mresult\u001b[0m \u001b[0;34m=\u001b[0m \u001b[0mself\u001b[0m\u001b[0;34m.\u001b[0m\u001b[0mforward\u001b[0m\u001b[0;34m(\u001b[0m\u001b[0;34m*\u001b[0m\u001b[0minput\u001b[0m\u001b[0;34m,\u001b[0m \u001b[0;34m**\u001b[0m\u001b[0mkwargs\u001b[0m\u001b[0;34m)\u001b[0m\u001b[0;34m\u001b[0m\u001b[0;34m\u001b[0m\u001b[0m\n\u001b[0m\u001b[1;32m    542\u001b[0m         \u001b[0;32mfor\u001b[0m \u001b[0mhook\u001b[0m \u001b[0;32min\u001b[0m \u001b[0mself\u001b[0m\u001b[0;34m.\u001b[0m\u001b[0m_forward_hooks\u001b[0m\u001b[0;34m.\u001b[0m\u001b[0mvalues\u001b[0m\u001b[0;34m(\u001b[0m\u001b[0;34m)\u001b[0m\u001b[0;34m:\u001b[0m\u001b[0;34m\u001b[0m\u001b[0;34m\u001b[0m\u001b[0m\n\u001b[1;32m    543\u001b[0m             \u001b[0mhook_result\u001b[0m \u001b[0;34m=\u001b[0m \u001b[0mhook\u001b[0m\u001b[0;34m(\u001b[0m\u001b[0mself\u001b[0m\u001b[0;34m,\u001b[0m \u001b[0minput\u001b[0m\u001b[0;34m,\u001b[0m \u001b[0mresult\u001b[0m\u001b[0;34m)\u001b[0m\u001b[0;34m\u001b[0m\u001b[0;34m\u001b[0m\u001b[0m\n",
      "\u001b[0;32m/usr/local/lib/python3.7/site-packages/torch/nn/modules/linear.py\u001b[0m in \u001b[0;36mforward\u001b[0;34m(self, input)\u001b[0m\n\u001b[1;32m     85\u001b[0m \u001b[0;34m\u001b[0m\u001b[0m\n\u001b[1;32m     86\u001b[0m     \u001b[0;32mdef\u001b[0m \u001b[0mforward\u001b[0m\u001b[0;34m(\u001b[0m\u001b[0mself\u001b[0m\u001b[0;34m,\u001b[0m \u001b[0minput\u001b[0m\u001b[0;34m)\u001b[0m\u001b[0;34m:\u001b[0m\u001b[0;34m\u001b[0m\u001b[0;34m\u001b[0m\u001b[0m\n\u001b[0;32m---> 87\u001b[0;31m         \u001b[0;32mreturn\u001b[0m \u001b[0mF\u001b[0m\u001b[0;34m.\u001b[0m\u001b[0mlinear\u001b[0m\u001b[0;34m(\u001b[0m\u001b[0minput\u001b[0m\u001b[0;34m,\u001b[0m \u001b[0mself\u001b[0m\u001b[0;34m.\u001b[0m\u001b[0mweight\u001b[0m\u001b[0;34m,\u001b[0m \u001b[0mself\u001b[0m\u001b[0;34m.\u001b[0m\u001b[0mbias\u001b[0m\u001b[0;34m)\u001b[0m\u001b[0;34m\u001b[0m\u001b[0;34m\u001b[0m\u001b[0m\n\u001b[0m\u001b[1;32m     88\u001b[0m \u001b[0;34m\u001b[0m\u001b[0m\n\u001b[1;32m     89\u001b[0m     \u001b[0;32mdef\u001b[0m \u001b[0mextra_repr\u001b[0m\u001b[0;34m(\u001b[0m\u001b[0mself\u001b[0m\u001b[0;34m)\u001b[0m\u001b[0;34m:\u001b[0m\u001b[0;34m\u001b[0m\u001b[0;34m\u001b[0m\u001b[0m\n",
      "\u001b[0;32m/usr/local/lib/python3.7/site-packages/torch/nn/functional.py\u001b[0m in \u001b[0;36mlinear\u001b[0;34m(input, weight, bias)\u001b[0m\n\u001b[1;32m   1366\u001b[0m         \u001b[0;34m-\u001b[0m \u001b[0mOutput\u001b[0m\u001b[0;34m:\u001b[0m \u001b[0;34m:\u001b[0m\u001b[0mmath\u001b[0m\u001b[0;34m:\u001b[0m\u001b[0;31m`\u001b[0m\u001b[0;34m(\u001b[0m\u001b[0mN\u001b[0m\u001b[0;34m,\u001b[0m \u001b[0;34m*\u001b[0m\u001b[0;34m,\u001b[0m \u001b[0mout\u001b[0m\u001b[0;31m\\\u001b[0m\u001b[0m_features\u001b[0m\u001b[0;34m)\u001b[0m\u001b[0;31m`\u001b[0m\u001b[0;34m\u001b[0m\u001b[0;34m\u001b[0m\u001b[0m\n\u001b[1;32m   1367\u001b[0m     \"\"\"\n\u001b[0;32m-> 1368\u001b[0;31m     \u001b[0;32mif\u001b[0m \u001b[0minput\u001b[0m\u001b[0;34m.\u001b[0m\u001b[0mdim\u001b[0m\u001b[0;34m(\u001b[0m\u001b[0;34m)\u001b[0m \u001b[0;34m==\u001b[0m \u001b[0;36m2\u001b[0m \u001b[0;32mand\u001b[0m \u001b[0mbias\u001b[0m \u001b[0;32mis\u001b[0m \u001b[0;32mnot\u001b[0m \u001b[0;32mNone\u001b[0m\u001b[0;34m:\u001b[0m\u001b[0;34m\u001b[0m\u001b[0;34m\u001b[0m\u001b[0m\n\u001b[0m\u001b[1;32m   1369\u001b[0m         \u001b[0;31m# fused op is marginally faster\u001b[0m\u001b[0;34m\u001b[0m\u001b[0;34m\u001b[0m\u001b[0;34m\u001b[0m\u001b[0m\n\u001b[1;32m   1370\u001b[0m         \u001b[0mret\u001b[0m \u001b[0;34m=\u001b[0m \u001b[0mtorch\u001b[0m\u001b[0;34m.\u001b[0m\u001b[0maddmm\u001b[0m\u001b[0;34m(\u001b[0m\u001b[0mbias\u001b[0m\u001b[0;34m,\u001b[0m \u001b[0minput\u001b[0m\u001b[0;34m,\u001b[0m \u001b[0mweight\u001b[0m\u001b[0;34m.\u001b[0m\u001b[0mt\u001b[0m\u001b[0;34m(\u001b[0m\u001b[0;34m)\u001b[0m\u001b[0;34m)\u001b[0m\u001b[0;34m\u001b[0m\u001b[0;34m\u001b[0m\u001b[0m\n",
      "\u001b[0;31mAttributeError\u001b[0m: 'numpy.ndarray' object has no attribute 'dim'"
     ]
    }
   ],
   "source": [
    "#Number of epochs\n",
    "epochs = 10000\n",
    "#List to store losses\n",
    "losses = []\n",
    "for i in range(epochs):\n",
    "    #Precit the output for Given input\n",
    "    y_pred = model.forward(X)\n",
    "    #Compute Cross entropy loss\n",
    "    loss = criterion(y_pred,y)\n",
    "    #Add loss to the list\n",
    "    losses.append(loss.item())\n",
    "    #Clear the previous gradients\n",
    "    optimizer.zero_grad()\n",
    "    #Compute gradients\n",
    "    loss.backward()\n",
    "    #Adjust weights\n",
    "    optimizer.step()\n",
    "    \n",
    "    print(\"epochs\",i,\"loss\",loss)"
   ]
  },
  {
   "cell_type": "markdown",
   "metadata": {},
   "source": [
    "I know this seems very confusing at first. All we are doing is, computing the loss. Calculating gradients and adjusting weights. implement couple of networks using PyTorch, you will get used to it for sure.\n",
    "We are done with training process. Now, let’s calculate re-submission error. It’s the accuracy that we’ve been able to achieve on the training dataset. This is a bad practice, as we should always test the performance of a model on unseen data. Never the data that we have trained the model with."
   ]
  },
  {
   "cell_type": "code",
   "execution_count": 14,
   "metadata": {},
   "outputs": [
    {
     "ename": "AttributeError",
     "evalue": "'numpy.ndarray' object has no attribute 'dim'",
     "output_type": "error",
     "traceback": [
      "\u001b[0;31m---------------------------------------------------------------------------\u001b[0m",
      "\u001b[0;31mAttributeError\u001b[0m                            Traceback (most recent call last)",
      "\u001b[0;32m<ipython-input-14-fb87d6384162>\u001b[0m in \u001b[0;36m<module>\u001b[0;34m\u001b[0m\n\u001b[1;32m      1\u001b[0m \u001b[0;32mfrom\u001b[0m \u001b[0msklearn\u001b[0m\u001b[0;34m.\u001b[0m\u001b[0mmetrics\u001b[0m \u001b[0;32mimport\u001b[0m \u001b[0maccuracy_score\u001b[0m\u001b[0;34m\u001b[0m\u001b[0;34m\u001b[0m\u001b[0m\n\u001b[0;32m----> 2\u001b[0;31m \u001b[0mprint\u001b[0m\u001b[0;34m(\u001b[0m\u001b[0maccuracy_score\u001b[0m\u001b[0;34m(\u001b[0m\u001b[0mmodel\u001b[0m\u001b[0;34m.\u001b[0m\u001b[0mpredict\u001b[0m\u001b[0;34m(\u001b[0m\u001b[0mX\u001b[0m\u001b[0;34m)\u001b[0m\u001b[0;34m,\u001b[0m\u001b[0my\u001b[0m\u001b[0;34m)\u001b[0m\u001b[0;34m)\u001b[0m\u001b[0;34m\u001b[0m\u001b[0;34m\u001b[0m\u001b[0m\n\u001b[0m",
      "\u001b[0;32m<ipython-input-11-19b925516957>\u001b[0m in \u001b[0;36mpredict\u001b[0;34m(self, x)\u001b[0m\n\u001b[1;32m     25\u001b[0m     \u001b[0;32mdef\u001b[0m \u001b[0mpredict\u001b[0m\u001b[0;34m(\u001b[0m\u001b[0mself\u001b[0m\u001b[0;34m,\u001b[0m\u001b[0mx\u001b[0m\u001b[0;34m)\u001b[0m\u001b[0;34m:\u001b[0m\u001b[0;34m\u001b[0m\u001b[0;34m\u001b[0m\u001b[0m\n\u001b[1;32m     26\u001b[0m         \u001b[0;31m#Apply softmax to output.\u001b[0m\u001b[0;34m\u001b[0m\u001b[0;34m\u001b[0m\u001b[0;34m\u001b[0m\u001b[0m\n\u001b[0;32m---> 27\u001b[0;31m         \u001b[0mpred\u001b[0m \u001b[0;34m=\u001b[0m \u001b[0mF\u001b[0m\u001b[0;34m.\u001b[0m\u001b[0msoftmax\u001b[0m\u001b[0;34m(\u001b[0m\u001b[0mself\u001b[0m\u001b[0;34m.\u001b[0m\u001b[0mforward\u001b[0m\u001b[0;34m(\u001b[0m\u001b[0mx\u001b[0m\u001b[0;34m)\u001b[0m\u001b[0;34m)\u001b[0m\u001b[0;34m\u001b[0m\u001b[0;34m\u001b[0m\u001b[0m\n\u001b[0m\u001b[1;32m     28\u001b[0m         \u001b[0mans\u001b[0m \u001b[0;34m=\u001b[0m \u001b[0;34m[\u001b[0m\u001b[0;34m]\u001b[0m\u001b[0;34m\u001b[0m\u001b[0;34m\u001b[0m\u001b[0m\n\u001b[1;32m     29\u001b[0m         \u001b[0;31m#Pick the class with maximum weight\u001b[0m\u001b[0;34m\u001b[0m\u001b[0;34m\u001b[0m\u001b[0;34m\u001b[0m\u001b[0m\n",
      "\u001b[0;32m<ipython-input-11-19b925516957>\u001b[0m in \u001b[0;36mforward\u001b[0;34m(self, x)\u001b[0m\n\u001b[1;32m     15\u001b[0m     \u001b[0;32mdef\u001b[0m \u001b[0mforward\u001b[0m\u001b[0;34m(\u001b[0m\u001b[0mself\u001b[0m\u001b[0;34m,\u001b[0m\u001b[0mx\u001b[0m\u001b[0;34m)\u001b[0m\u001b[0;34m:\u001b[0m\u001b[0;34m\u001b[0m\u001b[0;34m\u001b[0m\u001b[0m\n\u001b[1;32m     16\u001b[0m         \u001b[0;31m#Output of the first layer\u001b[0m\u001b[0;34m\u001b[0m\u001b[0;34m\u001b[0m\u001b[0;34m\u001b[0m\u001b[0m\n\u001b[0;32m---> 17\u001b[0;31m         \u001b[0mx\u001b[0m \u001b[0;34m=\u001b[0m \u001b[0mself\u001b[0m\u001b[0;34m.\u001b[0m\u001b[0mfc1\u001b[0m\u001b[0;34m(\u001b[0m\u001b[0mx\u001b[0m\u001b[0;34m)\u001b[0m\u001b[0;34m\u001b[0m\u001b[0;34m\u001b[0m\u001b[0m\n\u001b[0m\u001b[1;32m     18\u001b[0m         \u001b[0;31m#Activation function is Relu. Feel free to experiment with this\u001b[0m\u001b[0;34m\u001b[0m\u001b[0;34m\u001b[0m\u001b[0;34m\u001b[0m\u001b[0m\n\u001b[1;32m     19\u001b[0m         \u001b[0mx\u001b[0m \u001b[0;34m=\u001b[0m \u001b[0mF\u001b[0m\u001b[0;34m.\u001b[0m\u001b[0mtanh\u001b[0m\u001b[0;34m(\u001b[0m\u001b[0mx\u001b[0m\u001b[0;34m)\u001b[0m\u001b[0;34m\u001b[0m\u001b[0;34m\u001b[0m\u001b[0m\n",
      "\u001b[0;32m/usr/local/lib/python3.7/site-packages/torch/nn/modules/module.py\u001b[0m in \u001b[0;36m__call__\u001b[0;34m(self, *input, **kwargs)\u001b[0m\n\u001b[1;32m    539\u001b[0m             \u001b[0mresult\u001b[0m \u001b[0;34m=\u001b[0m \u001b[0mself\u001b[0m\u001b[0;34m.\u001b[0m\u001b[0m_slow_forward\u001b[0m\u001b[0;34m(\u001b[0m\u001b[0;34m*\u001b[0m\u001b[0minput\u001b[0m\u001b[0;34m,\u001b[0m \u001b[0;34m**\u001b[0m\u001b[0mkwargs\u001b[0m\u001b[0;34m)\u001b[0m\u001b[0;34m\u001b[0m\u001b[0;34m\u001b[0m\u001b[0m\n\u001b[1;32m    540\u001b[0m         \u001b[0;32melse\u001b[0m\u001b[0;34m:\u001b[0m\u001b[0;34m\u001b[0m\u001b[0;34m\u001b[0m\u001b[0m\n\u001b[0;32m--> 541\u001b[0;31m             \u001b[0mresult\u001b[0m \u001b[0;34m=\u001b[0m \u001b[0mself\u001b[0m\u001b[0;34m.\u001b[0m\u001b[0mforward\u001b[0m\u001b[0;34m(\u001b[0m\u001b[0;34m*\u001b[0m\u001b[0minput\u001b[0m\u001b[0;34m,\u001b[0m \u001b[0;34m**\u001b[0m\u001b[0mkwargs\u001b[0m\u001b[0;34m)\u001b[0m\u001b[0;34m\u001b[0m\u001b[0;34m\u001b[0m\u001b[0m\n\u001b[0m\u001b[1;32m    542\u001b[0m         \u001b[0;32mfor\u001b[0m \u001b[0mhook\u001b[0m \u001b[0;32min\u001b[0m \u001b[0mself\u001b[0m\u001b[0;34m.\u001b[0m\u001b[0m_forward_hooks\u001b[0m\u001b[0;34m.\u001b[0m\u001b[0mvalues\u001b[0m\u001b[0;34m(\u001b[0m\u001b[0;34m)\u001b[0m\u001b[0;34m:\u001b[0m\u001b[0;34m\u001b[0m\u001b[0;34m\u001b[0m\u001b[0m\n\u001b[1;32m    543\u001b[0m             \u001b[0mhook_result\u001b[0m \u001b[0;34m=\u001b[0m \u001b[0mhook\u001b[0m\u001b[0;34m(\u001b[0m\u001b[0mself\u001b[0m\u001b[0;34m,\u001b[0m \u001b[0minput\u001b[0m\u001b[0;34m,\u001b[0m \u001b[0mresult\u001b[0m\u001b[0;34m)\u001b[0m\u001b[0;34m\u001b[0m\u001b[0;34m\u001b[0m\u001b[0m\n",
      "\u001b[0;32m/usr/local/lib/python3.7/site-packages/torch/nn/modules/linear.py\u001b[0m in \u001b[0;36mforward\u001b[0;34m(self, input)\u001b[0m\n\u001b[1;32m     85\u001b[0m \u001b[0;34m\u001b[0m\u001b[0m\n\u001b[1;32m     86\u001b[0m     \u001b[0;32mdef\u001b[0m \u001b[0mforward\u001b[0m\u001b[0;34m(\u001b[0m\u001b[0mself\u001b[0m\u001b[0;34m,\u001b[0m \u001b[0minput\u001b[0m\u001b[0;34m)\u001b[0m\u001b[0;34m:\u001b[0m\u001b[0;34m\u001b[0m\u001b[0;34m\u001b[0m\u001b[0m\n\u001b[0;32m---> 87\u001b[0;31m         \u001b[0;32mreturn\u001b[0m \u001b[0mF\u001b[0m\u001b[0;34m.\u001b[0m\u001b[0mlinear\u001b[0m\u001b[0;34m(\u001b[0m\u001b[0minput\u001b[0m\u001b[0;34m,\u001b[0m \u001b[0mself\u001b[0m\u001b[0;34m.\u001b[0m\u001b[0mweight\u001b[0m\u001b[0;34m,\u001b[0m \u001b[0mself\u001b[0m\u001b[0;34m.\u001b[0m\u001b[0mbias\u001b[0m\u001b[0;34m)\u001b[0m\u001b[0;34m\u001b[0m\u001b[0;34m\u001b[0m\u001b[0m\n\u001b[0m\u001b[1;32m     88\u001b[0m \u001b[0;34m\u001b[0m\u001b[0m\n\u001b[1;32m     89\u001b[0m     \u001b[0;32mdef\u001b[0m \u001b[0mextra_repr\u001b[0m\u001b[0;34m(\u001b[0m\u001b[0mself\u001b[0m\u001b[0;34m)\u001b[0m\u001b[0;34m:\u001b[0m\u001b[0;34m\u001b[0m\u001b[0;34m\u001b[0m\u001b[0m\n",
      "\u001b[0;32m/usr/local/lib/python3.7/site-packages/torch/nn/functional.py\u001b[0m in \u001b[0;36mlinear\u001b[0;34m(input, weight, bias)\u001b[0m\n\u001b[1;32m   1366\u001b[0m         \u001b[0;34m-\u001b[0m \u001b[0mOutput\u001b[0m\u001b[0;34m:\u001b[0m \u001b[0;34m:\u001b[0m\u001b[0mmath\u001b[0m\u001b[0;34m:\u001b[0m\u001b[0;31m`\u001b[0m\u001b[0;34m(\u001b[0m\u001b[0mN\u001b[0m\u001b[0;34m,\u001b[0m \u001b[0;34m*\u001b[0m\u001b[0;34m,\u001b[0m \u001b[0mout\u001b[0m\u001b[0;31m\\\u001b[0m\u001b[0m_features\u001b[0m\u001b[0;34m)\u001b[0m\u001b[0;31m`\u001b[0m\u001b[0;34m\u001b[0m\u001b[0;34m\u001b[0m\u001b[0m\n\u001b[1;32m   1367\u001b[0m     \"\"\"\n\u001b[0;32m-> 1368\u001b[0;31m     \u001b[0;32mif\u001b[0m \u001b[0minput\u001b[0m\u001b[0;34m.\u001b[0m\u001b[0mdim\u001b[0m\u001b[0;34m(\u001b[0m\u001b[0;34m)\u001b[0m \u001b[0;34m==\u001b[0m \u001b[0;36m2\u001b[0m \u001b[0;32mand\u001b[0m \u001b[0mbias\u001b[0m \u001b[0;32mis\u001b[0m \u001b[0;32mnot\u001b[0m \u001b[0;32mNone\u001b[0m\u001b[0;34m:\u001b[0m\u001b[0;34m\u001b[0m\u001b[0;34m\u001b[0m\u001b[0m\n\u001b[0m\u001b[1;32m   1369\u001b[0m         \u001b[0;31m# fused op is marginally faster\u001b[0m\u001b[0;34m\u001b[0m\u001b[0;34m\u001b[0m\u001b[0;34m\u001b[0m\u001b[0m\n\u001b[1;32m   1370\u001b[0m         \u001b[0mret\u001b[0m \u001b[0;34m=\u001b[0m \u001b[0mtorch\u001b[0m\u001b[0;34m.\u001b[0m\u001b[0maddmm\u001b[0m\u001b[0;34m(\u001b[0m\u001b[0mbias\u001b[0m\u001b[0;34m,\u001b[0m \u001b[0minput\u001b[0m\u001b[0;34m,\u001b[0m \u001b[0mweight\u001b[0m\u001b[0;34m.\u001b[0m\u001b[0mt\u001b[0m\u001b[0;34m(\u001b[0m\u001b[0;34m)\u001b[0m\u001b[0;34m)\u001b[0m\u001b[0;34m\u001b[0m\u001b[0;34m\u001b[0m\u001b[0m\n",
      "\u001b[0;31mAttributeError\u001b[0m: 'numpy.ndarray' object has no attribute 'dim'"
     ]
    }
   ],
   "source": [
    "from sklearn.metrics import accuracy_score\n",
    "print(accuracy_score(model.predict(X),y))"
   ]
  },
  {
   "cell_type": "markdown",
   "metadata": {},
   "source": [
    "Let’s visualize the performance of the model by visualizing the decision boundary\n",
    " This is a function which returns the class (0 or 1) , given a single input"
   ]
  },
  {
   "cell_type": "code",
   "execution_count": 61,
   "metadata": {},
   "outputs": [],
   "source": [
    "def predict(x):\n",
    "    #Convert into numpy element to tensor\n",
    "    x = torch.from_numpy(x).type(torch.FloatTensor)\n",
    "    #Predict and return ans\n",
    "    ans = model.predict(x)\n",
    "    return ans.numpy()"
   ]
  },
  {
   "cell_type": "markdown",
   "metadata": {},
   "source": [
    "Below function plots the decision boundary. This is a very useful function , it gives a visual representation of how well your model is trained."
   ]
  },
  {
   "cell_type": "code",
   "execution_count": 62,
   "metadata": {},
   "outputs": [],
   "source": [
    "# Helper function to plot a decision boundary.\n",
    "def plot_decision_boundary(pred_func,X,y):\n",
    "    # Set min and max values and give it some padding\n",
    "    x_min, x_max = X[:, 0].min() - .5, X[:, 0].max() + .5\n",
    "    y_min, y_max = X[:, 1].min() - .5, X[:, 1].max() + .5\n",
    "    h = 0.01\n",
    "    # Generate a grid of points with distance h between them\n",
    "    xx,yy=np.meshgrid(np.arange(x_min, x_max, h), np.arange(y_min, y_max, h))\n",
    "    # Predict the function value for the whole gid\n",
    "    Z = pred_func(np.c_[xx.ravel(), yy.ravel()])\n",
    "    Z = Z.reshape(xx.shape)\n",
    "    # Plot the contour and training examples\n",
    "    plt.contourf(xx, yy, Z, cmap=plt.cm.Spectral)\n",
    "    plt.scatter(X[:, 0], X[:, 1], c=y, cmap=plt.cm.binary)"
   ]
  },
  {
   "cell_type": "code",
   "execution_count": 63,
   "metadata": {},
   "outputs": [
    {
     "name": "stderr",
     "output_type": "stream",
     "text": [
      "/usr/local/lib/python3.7/site-packages/ipykernel_launcher.py:27: UserWarning: Implicit dimension choice for softmax has been deprecated. Change the call to include dim=X as an argument.\n"
     ]
    },
    {
     "data": {
      "image/png": "[encoded data removed]",
      "text/plain": [
       "<Figure size 432x288 with 1 Axes>"
      ]
     },
     "metadata": {
      "needs_background": "light"
     },
     "output_type": "display_data"
    }
   ],
   "source": [
    "plot_decision_boundary(lambda x : predict(x) ,X.numpy(), y.numpy())"
   ]
  },
  {
   "cell_type": "code",
   "execution_count": null,
   "metadata": {},
   "outputs": [],
   "source": []
  }
 ],
 "metadata": {
  "kernelspec": {
   "display_name": "Python 3",
   "language": "python",
   "name": "python3"
  },
  "language_info": {
   "codemirror_mode": {
    "name": "ipython",
    "version": 3
   },
   "file_extension": ".py",
   "mimetype": "text/x-python",
   "name": "python",
   "nbconvert_exporter": "python",
   "pygments_lexer": "ipython3",
   "version": "3.7.6"
  }
 },
 "nbformat": 4,
 "nbformat_minor": 2
}
