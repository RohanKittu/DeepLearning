{
 "cells": [
  {
   "cell_type": "markdown",
   "metadata": {},
   "source": [
    "# OOPS"
   ]
  },
  {
   "cell_type": "markdown",
   "metadata": {},
   "source": [
    "creating a class and object"
   ]
  },
  {
   "cell_type": "code",
   "execution_count": 429,
   "metadata": {},
   "outputs": [
    {
     "name": "stdout",
     "output_type": "stream",
     "text": [
      "<__main__.A object at 0x12defd990>\n"
     ]
    }
   ],
   "source": [
    "class A():\n",
    "    pass\n",
    "c = A()\n",
    "print(c)"
   ]
  },
  {
   "cell_type": "markdown",
   "metadata": {},
   "source": [
    "The first parameter of the method must be refered as self ,self point to the class."
   ]
  },
  {
   "cell_type": "code",
   "execution_count": 430,
   "metadata": {},
   "outputs": [
    {
     "name": "stdout",
     "output_type": "stream",
     "text": [
      "hello welcome\n"
     ]
    }
   ],
   "source": [
    "class Ed():\n",
    "    def fu(self):\n",
    "        print(\"hello welcome\")\n",
    "d = Ed()\n",
    "d.fu()"
   ]
  },
  {
   "cell_type": "markdown",
   "metadata": {},
   "source": [
    "There are two type of class attributes present\n",
    "- user defined class attributes\n",
    "- in built class attributes"
   ]
  },
  {
   "cell_type": "markdown",
   "metadata": {},
   "source": [
    "### In build class attributes"
   ]
  },
  {
   "cell_type": "code",
   "execution_count": 431,
   "metadata": {},
   "outputs": [
    {
     "name": "stdout",
     "output_type": "stream",
     "text": [
      "{'__module__': '__main__', 'fu': <function Ed.fu at 0x12d313050>, '__dict__': <attribute '__dict__' of 'Ed' objects>, '__weakref__': <attribute '__weakref__' of 'Ed' objects>, '__doc__': None}\n",
      "None\n",
      "The class name is :-  Ed\n",
      "the module name is :-  __main__\n",
      "This module gives the base class names : - <class 'object'>\n"
     ]
    }
   ],
   "source": [
    "print(Ed.__dict__)\n",
    "#it shows the class documentation\n",
    "print(Ed.__doc__)\n",
    "#This gives the class name\n",
    "print(\"The class name is :- \",Ed.__name__)\n",
    "#this gives the module name in which the class is defined\n",
    "print(\"the module name is :- \",Ed.__module__)\n",
    "#The belowe attribute tells about the base class\n",
    "print(\"This module gives the base class names : -\",Ed.__base__)"
   ]
  },
  {
   "cell_type": "markdown",
   "metadata": {},
   "source": [
    "### user defined attributes"
   ]
  },
  {
   "cell_type": "code",
   "execution_count": 432,
   "metadata": {},
   "outputs": [],
   "source": [
    "class A():\n",
    "    def f():\n",
    "        pass"
   ]
  },
  {
   "cell_type": "markdown",
   "metadata": {},
   "source": [
    "There are some access specifier for the attributes\n",
    "- public\n",
    "- private\n",
    "- protected"
   ]
  },
  {
   "cell_type": "code",
   "execution_count": 433,
   "metadata": {},
   "outputs": [
    {
     "name": "stdout",
     "output_type": "stream",
     "text": [
      "The public variable is :-  hello i am public\n",
      "The protected variable is :-  hello i am protected\n"
     ]
    },
    {
     "ename": "AttributeError",
     "evalue": "'f' object has no attribute '__private'",
     "output_type": "error",
     "traceback": [
      "\u001b[0;31m---------------------------------------------------------------------------\u001b[0m",
      "\u001b[0;31mAttributeError\u001b[0m                            Traceback (most recent call last)",
      "\u001b[0;32m<ipython-input-433-0ab40d9c70e0>\u001b[0m in \u001b[0;36m<module>\u001b[0;34m\u001b[0m\n\u001b[1;32m      7\u001b[0m \u001b[0mprint\u001b[0m\u001b[0;34m(\u001b[0m\u001b[0;34m\"The public variable is :- \"\u001b[0m\u001b[0;34m,\u001b[0m\u001b[0mb\u001b[0m\u001b[0;34m.\u001b[0m\u001b[0mpublic\u001b[0m\u001b[0;34m)\u001b[0m\u001b[0;34m\u001b[0m\u001b[0;34m\u001b[0m\u001b[0m\n\u001b[1;32m      8\u001b[0m \u001b[0mprint\u001b[0m\u001b[0;34m(\u001b[0m\u001b[0;34m\"The protected variable is :- \"\u001b[0m\u001b[0;34m,\u001b[0m\u001b[0mb\u001b[0m\u001b[0;34m.\u001b[0m\u001b[0m_protected\u001b[0m\u001b[0;34m)\u001b[0m\u001b[0;34m\u001b[0m\u001b[0;34m\u001b[0m\u001b[0m\n\u001b[0;32m----> 9\u001b[0;31m \u001b[0mprint\u001b[0m\u001b[0;34m(\u001b[0m\u001b[0;34m\"Thr private variable is :- \"\u001b[0m\u001b[0;34m,\u001b[0m\u001b[0mb\u001b[0m\u001b[0;34m.\u001b[0m\u001b[0m__private\u001b[0m\u001b[0;34m)\u001b[0m\u001b[0;34m\u001b[0m\u001b[0;34m\u001b[0m\u001b[0m\n\u001b[0m",
      "\u001b[0;31mAttributeError\u001b[0m: 'f' object has no attribute '__private'"
     ]
    }
   ],
   "source": [
    "class f:\n",
    "    def __init__(self):\n",
    "        self.public = (\"hello i am public\")\n",
    "        self._protected = (\"hello i am protected\")\n",
    "        self.__private = (\"I am private\")\n",
    "b = f()\n",
    "print(\"The public variable is :- \",b.public)\n",
    "print(\"The protected variable is :- \",b._protected)\n",
    "print(\"Thr private variable is :- \",b.__private)"
   ]
  },
  {
   "cell_type": "markdown",
   "metadata": {},
   "source": [
    "Note : we can have public ,private and potected methods as wll"
   ]
  },
  {
   "cell_type": "markdown",
   "metadata": {},
   "source": [
    "#### class variable and instance variableB"
   ]
  },
  {
   "cell_type": "code",
   "execution_count": 434,
   "metadata": {},
   "outputs": [
    {
     "name": "stdout",
     "output_type": "stream",
     "text": [
      "hello\n"
     ]
    }
   ],
   "source": [
    "class G():\n",
    "    #class variable\n",
    "    name = \"hello\"\n",
    "    def some_name(self,name1):\n",
    "        #class variable\n",
    "        self.name1 = name1\n",
    "#instance variable\n",
    "obj = G()\n",
    "print(obj.name)\n",
    "obj.some_name(\"rohan\")"
   ]
  },
  {
   "cell_type": "markdown",
   "metadata": {},
   "source": [
    "#### cconstructure and distructure"
   ]
  },
  {
   "cell_type": "code",
   "execution_count": 435,
   "metadata": {},
   "outputs": [
    {
     "name": "stdout",
     "output_type": "stream",
     "text": [
      "constructure is init\n",
      "destructing the object\n"
     ]
    }
   ],
   "source": [
    "class D():\n",
    "    def __init__(self):\n",
    "        print(\"constructure is init\")\n",
    "    def __del__(self):\n",
    "        print(\"destructing the object\")\n",
    "\n",
    "if __name__ == \"__main__\":\n",
    "    b = D()\n",
    "    del b"
   ]
  },
  {
   "cell_type": "markdown",
   "metadata": {},
   "source": [
    "### multiple constructors"
   ]
  },
  {
   "cell_type": "code",
   "execution_count": 436,
   "metadata": {},
   "outputs": [
    {
     "data": {
      "text/plain": [
       "23"
      ]
     },
     "execution_count": 436,
     "metadata": {},
     "output_type": "execute_result"
    }
   ],
   "source": [
    "class D():\n",
    "    def __init__(self,name,roll_no,height,weight):\n",
    "        self.name = name\n",
    "        self.roll_no = roll_no\n",
    "        self.height = height\n",
    "        self.weight = weight\n",
    "    @classmethod\n",
    "    def r(self,roll_no,height,weight,name):\n",
    "        self.name = name\n",
    "        self.roll_no = roll_no\n",
    "        self.height = height\n",
    "        self.weight = weight\n",
    "v = D(\"rohan\",23,45,67)\n",
    "v.roll_no"
   ]
  },
  {
   "cell_type": "markdown",
   "metadata": {},
   "source": [
    "### inheretance\n",
    "single ingeretance"
   ]
  },
  {
   "cell_type": "code",
   "execution_count": 437,
   "metadata": {},
   "outputs": [
    {
     "name": "stdout",
     "output_type": "stream",
     "text": [
      "hello i am a base class\n"
     ]
    }
   ],
   "source": [
    "class base():\n",
    "    def fu(self):\n",
    "        print(\"hello i am a base class\")\n",
    "class child(base):\n",
    "    def f(self):\n",
    "        print(\"hello i am a child class\")\n",
    "c = child()\n",
    "c.fu()"
   ]
  },
  {
   "cell_type": "markdown",
   "metadata": {},
   "source": [
    "multiple inheretance and super keyword"
   ]
  },
  {
   "cell_type": "code",
   "execution_count": 438,
   "metadata": {},
   "outputs": [
    {
     "data": {
      "text/plain": [
       "'hello'"
      ]
     },
     "execution_count": 438,
     "metadata": {},
     "output_type": "execute_result"
    }
   ],
   "source": [
    "class base:\n",
    "    def __init__(self,name):\n",
    "        self.name = name\n",
    "    pass\n",
    "class ch(base):\n",
    "    def __init__(self,name):\n",
    "        super(). __init__(name)\n",
    "obj = ch(\"hello\")\n",
    "obj.name"
   ]
  },
  {
   "cell_type": "markdown",
   "metadata": {},
   "source": [
    "# Linear regression"
   ]
  },
  {
   "cell_type": "markdown",
   "metadata": {},
   "source": [
    "creating the data for linear regression"
   ]
  },
  {
   "cell_type": "code",
   "execution_count": 439,
   "metadata": {},
   "outputs": [],
   "source": [
    "import numpy as np\n",
    "# create dummy data for training\n",
    "\n",
    "#creating the x_values\n",
    "x_values = [i for i in range(11)]\n",
    "#making the list to array\n",
    "x_train = np.array(x_values, dtype=np.float32)\n",
    "#reshaping the array\n",
    "x_train = x_train.reshape(-1, 1)\n",
    "\n",
    "\n",
    "#creating the y_values \n",
    "y_values = [2*i + 1 for i in x_values]\n",
    "y_train = np.array(y_values, dtype=np.float32)\n",
    "y_train = y_train.reshape(-1, 1)"
   ]
  },
  {
   "cell_type": "code",
   "execution_count": 440,
   "metadata": {},
   "outputs": [
    {
     "data": {
      "text/plain": [
       "[0, 1, 2, 3, 4, 5, 6, 7, 8, 9, 10]"
      ]
     },
     "execution_count": 440,
     "metadata": {},
     "output_type": "execute_result"
    }
   ],
   "source": [
    "x_values"
   ]
  },
  {
   "cell_type": "code",
   "execution_count": 441,
   "metadata": {},
   "outputs": [
    {
     "data": {
      "text/plain": [
       "[1, 3, 5, 7, 9, 11, 13, 15, 17, 19, 21]"
      ]
     },
     "execution_count": 441,
     "metadata": {},
     "output_type": "execute_result"
    }
   ],
   "source": [
    "y_values"
   ]
  },
  {
   "cell_type": "code",
   "execution_count": 442,
   "metadata": {},
   "outputs": [
    {
     "data": {
      "text/plain": [
       "array([[ 0.],\n",
       "       [ 1.],\n",
       "       [ 2.],\n",
       "       [ 3.],\n",
       "       [ 4.],\n",
       "       [ 5.],\n",
       "       [ 6.],\n",
       "       [ 7.],\n",
       "       [ 8.],\n",
       "       [ 9.],\n",
       "       [10.]], dtype=float32)"
      ]
     },
     "execution_count": 442,
     "metadata": {},
     "output_type": "execute_result"
    }
   ],
   "source": [
    "x_train"
   ]
  },
  {
   "cell_type": "code",
   "execution_count": 443,
   "metadata": {},
   "outputs": [
    {
     "data": {
      "text/plain": [
       "array([[ 1.],\n",
       "       [ 3.],\n",
       "       [ 5.],\n",
       "       [ 7.],\n",
       "       [ 9.],\n",
       "       [11.],\n",
       "       [13.],\n",
       "       [15.],\n",
       "       [17.],\n",
       "       [19.],\n",
       "       [21.]], dtype=float32)"
      ]
     },
     "execution_count": 443,
     "metadata": {},
     "output_type": "execute_result"
    }
   ],
   "source": [
    "y_train"
   ]
  },
  {
   "cell_type": "markdown",
   "metadata": {},
   "source": [
    "creating the linear regression classifier"
   ]
  },
  {
   "cell_type": "code",
   "execution_count": 444,
   "metadata": {},
   "outputs": [],
   "source": [
    "import torch\n",
    "from torch.autograd import Variable\n",
    "class linearRegression(torch.nn.Module):\n",
    "    def __init__(self, inputSize, outputSize):\n",
    "        super(linearRegression, self).__init__()\n",
    "        self.linear = torch.nn.Linear(inputSize, outputSize)\n",
    "\n",
    "    def forward(self, x):\n",
    "        out = self.linear(x)\n",
    "        return out"
   ]
  },
  {
   "cell_type": "markdown",
   "metadata": {},
   "source": [
    "# using the network"
   ]
  },
  {
   "cell_type": "markdown",
   "metadata": {},
   "source": [
    "down below we are creating the neural network,where inputDim tells the number of input bubbles in the input layer,outputDim tells the number of output bubbles in the output layers."
   ]
  },
  {
   "cell_type": "code",
   "execution_count": 445,
   "metadata": {},
   "outputs": [],
   "source": [
    "inputDim = 1        # takes variable 'x' \n",
    "outputDim = 1       # takes variable 'y'\n",
    "learningRate = 0.01 \n",
    "epochs = 100\n",
    "\n",
    "#now the network is build.\n",
    "model = linearRegression(inputDim, outputDim)"
   ]
  },
  {
   "cell_type": "markdown",
   "metadata": {},
   "source": [
    "now we are passing the data into neural network."
   ]
  },
  {
   "cell_type": "markdown",
   "metadata": {},
   "source": [
    "After that, we initialize the loss (Mean Squared Error) and optimization (Stochastic Gradient Descent) functions that we’ll use in the training of this model."
   ]
  },
  {
   "cell_type": "code",
   "execution_count": 446,
   "metadata": {},
   "outputs": [],
   "source": [
    "criterion = torch.nn.MSELoss() \n",
    "optimizer = torch.optim.SGD(model.parameters(), lr=learningRate)"
   ]
  },
  {
   "cell_type": "markdown",
   "metadata": {},
   "source": [
    "After completing all the initializations, we can now begin to train our model. Following is the code for training the model."
   ]
  },
  {
   "cell_type": "code",
   "execution_count": 447,
   "metadata": {},
   "outputs": [
    {
     "name": "stdout",
     "output_type": "stream",
     "text": [
      "tensor(228.6360, grad_fn=<MseLossBackward>)\n",
      "epoch 0, loss 228.63597106933594\n",
      "tensor(18.6512, grad_fn=<MseLossBackward>)\n",
      "epoch 1, loss 18.651185989379883\n",
      "tensor(1.5234, grad_fn=<MseLossBackward>)\n",
      "epoch 2, loss 1.5233683586120605\n",
      "tensor(0.1263, grad_fn=<MseLossBackward>)\n",
      "epoch 3, loss 0.12628339231014252\n",
      "tensor(0.0123, grad_fn=<MseLossBackward>)\n",
      "epoch 4, loss 0.012304503470659256\n",
      "tensor(0.0030, grad_fn=<MseLossBackward>)\n",
      "epoch 5, loss 0.002985354047268629\n",
      "tensor(0.0022, grad_fn=<MseLossBackward>)\n",
      "epoch 6, loss 0.0022030582185834646\n",
      "tensor(0.0021, grad_fn=<MseLossBackward>)\n",
      "epoch 7, loss 0.002117373514920473\n",
      "tensor(0.0021, grad_fn=<MseLossBackward>)\n",
      "epoch 8, loss 0.00208874698728323\n",
      "tensor(0.0021, grad_fn=<MseLossBackward>)\n",
      "epoch 9, loss 0.0020650196820497513\n",
      "tensor(0.0020, grad_fn=<MseLossBackward>)\n",
      "epoch 10, loss 0.002041914965957403\n",
      "tensor(0.0020, grad_fn=<MseLossBackward>)\n",
      "epoch 11, loss 0.002019123872742057\n",
      "tensor(0.0020, grad_fn=<MseLossBackward>)\n",
      "epoch 12, loss 0.0019965735264122486\n",
      "tensor(0.0020, grad_fn=<MseLossBackward>)\n",
      "epoch 13, loss 0.0019742692820727825\n",
      "tensor(0.0020, grad_fn=<MseLossBackward>)\n",
      "epoch 14, loss 0.0019522157963365316\n",
      "tensor(0.0019, grad_fn=<MseLossBackward>)\n",
      "epoch 15, loss 0.0019304356537759304\n",
      "tensor(0.0019, grad_fn=<MseLossBackward>)\n",
      "epoch 16, loss 0.0019088729750365019\n",
      "tensor(0.0019, grad_fn=<MseLossBackward>)\n",
      "epoch 17, loss 0.001887557446025312\n",
      "tensor(0.0019, grad_fn=<MseLossBackward>)\n",
      "epoch 18, loss 0.0018664853414520621\n",
      "tensor(0.0018, grad_fn=<MseLossBackward>)\n",
      "epoch 19, loss 0.0018456469988450408\n",
      "tensor(0.0018, grad_fn=<MseLossBackward>)\n",
      "epoch 20, loss 0.001825035666115582\n",
      "tensor(0.0018, grad_fn=<MseLossBackward>)\n",
      "epoch 21, loss 0.0018046636832877994\n",
      "tensor(0.0018, grad_fn=<MseLossBackward>)\n",
      "epoch 22, loss 0.0017844941467046738\n",
      "tensor(0.0018, grad_fn=<MseLossBackward>)\n",
      "epoch 23, loss 0.0017645644256845117\n",
      "tensor(0.0017, grad_fn=<MseLossBackward>)\n",
      "epoch 24, loss 0.0017448844155296683\n",
      "tensor(0.0017, grad_fn=<MseLossBackward>)\n",
      "epoch 25, loss 0.0017253811238333583\n",
      "tensor(0.0017, grad_fn=<MseLossBackward>)\n",
      "epoch 26, loss 0.0017061165999621153\n",
      "tensor(0.0017, grad_fn=<MseLossBackward>)\n",
      "epoch 27, loss 0.0016870490508154035\n",
      "tensor(0.0017, grad_fn=<MseLossBackward>)\n",
      "epoch 28, loss 0.0016682096756994724\n",
      "tensor(0.0016, grad_fn=<MseLossBackward>)\n",
      "epoch 29, loss 0.0016495900927111506\n",
      "tensor(0.0016, grad_fn=<MseLossBackward>)\n",
      "epoch 30, loss 0.0016311734216287732\n",
      "tensor(0.0016, grad_fn=<MseLossBackward>)\n",
      "epoch 31, loss 0.0016129682771861553\n",
      "tensor(0.0016, grad_fn=<MseLossBackward>)\n",
      "epoch 32, loss 0.001594939036294818\n",
      "tensor(0.0016, grad_fn=<MseLossBackward>)\n",
      "epoch 33, loss 0.0015771142207086086\n",
      "tensor(0.0016, grad_fn=<MseLossBackward>)\n",
      "epoch 34, loss 0.0015595384174957871\n",
      "tensor(0.0015, grad_fn=<MseLossBackward>)\n",
      "epoch 35, loss 0.0015420869458466768\n",
      "tensor(0.0015, grad_fn=<MseLossBackward>)\n",
      "epoch 36, loss 0.0015248872805386782\n",
      "tensor(0.0015, grad_fn=<MseLossBackward>)\n",
      "epoch 37, loss 0.0015078395372256637\n",
      "tensor(0.0015, grad_fn=<MseLossBackward>)\n",
      "epoch 38, loss 0.001491032657213509\n",
      "tensor(0.0015, grad_fn=<MseLossBackward>)\n",
      "epoch 39, loss 0.0014743647770956159\n",
      "tensor(0.0015, grad_fn=<MseLossBackward>)\n",
      "epoch 40, loss 0.0014579236740246415\n",
      "tensor(0.0014, grad_fn=<MseLossBackward>)\n",
      "epoch 41, loss 0.0014416129561141133\n",
      "tensor(0.0014, grad_fn=<MseLossBackward>)\n",
      "epoch 42, loss 0.0014255259884521365\n",
      "tensor(0.0014, grad_fn=<MseLossBackward>)\n",
      "epoch 43, loss 0.0014096120139583945\n",
      "tensor(0.0014, grad_fn=<MseLossBackward>)\n",
      "epoch 44, loss 0.0013938500778749585\n",
      "tensor(0.0014, grad_fn=<MseLossBackward>)\n",
      "epoch 45, loss 0.0013782897731289268\n",
      "tensor(0.0014, grad_fn=<MseLossBackward>)\n",
      "epoch 46, loss 0.0013629008317366242\n",
      "tensor(0.0013, grad_fn=<MseLossBackward>)\n",
      "epoch 47, loss 0.00134768127463758\n",
      "tensor(0.0013, grad_fn=<MseLossBackward>)\n",
      "epoch 48, loss 0.0013326512416824698\n",
      "tensor(0.0013, grad_fn=<MseLossBackward>)\n",
      "epoch 49, loss 0.0013177525252103806\n",
      "tensor(0.0013, grad_fn=<MseLossBackward>)\n",
      "epoch 50, loss 0.0013030244736000896\n",
      "tensor(0.0013, grad_fn=<MseLossBackward>)\n",
      "epoch 51, loss 0.0012885082978755236\n",
      "tensor(0.0013, grad_fn=<MseLossBackward>)\n",
      "epoch 52, loss 0.0012741140089929104\n",
      "tensor(0.0013, grad_fn=<MseLossBackward>)\n",
      "epoch 53, loss 0.001259878627024591\n",
      "tensor(0.0012, grad_fn=<MseLossBackward>)\n",
      "epoch 54, loss 0.0012458133278414607\n",
      "tensor(0.0012, grad_fn=<MseLossBackward>)\n",
      "epoch 55, loss 0.001231878180988133\n",
      "tensor(0.0012, grad_fn=<MseLossBackward>)\n",
      "epoch 56, loss 0.0012181394267827272\n",
      "tensor(0.0012, grad_fn=<MseLossBackward>)\n",
      "epoch 57, loss 0.001204540254548192\n",
      "tensor(0.0012, grad_fn=<MseLossBackward>)\n",
      "epoch 58, loss 0.0011910699540749192\n",
      "tensor(0.0012, grad_fn=<MseLossBackward>)\n",
      "epoch 59, loss 0.001177778816781938\n",
      "tensor(0.0012, grad_fn=<MseLossBackward>)\n",
      "epoch 60, loss 0.001164617482572794\n",
      "tensor(0.0012, grad_fn=<MseLossBackward>)\n",
      "epoch 61, loss 0.0011516246013343334\n",
      "tensor(0.0011, grad_fn=<MseLossBackward>)\n",
      "epoch 62, loss 0.0011387595441192389\n",
      "tensor(0.0011, grad_fn=<MseLossBackward>)\n",
      "epoch 63, loss 0.0011260502506047487\n",
      "tensor(0.0011, grad_fn=<MseLossBackward>)\n",
      "epoch 64, loss 0.0011134776286780834\n",
      "tensor(0.0011, grad_fn=<MseLossBackward>)\n",
      "epoch 65, loss 0.001101041561923921\n",
      "tensor(0.0011, grad_fn=<MseLossBackward>)\n",
      "epoch 66, loss 0.0010887429816648364\n",
      "tensor(0.0011, grad_fn=<MseLossBackward>)\n",
      "epoch 67, loss 0.0010765717597678304\n",
      "tensor(0.0011, grad_fn=<MseLossBackward>)\n",
      "epoch 68, loss 0.0010645772563293576\n",
      "tensor(0.0011, grad_fn=<MseLossBackward>)\n",
      "epoch 69, loss 0.0010526779806241393\n",
      "tensor(0.0010, grad_fn=<MseLossBackward>)\n",
      "epoch 70, loss 0.001040926668792963\n",
      "tensor(0.0010, grad_fn=<MseLossBackward>)\n",
      "epoch 71, loss 0.0010292981751263142\n",
      "tensor(0.0010, grad_fn=<MseLossBackward>)\n",
      "epoch 72, loss 0.0010177972726523876\n",
      "tensor(0.0010, grad_fn=<MseLossBackward>)\n",
      "epoch 73, loss 0.0010064539965242147\n",
      "tensor(0.0010, grad_fn=<MseLossBackward>)\n",
      "epoch 74, loss 0.0009952026885002851\n",
      "tensor(0.0010, grad_fn=<MseLossBackward>)\n",
      "epoch 75, loss 0.0009840906132012606\n",
      "tensor(0.0010, grad_fn=<MseLossBackward>)\n",
      "epoch 76, loss 0.0009730944293551147\n",
      "tensor(0.0010, grad_fn=<MseLossBackward>)\n",
      "epoch 77, loss 0.0009622379438951612\n",
      "tensor(0.0010, grad_fn=<MseLossBackward>)\n",
      "epoch 78, loss 0.0009514887351542711\n",
      "tensor(0.0009, grad_fn=<MseLossBackward>)\n",
      "epoch 79, loss 0.0009408561163581908\n",
      "tensor(0.0009, grad_fn=<MseLossBackward>)\n",
      "epoch 80, loss 0.0009303588303737342\n",
      "tensor(0.0009, grad_fn=<MseLossBackward>)\n",
      "epoch 81, loss 0.0009199650958180428\n",
      "tensor(0.0009, grad_fn=<MseLossBackward>)\n",
      "epoch 82, loss 0.0009096948197111487\n",
      "tensor(0.0009, grad_fn=<MseLossBackward>)\n",
      "epoch 83, loss 0.0008995202952064574\n",
      "tensor(0.0009, grad_fn=<MseLossBackward>)\n",
      "epoch 84, loss 0.0008894934435375035\n",
      "tensor(0.0009, grad_fn=<MseLossBackward>)\n",
      "epoch 85, loss 0.0008795628091320395\n",
      "tensor(0.0009, grad_fn=<MseLossBackward>)\n",
      "epoch 86, loss 0.0008697452722117305\n",
      "tensor(0.0009, grad_fn=<MseLossBackward>)\n",
      "epoch 87, loss 0.0008600315195508301\n",
      "tensor(0.0009, grad_fn=<MseLossBackward>)\n",
      "epoch 88, loss 0.0008504342986270785\n",
      "tensor(0.0008, grad_fn=<MseLossBackward>)\n",
      "epoch 89, loss 0.0008409332949668169\n",
      "tensor(0.0008, grad_fn=<MseLossBackward>)\n",
      "epoch 90, loss 0.0008315405575558543\n",
      "tensor(0.0008, grad_fn=<MseLossBackward>)\n",
      "epoch 91, loss 0.0008222405449487269\n",
      "tensor(0.0008, grad_fn=<MseLossBackward>)\n",
      "epoch 92, loss 0.0008130705100484192\n",
      "tensor(0.0008, grad_fn=<MseLossBackward>)\n",
      "epoch 93, loss 0.0008039838867262006\n",
      "tensor(0.0008, grad_fn=<MseLossBackward>)\n",
      "epoch 94, loss 0.0007950106519274414\n",
      "tensor(0.0008, grad_fn=<MseLossBackward>)\n",
      "epoch 95, loss 0.0007861295598559082\n",
      "tensor(0.0008, grad_fn=<MseLossBackward>)\n",
      "epoch 96, loss 0.0007773541146889329\n",
      "tensor(0.0008, grad_fn=<MseLossBackward>)\n",
      "epoch 97, loss 0.0007686791359446943\n",
      "tensor(0.0008, grad_fn=<MseLossBackward>)\n",
      "epoch 98, loss 0.0007600842509418726\n",
      "tensor(0.0008, grad_fn=<MseLossBackward>)\n",
      "epoch 99, loss 0.0007516042096540332\n"
     ]
    }
   ],
   "source": [
    "for epoch in range(epochs):\n",
    "    # Converting inputs and labels to Variable\n",
    "    if torch.cuda.is_available():\n",
    "        inputs = Variable(torch.from_numpy(x_train).cuda())\n",
    "        labels = Variable(torch.from_numpy(y_train).cuda())\n",
    "    else:\n",
    "        inputs = Variable(torch.from_numpy(x_train))\n",
    "        labels = Variable(torch.from_numpy(y_train))\n",
    "\n",
    "    # Clear gradient buffers because we don't want any gradient from previous epoch to carry forward, dont want to cummulate gradients\n",
    "    optimizer.zero_grad()\n",
    "\n",
    "    # get output from the model, given the inputs\n",
    "    outputs = model(inputs)\n",
    "\n",
    "    # get loss for the predicted output\n",
    "    loss = criterion(outputs, labels)\n",
    "    print(loss)\n",
    "    # get gradients w.r.t to parameters\n",
    "    loss.backward()\n",
    "\n",
    "    # update parameters\n",
    "    optimizer.step()\n",
    "\n",
    "    print('epoch {}, loss {}'.format(epoch, loss.item()))"
   ]
  },
  {
   "cell_type": "markdown",
   "metadata": {},
   "source": [
    "Now that our Linear Regression Model is trained, let’s test it. Since it’s a very trivial model, we’ll test this on our existing dataset and also plot to see the original vs the predicted outputs."
   ]
  },
  {
   "cell_type": "code",
   "execution_count": 448,
   "metadata": {},
   "outputs": [
    {
     "name": "stdout",
     "output_type": "stream",
     "text": [
      "[[ 0.9490019]\n",
      " [ 2.956346 ]\n",
      " [ 4.9636903]\n",
      " [ 6.9710345]\n",
      " [ 8.978379 ]\n",
      " [10.9857235]\n",
      " [12.993068 ]\n",
      " [15.000412 ]\n",
      " [17.007755 ]\n",
      " [19.015099 ]\n",
      " [21.022444 ]]\n"
     ]
    },
    {
     "data": {
      "image/png": "[encoded data removed]",
      "text/plain": [
       "<Figure size 432x288 with 1 Axes>"
      ]
     },
     "metadata": {
      "needs_background": "light"
     },
     "output_type": "display_data"
    }
   ],
   "source": [
    "from matplotlib import pyplot as plt\n",
    "with torch.no_grad(): # we don't need gradients in the testing phase\n",
    "    if torch.cuda.is_available():\n",
    "        predicted = model(Variable(torch.from_numpy(x_train).cuda())).cpu().data.numpy()\n",
    "    else:\n",
    "        predicted = model(Variable(torch.from_numpy(x_train))).data.numpy()\n",
    "    print(predicted)\n",
    "\n",
    "plt.clf()\n",
    "plt.plot(x_train, y_train, 'go', label='True data', alpha=0.5)\n",
    "plt.plot(x_train, predicted, '--', label='Predictions', alpha=0.5)\n",
    "plt.legend(loc='best')\n",
    "plt.show()"
   ]
  },
  {
   "cell_type": "code",
   "execution_count": null,
   "metadata": {},
   "outputs": [],
   "source": []
  },
  {
   "cell_type": "code",
   "execution_count": 482,
   "metadata": {},
   "outputs": [],
   "source": [
    "import torch"
   ]
  },
  {
   "cell_type": "code",
   "execution_count": 483,
   "metadata": {},
   "outputs": [
    {
     "data": {
      "text/plain": [
       "tensor(1)"
      ]
     },
     "execution_count": 483,
     "metadata": {},
     "output_type": "execute_result"
    }
   ],
   "source": [
    "torch.tensor(1)"
   ]
  },
  {
   "cell_type": "code",
   "execution_count": 484,
   "metadata": {},
   "outputs": [
    {
     "data": {
      "text/plain": [
       "tensor([12,  3])"
      ]
     },
     "execution_count": 484,
     "metadata": {},
     "output_type": "execute_result"
    }
   ],
   "source": [
    "torch.tensor([12,3])"
   ]
  },
  {
   "cell_type": "code",
   "execution_count": 485,
   "metadata": {},
   "outputs": [],
   "source": [
    "x=torch.tensor([[1,2,3],[4,56,6]])\n",
    "y=torch.tensor([[78,89,45],[90,89,54]])"
   ]
  },
  {
   "cell_type": "markdown",
   "metadata": {},
   "source": [
    "# Appling ANN on the vector data"
   ]
  },
  {
   "cell_type": "markdown",
   "metadata": {},
   "source": [
    "note :- If we have the regression problem ,then we should not apply activation function,if its a classification problem ,then we apply activation function"
   ]
  },
  {
   "cell_type": "markdown",
   "metadata": {},
   "source": [
    "# data preperation and preprocessing"
   ]
  },
  {
   "cell_type": "code",
   "execution_count": 486,
   "metadata": {},
   "outputs": [],
   "source": [
    "import numpy as np\n",
    "# create dummy data for training\n",
    "\n",
    "#creating the x_values\n",
    "x_values = [i for i in range(11)]\n",
    "#making the list to array\n",
    "x_train = np.array(x_values, dtype=np.float32)\n",
    "#reshaping the array\n",
    "x_train = x_train.reshape(-1, 1)\n",
    "\n",
    "\n",
    "#creating the y_values \n",
    "y_values = [2*i + 1 for i in x_values]\n",
    "y_train = np.array(y_values, dtype=np.float32)\n",
    "y_train = y_train.reshape(-1, 1)"
   ]
  },
  {
   "cell_type": "code",
   "execution_count": 487,
   "metadata": {},
   "outputs": [
    {
     "data": {
      "text/plain": [
       "array([[ 1.],\n",
       "       [ 3.],\n",
       "       [ 5.],\n",
       "       [ 7.],\n",
       "       [ 9.],\n",
       "       [11.],\n",
       "       [13.],\n",
       "       [15.],\n",
       "       [17.],\n",
       "       [19.],\n",
       "       [21.]], dtype=float32)"
      ]
     },
     "execution_count": 487,
     "metadata": {},
     "output_type": "execute_result"
    }
   ],
   "source": [
    "x_train\n",
    "y_train"
   ]
  },
  {
   "cell_type": "code",
   "execution_count": 488,
   "metadata": {},
   "outputs": [
    {
     "data": {
      "text/plain": [
       "'1.3.1'"
      ]
     },
     "execution_count": 488,
     "metadata": {},
     "output_type": "execute_result"
    }
   ],
   "source": [
    "torch.__version__"
   ]
  },
  {
   "cell_type": "code",
   "execution_count": 489,
   "metadata": {},
   "outputs": [],
   "source": [
    "#defining the neural network frame work.\n",
    "import torch\n",
    "from torch.autograd import Variable\n",
    "class linearRegression(torch.nn.Module):\n",
    "    def __init__(self, inputSize, outputSize):\n",
    "        super(linearRegression, self).__init__()\n",
    "        self.layer1 = torch.nn.Linear(inputSize, outputSize)\n",
    "        self.layer2 = torch.nn.Linear(outputSize,outputSize)\n",
    "    def forward(self, x):\n",
    "        layer1_output = self.layer1(x)\n",
    "        layer2_output = self.layer2(layer1_output)\n",
    "        return layer2_output\n",
    "        #return layer1_output"
   ]
  },
  {
   "cell_type": "code",
   "execution_count": 490,
   "metadata": {},
   "outputs": [
    {
     "name": "stdout",
     "output_type": "stream",
     "text": [
      "linearRegression(\n",
      "  (layer1): Linear(in_features=1, out_features=1, bias=True)\n",
      "  (layer2): Linear(in_features=1, out_features=1, bias=True)\n",
      ")\n"
     ]
    }
   ],
   "source": [
    "#initilizing the neural network\n",
    "brain = linearRegression(1,1)\n",
    "print(brain)"
   ]
  },
  {
   "cell_type": "code",
   "execution_count": 491,
   "metadata": {},
   "outputs": [],
   "source": [
    "#few parameter for the running the model.\n",
    "learning_rate = 0.01\n",
    "epoch = 100"
   ]
  },
  {
   "cell_type": "markdown",
   "metadata": {},
   "source": [
    "Step 3) Optimizer and Loss\n",
    "Next, you should define the Optimizer and the Loss Function for our training process."
   ]
  },
  {
   "cell_type": "code",
   "execution_count": 492,
   "metadata": {},
   "outputs": [],
   "source": [
    "# Define Optimizer and Loss Function\n",
    "optimizer = torch.optim.SGD(brain.parameters(), lr=learning_rate)\n",
    "loss_func = torch.nn.MSELoss()"
   ]
  },
  {
   "cell_type": "markdown",
   "metadata": {},
   "source": [
    "Step 4) Training\n",
    "\n",
    "Now let's start our training process. With an epoch of 250, you will iterate our data to find the best value for our hyperparameters."
   ]
  },
  {
   "cell_type": "code",
   "execution_count": 493,
   "metadata": {},
   "outputs": [],
   "source": [
    "x=Variable(torch.from_numpy(x_train),requires_grad=True)\n",
    "y=Variable(torch.from_numpy(y_train),requires_grad=True)"
   ]
  },
  {
   "cell_type": "code",
   "execution_count": 494,
   "metadata": {},
   "outputs": [
    {
     "name": "stdout",
     "output_type": "stream",
     "text": [
      "epoch 0, loss 138.03195190429688 \n",
      "epoch 1, loss 13.34854793548584 \n",
      "epoch 2, loss 40.27155685424805 \n",
      "epoch 3, loss 141.5234832763672 \n",
      "epoch 4, loss 38.470733642578125 \n",
      "epoch 5, loss 53.58150863647461 \n",
      "epoch 6, loss 156.42030334472656 \n",
      "epoch 7, loss 113.56758117675781 \n",
      "epoch 8, loss 5.216117858886719 \n",
      "epoch 9, loss 16.254133224487305 \n",
      "epoch 10, loss 64.8109130859375 \n",
      "epoch 11, loss 23.054851531982422 \n",
      "epoch 12, loss 86.7938461303711 \n",
      "epoch 13, loss 3.3117876052856445 \n",
      "epoch 14, loss 12.900925636291504 \n",
      "epoch 15, loss 31.247724533081055 \n",
      "epoch 16, loss 108.26042938232422 \n",
      "epoch 17, loss 5.051312446594238 \n",
      "epoch 18, loss 14.602633476257324 \n",
      "epoch 19, loss 56.136112213134766 \n",
      "epoch 20, loss 25.649555206298828 \n",
      "epoch 21, loss 90.85212707519531 \n",
      "epoch 22, loss 0.44618624448776245 \n",
      "epoch 23, loss 0.7807616591453552 \n",
      "epoch 24, loss 1.931172490119934 \n",
      "epoch 25, loss 6.636483669281006 \n",
      "epoch 26, loss 17.766050338745117 \n",
      "epoch 27, loss 65.75749206542969 \n",
      "epoch 28, loss 14.220378875732422 \n",
      "epoch 29, loss 53.04012680053711 \n",
      "epoch 30, loss 24.508569717407227 \n",
      "epoch 31, loss 85.10555267333984 \n",
      "epoch 32, loss 0.9174984097480774 \n",
      "epoch 33, loss 2.398853063583374 \n",
      "epoch 34, loss 6.618032932281494 \n",
      "epoch 35, loss 24.318714141845703 \n",
      "epoch 36, loss 35.35862731933594 \n",
      "epoch 37, loss 110.3955078125 \n",
      "epoch 38, loss 17.17125129699707 \n",
      "epoch 39, loss 29.95075035095215 \n",
      "epoch 40, loss 96.04425811767578 \n",
      "epoch 41, loss 3.6635382175445557 \n",
      "epoch 42, loss 9.208412170410156 \n",
      "epoch 43, loss 32.32748794555664 \n",
      "epoch 44, loss 30.914440155029297 \n",
      "epoch 45, loss 96.47761535644531 \n",
      "epoch 46, loss 5.537357807159424 \n",
      "epoch 47, loss 12.850276947021484 \n",
      "epoch 48, loss 43.94932556152344 \n",
      "epoch 49, loss 22.506444931030273 \n",
      "epoch 50, loss 73.17369842529297 \n",
      "epoch 51, loss 2.1303205490112305 \n",
      "epoch 52, loss 5.999044895172119 \n",
      "epoch 53, loss 13.365839004516602 \n",
      "epoch 54, loss 44.905147552490234 \n",
      "epoch 55, loss 20.214340209960938 \n",
      "epoch 56, loss 65.58685302734375 \n",
      "epoch 57, loss 4.939755439758301 \n",
      "epoch 58, loss 15.660327911376953 \n",
      "epoch 59, loss 24.524158477783203 \n",
      "epoch 60, loss 76.65485382080078 \n",
      "epoch 61, loss 0.6448674201965332 \n",
      "epoch 62, loss 0.8401756882667542 \n",
      "epoch 63, loss 1.4150116443634033 \n",
      "epoch 64, loss 3.4441566467285156 \n",
      "epoch 65, loss 7.835045337677002 \n",
      "epoch 66, loss 25.56580924987793 \n",
      "epoch 67, loss 26.695253372192383 \n",
      "epoch 68, loss 81.39691162109375 \n",
      "epoch 69, loss 0.9215436577796936 \n",
      "epoch 70, loss 1.6342238187789917 \n",
      "epoch 71, loss 4.136447429656982 \n",
      "epoch 72, loss 9.091439247131348 \n",
      "epoch 73, loss 29.400129318237305 \n",
      "epoch 74, loss 24.88031005859375 \n",
      "epoch 75, loss 75.81057739257812 \n",
      "epoch 76, loss 0.5106651782989502 \n",
      "epoch 77, loss 0.4994114935398102 \n",
      "epoch 78, loss 0.4982239603996277 \n",
      "epoch 79, loss 0.526918888092041 \n",
      "epoch 80, loss 0.6365034580230713 \n",
      "epoch 81, loss 1.0151273012161255 \n",
      "epoch 82, loss 2.016042709350586 \n",
      "epoch 83, loss 5.560888290405273 \n",
      "epoch 84, loss 11.670258522033691 \n",
      "epoch 85, loss 37.71627426147461 \n",
      "epoch 86, loss 20.431303024291992 \n",
      "epoch 87, loss 63.561710357666016 \n",
      "epoch 88, loss 3.421790838241577 \n",
      "epoch 89, loss 10.084000587463379 \n",
      "epoch 90, loss 17.540843963623047 \n",
      "epoch 91, loss 54.829586029052734 \n",
      "epoch 92, loss 7.802517890930176 \n",
      "epoch 93, loss 24.38818359375 \n",
      "epoch 94, loss 23.360881805419922 \n",
      "epoch 95, loss 69.94237518310547 \n",
      "epoch 96, loss 0.7137946486473083 \n",
      "epoch 97, loss 1.2044588327407837 \n",
      "epoch 98, loss 2.387991189956665 \n",
      "epoch 99, loss 6.521340847015381 \n"
     ]
    }
   ],
   "source": [
    "for i in range(epoch):\n",
    "    prediction = brain(x)\n",
    "    optimizer.zero_grad()\n",
    "    loss = loss_func(prediction,y)\n",
    "    loss.backward()        \n",
    "    optimizer.step()\n",
    "    print('epoch {}, loss {} '.format(i, loss.item()))"
   ]
  },
  {
   "cell_type": "code",
   "execution_count": 495,
   "metadata": {},
   "outputs": [
    {
     "data": {
      "text/plain": [
       "tensor([[ 2.3154],\n",
       "        [ 4.7117],\n",
       "        [ 7.1079],\n",
       "        [ 9.5042],\n",
       "        [11.9005],\n",
       "        [14.2967],\n",
       "        [16.6930],\n",
       "        [19.0892],\n",
       "        [21.4855],\n",
       "        [23.8818],\n",
       "        [26.2780]], grad_fn=<AddmmBackward>)"
      ]
     },
     "execution_count": 495,
     "metadata": {},
     "output_type": "execute_result"
    }
   ],
   "source": [
    "brain(x)"
   ]
  },
  {
   "cell_type": "code",
   "execution_count": 496,
   "metadata": {},
   "outputs": [],
   "source": [
    "pre=brain(x)\n",
    "pre=pre.detach().numpy()"
   ]
  },
  {
   "cell_type": "code",
   "execution_count": 497,
   "metadata": {},
   "outputs": [
    {
     "name": "stdout",
     "output_type": "stream",
     "text": [
      "The error is :-  3.5268320449627972\n"
     ]
    }
   ],
   "source": [
    "from sklearn.metrics import mean_squared_error\n",
    "from math import sqrt\n",
    "rms = sqrt(mean_squared_error(y.detach().numpy(),pre))\n",
    "print(\"The error is :- \",rms)"
   ]
  },
  {
   "cell_type": "code",
   "execution_count": 498,
   "metadata": {},
   "outputs": [
    {
     "data": {
      "image/png": "[encoded data removed]",
      "text/plain": [
       "<Figure size 432x288 with 1 Axes>"
      ]
     },
     "metadata": {
      "needs_background": "light"
     },
     "output_type": "display_data"
    }
   ],
   "source": [
    "plt.clf()\n",
    "plt.plot(x_train, y_train, 'go', label='True data', alpha=0.5)\n",
    "plt.plot(x_train, pre, '--', label='Predictions', alpha=0.5)\n",
    "plt.legend(loc='best')\n",
    "plt.show()"
   ]
  },
  {
   "cell_type": "markdown",
   "metadata": {},
   "source": [
    "### Predicting a new value"
   ]
  },
  {
   "cell_type": "code",
   "execution_count": 499,
   "metadata": {},
   "outputs": [
    {
     "data": {
      "text/plain": [
       "tensor([[14.2967]], grad_fn=<AddmmBackward>)"
      ]
     },
     "execution_count": 499,
     "metadata": {},
     "output_type": "execute_result"
    }
   ],
   "source": [
    "brain(Variable(torch.tensor([[float(5)]])))"
   ]
  },
  {
   "cell_type": "markdown",
   "metadata": {},
   "source": [
    "# Neural network for classification"
   ]
  },
  {
   "cell_type": "code",
   "execution_count": 500,
   "metadata": {},
   "outputs": [],
   "source": [
    "x_train = np.array([i for i in range(0,12)],dtype = np.float32)\n",
    "y_train = np.array([0,1,0,1,0,1,0,1,0,1,0,1],dtype = np.float32)"
   ]
  },
  {
   "cell_type": "code",
   "execution_count": 501,
   "metadata": {},
   "outputs": [],
   "source": [
    "x_train = x_train.reshape(-1, 1)\n",
    "y_train = y_train.reshape(-1,1)"
   ]
  },
  {
   "cell_type": "markdown",
   "metadata": {},
   "source": [
    "Defining the structure of the network"
   ]
  },
  {
   "cell_type": "code",
   "execution_count": 539,
   "metadata": {},
   "outputs": [],
   "source": [
    "class LogisticRegression(torch.nn.Module):\n",
    "    def __init__(self,inputSize, outputSize):\n",
    "        super(LogisticRegression, self).__init__()\n",
    "        self.linear = torch.nn.Linear(inputSize, outputSize)\n",
    "        self.sigmoid = torch.nn.Sigmoid()\n",
    "    def forward(self, x):\n",
    "        #As logistic regression use sigmoid function,so we are using sigmoid as our activation function.\n",
    "        output = self.linear(x)\n",
    "        y_pred = self.sigmoid(output)\n",
    "        return y_pred"
   ]
  },
  {
   "cell_type": "markdown",
   "metadata": {},
   "source": [
    "creating the model of the above neural network structure"
   ]
  },
  {
   "cell_type": "code",
   "execution_count": 540,
   "metadata": {},
   "outputs": [],
   "source": [
    "model = LogisticRegression(1,1)"
   ]
  },
  {
   "cell_type": "code",
   "execution_count": 541,
   "metadata": {},
   "outputs": [],
   "source": [
    "#few parameter for the running the model.\n",
    "learning_rate = 0.01\n",
    "epoch = 100"
   ]
  },
  {
   "cell_type": "markdown",
   "metadata": {},
   "source": [
    "For the loss function, we use Binary Cross-Entropy (BCE), which is known as the binary logarithmic loss function. This is commonly used for logistic regression tasks since we are predicting a binary value as output."
   ]
  },
  {
   "cell_type": "code",
   "execution_count": 542,
   "metadata": {},
   "outputs": [],
   "source": [
    "# Define Optimizer and Loss Function\n",
    "optimizer = torch.optim.SGD(brain.parameters(), lr=learning_rate)\n",
    "#loss_func = torch.nn.MSELoss() for regression\n",
    "loss_func = torch.nn.BCELoss(size_average=True) "
   ]
  },
  {
   "cell_type": "code",
   "execution_count": 543,
   "metadata": {},
   "outputs": [
    {
     "data": {
      "text/plain": [
       "12"
      ]
     },
     "execution_count": 543,
     "metadata": {},
     "output_type": "execute_result"
    }
   ],
   "source": [
    "len(y_train)"
   ]
  },
  {
   "cell_type": "code",
   "execution_count": 544,
   "metadata": {},
   "outputs": [],
   "source": [
    "x=Variable(torch.from_numpy(x_train),requires_grad=True)\n",
    "y=Variable(torch.from_numpy(y_train),requires_grad=True)"
   ]
  },
  {
   "cell_type": "code",
   "execution_count": 545,
   "metadata": {},
   "outputs": [
    {
     "data": {
      "text/plain": [
       "tensor([[0.],\n",
       "        [1.],\n",
       "        [0.],\n",
       "        [1.],\n",
       "        [0.],\n",
       "        [1.],\n",
       "        [0.],\n",
       "        [1.],\n",
       "        [0.],\n",
       "        [1.],\n",
       "        [0.],\n",
       "        [1.]], requires_grad=True)"
      ]
     },
     "execution_count": 545,
     "metadata": {},
     "output_type": "execute_result"
    }
   ],
   "source": [
    "y"
   ]
  },
  {
   "cell_type": "code",
   "execution_count": 546,
   "metadata": {},
   "outputs": [
    {
     "ename": "RuntimeError",
     "evalue": "the derivative for 'target' is not implemented",
     "output_type": "error",
     "traceback": [
      "\u001b[0;31m---------------------------------------------------------------------------\u001b[0m",
      "\u001b[0;31mRuntimeError\u001b[0m                              Traceback (most recent call last)",
      "\u001b[0;32m<ipython-input-546-a6cd233ae6b4>\u001b[0m in \u001b[0;36m<module>\u001b[0;34m\u001b[0m\n\u001b[1;32m      3\u001b[0m     \u001b[0mprediction\u001b[0m \u001b[0;34m=\u001b[0m \u001b[0mmodel\u001b[0m\u001b[0;34m(\u001b[0m\u001b[0mx\u001b[0m\u001b[0;34m)\u001b[0m\u001b[0;34m\u001b[0m\u001b[0;34m\u001b[0m\u001b[0m\n\u001b[1;32m      4\u001b[0m     \u001b[0moptimizer\u001b[0m\u001b[0;34m.\u001b[0m\u001b[0mzero_grad\u001b[0m\u001b[0;34m(\u001b[0m\u001b[0;34m)\u001b[0m\u001b[0;34m\u001b[0m\u001b[0;34m\u001b[0m\u001b[0m\n\u001b[0;32m----> 5\u001b[0;31m     \u001b[0mloss\u001b[0m \u001b[0;34m=\u001b[0m \u001b[0mloss_func\u001b[0m\u001b[0;34m(\u001b[0m\u001b[0mprediction\u001b[0m\u001b[0;34m,\u001b[0m\u001b[0my\u001b[0m\u001b[0;34m)\u001b[0m\u001b[0;34m\u001b[0m\u001b[0;34m\u001b[0m\u001b[0m\n\u001b[0m\u001b[1;32m      6\u001b[0m     \u001b[0mloss\u001b[0m\u001b[0;34m.\u001b[0m\u001b[0mbackward\u001b[0m\u001b[0;34m(\u001b[0m\u001b[0;34m)\u001b[0m\u001b[0;34m\u001b[0m\u001b[0;34m\u001b[0m\u001b[0m\n\u001b[1;32m      7\u001b[0m     \u001b[0moptimizer\u001b[0m\u001b[0;34m.\u001b[0m\u001b[0mstep\u001b[0m\u001b[0;34m(\u001b[0m\u001b[0;34m)\u001b[0m\u001b[0;34m\u001b[0m\u001b[0;34m\u001b[0m\u001b[0m\n",
      "\u001b[0;32m/usr/local/lib/python3.7/site-packages/torch/nn/modules/module.py\u001b[0m in \u001b[0;36m__call__\u001b[0;34m(self, *input, **kwargs)\u001b[0m\n\u001b[1;32m    539\u001b[0m             \u001b[0mresult\u001b[0m \u001b[0;34m=\u001b[0m \u001b[0mself\u001b[0m\u001b[0;34m.\u001b[0m\u001b[0m_slow_forward\u001b[0m\u001b[0;34m(\u001b[0m\u001b[0;34m*\u001b[0m\u001b[0minput\u001b[0m\u001b[0;34m,\u001b[0m \u001b[0;34m**\u001b[0m\u001b[0mkwargs\u001b[0m\u001b[0;34m)\u001b[0m\u001b[0;34m\u001b[0m\u001b[0;34m\u001b[0m\u001b[0m\n\u001b[1;32m    540\u001b[0m         \u001b[0;32melse\u001b[0m\u001b[0;34m:\u001b[0m\u001b[0;34m\u001b[0m\u001b[0;34m\u001b[0m\u001b[0m\n\u001b[0;32m--> 541\u001b[0;31m             \u001b[0mresult\u001b[0m \u001b[0;34m=\u001b[0m \u001b[0mself\u001b[0m\u001b[0;34m.\u001b[0m\u001b[0mforward\u001b[0m\u001b[0;34m(\u001b[0m\u001b[0;34m*\u001b[0m\u001b[0minput\u001b[0m\u001b[0;34m,\u001b[0m \u001b[0;34m**\u001b[0m\u001b[0mkwargs\u001b[0m\u001b[0;34m)\u001b[0m\u001b[0;34m\u001b[0m\u001b[0;34m\u001b[0m\u001b[0m\n\u001b[0m\u001b[1;32m    542\u001b[0m         \u001b[0;32mfor\u001b[0m \u001b[0mhook\u001b[0m \u001b[0;32min\u001b[0m \u001b[0mself\u001b[0m\u001b[0;34m.\u001b[0m\u001b[0m_forward_hooks\u001b[0m\u001b[0;34m.\u001b[0m\u001b[0mvalues\u001b[0m\u001b[0;34m(\u001b[0m\u001b[0;34m)\u001b[0m\u001b[0;34m:\u001b[0m\u001b[0;34m\u001b[0m\u001b[0;34m\u001b[0m\u001b[0m\n\u001b[1;32m    543\u001b[0m             \u001b[0mhook_result\u001b[0m \u001b[0;34m=\u001b[0m \u001b[0mhook\u001b[0m\u001b[0;34m(\u001b[0m\u001b[0mself\u001b[0m\u001b[0;34m,\u001b[0m \u001b[0minput\u001b[0m\u001b[0;34m,\u001b[0m \u001b[0mresult\u001b[0m\u001b[0;34m)\u001b[0m\u001b[0;34m\u001b[0m\u001b[0;34m\u001b[0m\u001b[0m\n",
      "\u001b[0;32m/usr/local/lib/python3.7/site-packages/torch/nn/modules/loss.py\u001b[0m in \u001b[0;36mforward\u001b[0;34m(self, input, target)\u001b[0m\n\u001b[1;32m    496\u001b[0m \u001b[0;34m\u001b[0m\u001b[0m\n\u001b[1;32m    497\u001b[0m     \u001b[0;32mdef\u001b[0m \u001b[0mforward\u001b[0m\u001b[0;34m(\u001b[0m\u001b[0mself\u001b[0m\u001b[0;34m,\u001b[0m \u001b[0minput\u001b[0m\u001b[0;34m,\u001b[0m \u001b[0mtarget\u001b[0m\u001b[0;34m)\u001b[0m\u001b[0;34m:\u001b[0m\u001b[0;34m\u001b[0m\u001b[0;34m\u001b[0m\u001b[0m\n\u001b[0;32m--> 498\u001b[0;31m         \u001b[0;32mreturn\u001b[0m \u001b[0mF\u001b[0m\u001b[0;34m.\u001b[0m\u001b[0mbinary_cross_entropy\u001b[0m\u001b[0;34m(\u001b[0m\u001b[0minput\u001b[0m\u001b[0;34m,\u001b[0m \u001b[0mtarget\u001b[0m\u001b[0;34m,\u001b[0m \u001b[0mweight\u001b[0m\u001b[0;34m=\u001b[0m\u001b[0mself\u001b[0m\u001b[0;34m.\u001b[0m\u001b[0mweight\u001b[0m\u001b[0;34m,\u001b[0m \u001b[0mreduction\u001b[0m\u001b[0;34m=\u001b[0m\u001b[0mself\u001b[0m\u001b[0;34m.\u001b[0m\u001b[0mreduction\u001b[0m\u001b[0;34m)\u001b[0m\u001b[0;34m\u001b[0m\u001b[0;34m\u001b[0m\u001b[0m\n\u001b[0m\u001b[1;32m    499\u001b[0m \u001b[0;34m\u001b[0m\u001b[0m\n\u001b[1;32m    500\u001b[0m \u001b[0;34m\u001b[0m\u001b[0m\n",
      "\u001b[0;32m/usr/local/lib/python3.7/site-packages/torch/nn/functional.py\u001b[0m in \u001b[0;36mbinary_cross_entropy\u001b[0;34m(input, target, weight, size_average, reduce, reduction)\u001b[0m\n\u001b[1;32m   2063\u001b[0m \u001b[0;34m\u001b[0m\u001b[0m\n\u001b[1;32m   2064\u001b[0m     return torch._C._nn.binary_cross_entropy(\n\u001b[0;32m-> 2065\u001b[0;31m         input, target, weight, reduction_enum)\n\u001b[0m\u001b[1;32m   2066\u001b[0m \u001b[0;34m\u001b[0m\u001b[0m\n\u001b[1;32m   2067\u001b[0m \u001b[0;34m\u001b[0m\u001b[0m\n",
      "\u001b[0;31mRuntimeError\u001b[0m: the derivative for 'target' is not implemented"
     ]
    }
   ],
   "source": [
    "for i in range(epoch):\n",
    "    model.train()\n",
    "    prediction = model(x)\n",
    "    optimizer.zero_grad()\n",
    "    loss = loss_func(prediction,y)\n",
    "    loss.backward()        \n",
    "    optimizer.step()\n",
    "    print('epoch {}, loss {} '.format(i, loss.item()))"
   ]
  },
  {
   "cell_type": "code",
   "execution_count": null,
   "metadata": {},
   "outputs": [],
   "source": []
  },
  {
   "cell_type": "code",
   "execution_count": null,
   "metadata": {},
   "outputs": [],
   "source": []
  },
  {
   "cell_type": "markdown",
   "metadata": {},
   "source": [
    "# Manually building weights and biases\n",
    "One way to approach this is by building all the blocks. This is a low level approach, but it may be suited if you’re trying to reproduce the latest and greatest deep learning architecture on a paper you just just read. Or maybe if you want to develop a customized layer. Either way, PyTorch has you covered. You’ll need to define your weights and biases, but if you’re comfortable at that level, you’re good to go. The key thing here is that you will need to tell PyTorch what is variable or optimizable in your network, so that PyTorch knows how to perform gradient descent on your network. Let’s look at how someone might approach this in low level PyTorch:"
   ]
  },
  {
   "cell_type": "code",
   "execution_count": 537,
   "metadata": {},
   "outputs": [],
   "source": [
    "import torch\n",
    "import torch.nn.functional as F\n",
    "\n",
    "# generating some random features\n",
    "features = torch.randn(1, 16) \n",
    "\n",
    "# define the weights\n",
    "W1 = torch.randn((16, 12), requires_grad=True)\n",
    "W2 = torch.randn((12, 10), requires_grad=True)\n",
    "W3 = torch.randn((10, 1), requires_grad=True)\n",
    "\n",
    "# define the bias terms\n",
    "B1 = torch.randn((12), requires_grad=True)\n",
    "B2 = torch.randn((10), requires_grad=True)\n",
    "B3 = torch.randn((1), requires_grad=True)\n",
    "\n",
    "# calculate hidden and output layers\n",
    "h1 = F.relu((features @ W1) + B1)\n",
    "h2 = F.relu((h1 @ W2) + B2)\n",
    "output = torch.sigmoid((h2 @ W3) + B3)"
   ]
  },
  {
   "cell_type": "markdown",
   "metadata": {},
   "source": [
    "# 2. Extending the torch.nn.Model Class\n",
    "In practice, most of us will likely use predefined layers and activation functions to train our networks. There are a couple of routes to go if you’re headed in this direction. A more elegant approach involves creating your own neural network python class, by extending the Model class from torch.nn. There are many advantages of defining a neural network this way and perhaps most notably, it allows one to inherit all of the functionality of the torch.nn module while allowing the flexibility of overwriting the default model construction and forward pass method. In this approach, we will define two methods:\n",
    "1. The class constructor, __init__\n",
    "2. The forward method\n",
    "The first is the initializer of the class and is where you’ll define the layers that will compose the network. Typically we don’t need to define the activation functions here since they can be defined in the forward pass (i.e. in the forward method), but it’s not a rule and you can certainly do that if you want to (we’ll actually see an example at the end).\n",
    "The second method is where you define the forward pass. This method takes an input that represents the features the model will be trained on. Here, you can call the activation functions and pass in as parameters the layers you’ve previously defined in the constructor method. You’ll need to pass the input as an argument to the first layer and after processing the activations, that output can be fed into the next layer and so on.\n",
    "Let’s take a look at how we could do this in practice:"
   ]
  },
  {
   "cell_type": "code",
   "execution_count": 538,
   "metadata": {},
   "outputs": [
    {
     "name": "stdout",
     "output_type": "stream",
     "text": [
      "MyNetwork(\n",
      "  (fc1): Linear(in_features=16, out_features=12, bias=True)\n",
      "  (fc2): Linear(in_features=12, out_features=10, bias=True)\n",
      "  (fc3): Linear(in_features=10, out_features=1, bias=True)\n",
      ")\n"
     ]
    }
   ],
   "source": [
    "import torch\n",
    "import torch.nn.functional as F\n",
    "from torch import nn\n",
    "\n",
    "# define the network class\n",
    "class MyNetwork(nn.Module):\n",
    "    def __init__(self):\n",
    "        # call constructor from superclass\n",
    "        super().__init__()\n",
    "        \n",
    "        # define network layers\n",
    "        self.fc1 = nn.Linear(16, 12)\n",
    "        self.fc2 = nn.Linear(12, 10)\n",
    "        self.fc3 = nn.Linear(10, 1)\n",
    "        \n",
    "    def forward(self, x):\n",
    "        # define forward pass\n",
    "        x = F.relu(self.fc1(x))\n",
    "        x = F.relu(self.fc2(x))\n",
    "        x = torch.sigmoid(self.fc3(x))\n",
    "        return x\n",
    "\n",
    "# instantiate the model\n",
    "model = MyNetwork()\n",
    "\n",
    "# print model architecture\n",
    "print(model)"
   ]
  },
  {
   "cell_type": "markdown",
   "metadata": {},
   "source": [
    "# 3. Using torch.nn.Sequential\n",
    "There is still a more compact way to define neural networks in pytorch. This is a modular approach, made possible by the torch.nn.Sequential module and is especially appealing if you come from a Keras background, where you can define sequential layers, kind of like building something from lego blocks. This is a very similar approach to Keras’s sequential API and leverages the torch.nn pre-built layers and activation functions. Using this approach, our feed-forward network can be defined a follows:"
   ]
  },
  {
   "cell_type": "code",
   "execution_count": 246,
   "metadata": {},
   "outputs": [
    {
     "name": "stdout",
     "output_type": "stream",
     "text": [
      "Sequential(\n",
      "  (0): Linear(in_features=16, out_features=12, bias=True)\n",
      "  (1): ReLU()\n",
      "  (2): Linear(in_features=12, out_features=10, bias=True)\n",
      "  (3): ReLU()\n",
      "  (4): Linear(in_features=10, out_features=1, bias=True)\n",
      "  (5): Sigmoid()\n",
      ")\n"
     ]
    }
   ],
   "source": [
    "from torch import nn\n",
    "\n",
    "# define model architecture\n",
    "model = nn.Sequential(\n",
    "    nn.Linear(16, 12),\n",
    "    nn.ReLU(),\n",
    "    nn.Linear(12, 10),\n",
    "    nn.ReLU(),\n",
    "    nn.Linear(10, 1),\n",
    "    nn.Sigmoid()\n",
    ")\n",
    "\n",
    "# print model architecture\n",
    "print(model)"
   ]
  },
  {
   "cell_type": "code",
   "execution_count": null,
   "metadata": {},
   "outputs": [],
   "source": []
  },
  {
   "cell_type": "code",
   "execution_count": null,
   "metadata": {},
   "outputs": [],
   "source": []
  },
  {
   "cell_type": "code",
   "execution_count": null,
   "metadata": {},
   "outputs": [],
   "source": []
  }
 ],
 "metadata": {
  "kernelspec": {
   "display_name": "Python 3",
   "language": "python",
   "name": "python3"
  },
  "language_info": {
   "codemirror_mode": {
    "name": "ipython",
    "version": 3
   },
   "file_extension": ".py",
   "mimetype": "text/x-python",
   "name": "python",
   "nbconvert_exporter": "python",
   "pygments_lexer": "ipython3",
   "version": "3.7.6"
  }
 },
 "nbformat": 4,
 "nbformat_minor": 2
}
