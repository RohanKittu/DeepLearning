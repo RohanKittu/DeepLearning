{
 "cells": [
  {
   "cell_type": "markdown",
   "metadata": {},
   "source": [
    "# Linear regression on vector data "
   ]
  },
  {
   "cell_type": "code",
   "execution_count": 27,
   "metadata": {},
   "outputs": [],
   "source": [
    "import numpy as np\n",
    "# create dummy data for training\n",
    "\n",
    "#creating the x_values\n",
    "x_values = [i for i in range(11)]\n",
    "#making the list to array\n",
    "x_train = np.array(x_values, dtype=np.float32)\n",
    "#reshaping the array\n",
    "x_train = x_train.reshape(-1, 1)\n",
    "\n",
    "\n",
    "#creating the y_values \n",
    "y_values = [2*i + 1 for i in x_values]\n",
    "y_train = np.array(y_values, dtype=np.float32)\n",
    "y_train = y_train.reshape(-1, 1)"
   ]
  },
  {
   "cell_type": "code",
   "execution_count": 28,
   "metadata": {},
   "outputs": [
    {
     "data": {
      "text/plain": [
       "array([[ 1.],\n",
       "       [ 3.],\n",
       "       [ 5.],\n",
       "       [ 7.],\n",
       "       [ 9.],\n",
       "       [11.],\n",
       "       [13.],\n",
       "       [15.],\n",
       "       [17.],\n",
       "       [19.],\n",
       "       [21.]], dtype=float32)"
      ]
     },
     "execution_count": 28,
     "metadata": {},
     "output_type": "execute_result"
    }
   ],
   "source": [
    "x_train\n",
    "y_train"
   ]
  },
  {
   "cell_type": "code",
   "execution_count": 29,
   "metadata": {},
   "outputs": [],
   "source": [
    "#defining the neural network frame work.\n",
    "import torch\n",
    "from torch.autograd import Variable\n",
    "class linearRegression(torch.nn.Module):\n",
    "    def __init__(self, inputSize, outputSize):\n",
    "        super(linearRegression, self).__init__()\n",
    "        self.layer1 = torch.nn.Linear(inputSize, outputSize)\n",
    "        self.layer2 = torch.nn.Linear(outputSize,outputSize)\n",
    "    def forward(self, x):\n",
    "        layer1_output = self.layer1(x)\n",
    "        layer2_output = self.layer2(layer1_output)\n",
    "        return layer2_output\n",
    "        #return layer1_output"
   ]
  },
  {
   "cell_type": "code",
   "execution_count": 30,
   "metadata": {},
   "outputs": [
    {
     "name": "stdout",
     "output_type": "stream",
     "text": [
      "linearRegression(\n",
      "  (layer1): Linear(in_features=1, out_features=1, bias=True)\n",
      "  (layer2): Linear(in_features=1, out_features=1, bias=True)\n",
      ")\n"
     ]
    }
   ],
   "source": [
    "#initilizing the neural network\n",
    "brain = linearRegression(1,1)\n",
    "print(brain)"
   ]
  },
  {
   "cell_type": "code",
   "execution_count": 31,
   "metadata": {},
   "outputs": [],
   "source": [
    "#few parameter for the running the model.\n",
    "learning_rate = 0.01\n",
    "epoch = 100"
   ]
  },
  {
   "cell_type": "code",
   "execution_count": 32,
   "metadata": {},
   "outputs": [],
   "source": [
    "# Define Optimizer and Loss Function\n",
    "optimizer = torch.optim.SGD(brain.parameters(), lr=learning_rate)\n",
    "loss_func = torch.nn.MSELoss()"
   ]
  },
  {
   "cell_type": "code",
   "execution_count": 33,
   "metadata": {},
   "outputs": [],
   "source": [
    "x=Variable(torch.from_numpy(x_train),requires_grad=True)\n",
    "y=Variable(torch.from_numpy(y_train),requires_grad=True)"
   ]
  },
  {
   "cell_type": "code",
   "execution_count": 34,
   "metadata": {},
   "outputs": [
    {
     "name": "stdout",
     "output_type": "stream",
     "text": [
      "epoch 0, loss 165.81227111816406 \n",
      "epoch 1, loss 60.16057205200195 \n",
      "epoch 2, loss 40.318546295166016 \n",
      "epoch 3, loss 130.6571044921875 \n",
      "epoch 4, loss 38.761531829833984 \n",
      "epoch 5, loss 40.63197326660156 \n",
      "epoch 6, loss 127.54048156738281 \n",
      "epoch 7, loss 40.30809020996094 \n",
      "epoch 8, loss 35.52171325683594 \n",
      "epoch 9, loss 114.16018676757812 \n",
      "epoch 10, loss 18.32438850402832 \n",
      "epoch 11, loss 32.83439636230469 \n",
      "epoch 12, loss 105.82597351074219 \n",
      "epoch 13, loss 10.009312629699707 \n",
      "epoch 14, loss 22.40444564819336 \n",
      "epoch 15, loss 77.27056884765625 \n",
      "epoch 16, loss 1.9088091850280762 \n",
      "epoch 17, loss 6.835679531097412 \n",
      "epoch 18, loss 16.557743072509766 \n",
      "epoch 19, loss 58.56588363647461 \n",
      "epoch 20, loss 13.157283782958984 \n",
      "epoch 21, loss 46.89773941040039 \n",
      "epoch 22, loss 21.58282470703125 \n",
      "epoch 23, loss 72.57183074951172 \n",
      "epoch 24, loss 2.489957094192505 \n",
      "epoch 25, loss 8.578851699829102 \n",
      "epoch 26, loss 18.420595169067383 \n",
      "epoch 27, loss 62.4051399230957 \n",
      "epoch 28, loss 7.5808024406433105 \n",
      "epoch 29, loss 26.459558486938477 \n",
      "epoch 30, loss 28.500242233276367 \n",
      "epoch 31, loss 88.40524291992188 \n",
      "epoch 32, loss 2.264831781387329 \n",
      "epoch 33, loss 5.7541093826293945 \n",
      "epoch 34, loss 19.511356353759766 \n",
      "epoch 35, loss 26.167085647583008 \n",
      "epoch 36, loss 81.19469451904297 \n",
      "epoch 37, loss 0.43462255597114563 \n",
      "epoch 38, loss 0.9777494668960571 \n",
      "epoch 39, loss 2.843600273132324 \n",
      "epoch 40, loss 6.873941421508789 \n",
      "epoch 41, loss 22.92646598815918 \n",
      "epoch 42, loss 25.670543670654297 \n",
      "epoch 43, loss 78.66889190673828 \n",
      "epoch 44, loss 0.3135629892349243 \n",
      "epoch 45, loss 0.5900549292564392 \n",
      "epoch 46, loss 1.5011680126190186 \n",
      "epoch 47, loss 3.6569838523864746 \n",
      "epoch 48, loss 11.686920166015625 \n",
      "epoch 49, loss 19.61876106262207 \n",
      "epoch 50, loss 61.814453125 \n",
      "epoch 51, loss 3.92299747467041 \n",
      "epoch 52, loss 12.376938819885254 \n",
      "epoch 53, loss 19.719337463378906 \n",
      "epoch 54, loss 61.357666015625 \n",
      "epoch 55, loss 3.5810210704803467 \n",
      "epoch 56, loss 11.050822257995605 \n",
      "epoch 57, loss 18.08226776123047 \n",
      "epoch 58, loss 56.12502670288086 \n",
      "epoch 59, loss 5.828454971313477 \n",
      "epoch 60, loss 18.194299697875977 \n",
      "epoch 61, loss 21.721952438354492 \n",
      "epoch 62, loss 65.24359893798828 \n",
      "epoch 63, loss 1.2000638246536255 \n",
      "epoch 64, loss 3.1538572311401367 \n",
      "epoch 65, loss 6.724593639373779 \n",
      "epoch 66, loss 20.77998924255371 \n",
      "epoch 67, loss 21.422597885131836 \n",
      "epoch 68, loss 63.634098052978516 \n",
      "epoch 69, loss 1.3274773359298706 \n",
      "epoch 70, loss 3.469207763671875 \n",
      "epoch 71, loss 7.145233154296875 \n",
      "epoch 72, loss 21.787691116333008 \n",
      "epoch 73, loss 20.67690658569336 \n",
      "epoch 74, loss 60.90193176269531 \n",
      "epoch 75, loss 1.842313289642334 \n",
      "epoch 76, loss 4.954217910766602 \n",
      "epoch 77, loss 9.401955604553223 \n",
      "epoch 78, loss 28.406261444091797 \n",
      "epoch 79, loss 18.61688995361328 \n",
      "epoch 80, loss 54.67214584350586 \n",
      "epoch 81, loss 3.962344169616699 \n",
      "epoch 82, loss 11.318312644958496 \n",
      "epoch 83, loss 15.998961448669434 \n",
      "epoch 84, loss 47.0457649230957 \n",
      "epoch 85, loss 7.639744758605957 \n",
      "epoch 86, loss 22.4022274017334 \n",
      "epoch 87, loss 18.622602462768555 \n",
      "epoch 88, loss 53.55863952636719 \n",
      "epoch 89, loss 3.617128849029541 \n",
      "epoch 90, loss 9.972423553466797 \n",
      "epoch 91, loss 14.299269676208496 \n",
      "epoch 92, loss 41.403446197509766 \n",
      "epoch 93, loss 9.815268516540527 \n",
      "epoch 94, loss 28.328332901000977 \n",
      "epoch 95, loss 16.07709312438965 \n",
      "epoch 96, loss 45.78419494628906 \n",
      "epoch 97, loss 6.710017204284668 \n",
      "epoch 98, loss 18.873573303222656 \n",
      "epoch 99, loss 17.106225967407227 \n"
     ]
    }
   ],
   "source": [
    "for i in range(epoch):\n",
    "    prediction = brain(x)\n",
    "    optimizer.zero_grad()\n",
    "    loss = loss_func(prediction,y)\n",
    "    loss.backward()        \n",
    "    optimizer.step()\n",
    "    print('epoch {}, loss {} '.format(i, loss.item()))"
   ]
  },
  {
   "cell_type": "code",
   "execution_count": 35,
   "metadata": {},
   "outputs": [
    {
     "data": {
      "text/plain": [
       "tensor([[2.0071],\n",
       "        [2.6950],\n",
       "        [3.3829],\n",
       "        [4.0708],\n",
       "        [4.7587],\n",
       "        [5.4466],\n",
       "        [6.1345],\n",
       "        [6.8224],\n",
       "        [7.5103],\n",
       "        [8.1982],\n",
       "        [8.8861]], grad_fn=<AddmmBackward>)"
      ]
     },
     "execution_count": 35,
     "metadata": {},
     "output_type": "execute_result"
    }
   ],
   "source": [
    "brain(x)"
   ]
  },
  {
   "cell_type": "code",
   "execution_count": 36,
   "metadata": {},
   "outputs": [],
   "source": [
    "pre=brain(x)\n",
    "pre=pre.detach().numpy()"
   ]
  },
  {
   "cell_type": "code",
   "execution_count": 37,
   "metadata": {},
   "outputs": [
    {
     "name": "stdout",
     "output_type": "stream",
     "text": [
      "The error is :-  6.932285032739673\n"
     ]
    }
   ],
   "source": [
    "from sklearn.metrics import mean_squared_error\n",
    "from math import sqrt\n",
    "rms = sqrt(mean_squared_error(y.detach().numpy(),pre))\n",
    "print(\"The error is :- \",rms)"
   ]
  },
  {
   "cell_type": "code",
   "execution_count": 38,
   "metadata": {},
   "outputs": [
    {
     "data": {
      "image/png": "[encoded data removed]",
      "text/plain": [
       "<Figure size 432x288 with 1 Axes>"
      ]
     },
     "metadata": {
      "needs_background": "light"
     },
     "output_type": "display_data"
    }
   ],
   "source": [
    "from matplotlib import pyplot as plt\n",
    "plt.clf()\n",
    "plt.plot(x_train, y_train, 'go', label='True data', alpha=0.5)\n",
    "plt.plot(x_train, pre, '--', label='Predictions', alpha=0.5)\n",
    "plt.legend(loc='best')\n",
    "plt.show()"
   ]
  },
  {
   "cell_type": "code",
   "execution_count": null,
   "metadata": {},
   "outputs": [],
   "source": []
  },
  {
   "cell_type": "code",
   "execution_count": null,
   "metadata": {},
   "outputs": [],
   "source": []
  }
 ],
 "metadata": {
  "kernelspec": {
   "display_name": "Python 3",
   "language": "python",
   "name": "python3"
  },
  "language_info": {
   "codemirror_mode": {
    "name": "ipython",
    "version": 3
   },
   "file_extension": ".py",
   "mimetype": "text/x-python",
   "name": "python",
   "nbconvert_exporter": "python",
   "pygments_lexer": "ipython3",
   "version": "3.7.6"
  }
 },
 "nbformat": 4,
 "nbformat_minor": 2
}
